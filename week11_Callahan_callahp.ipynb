{
  "cells": [
    {
      "cell_type": "markdown",
      "metadata": {
        "id": "view-in-github",
        "colab_type": "text"
      },
      "source": [
        "<a href=\"https://colab.research.google.com/github/peter-callahan/vanderbilt/blob/main/week11_Callahan_callahp.ipynb\" target=\"_parent\"><img src=\"https://colab.research.google.com/assets/colab-badge.svg\" alt=\"Open In Colab\"/></a>"
      ]
    },
    {
      "cell_type": "markdown",
      "metadata": {
        "id": "yeIXFfAumNWV"
      },
      "source": [
        "# Neural Network In Pytorch\n",
        "This assignment aims to get familiarized with building the whole pipeline of deep learning in Pytorch to perform classification and test it out on the CIFAR-10 dataset. All the code will be implemented in this notebook.\n",
        "\n",
        "Other resources:\n",
        "1. http://home.mit.bme.hu/~hadhazi/Oktatas/NN18/dem3/html_demo/CIFAR-10Demo.html\n",
        "2. https://www.cs.toronto.edu/~kriz/cifar.html"
      ]
    },
    {
      "cell_type": "code",
      "source": [
        "from google.colab import drive\n",
        "drive.mount('/content/drive')"
      ],
      "metadata": {
        "colab": {
          "base_uri": "https://localhost:8080/"
        },
        "id": "X-9QRZ165TN9",
        "outputId": "9549acee-e8e1-4e49-d135-f3ba1e8a7f8c"
      },
      "execution_count": 1,
      "outputs": [
        {
          "output_type": "stream",
          "name": "stdout",
          "text": [
            "Drive already mounted at /content/drive; to attempt to forcibly remount, call drive.mount(\"/content/drive\", force_remount=True).\n"
          ]
        }
      ]
    },
    {
      "cell_type": "code",
      "execution_count": 2,
      "metadata": {
        "id": "J3HggVCdm8iV",
        "colab": {
          "base_uri": "https://localhost:8080/"
        },
        "outputId": "f0f8cd8a-4411-4a82-e378-37aa66faa467"
      },
      "outputs": [
        {
          "output_type": "stream",
          "name": "stdout",
          "text": [
            "/content/drive/MyDrive/Colab Notebooks/neural_net_pytorch\n"
          ]
        }
      ],
      "source": [
        "%cd '/content/drive/MyDrive/Colab Notebooks/neural_net_pytorch'"
      ]
    },
    {
      "cell_type": "markdown",
      "metadata": {
        "id": "soWnE8qOuQwg"
      },
      "source": [
        "First, let's install modules not already installed by Google Colab."
      ]
    },
    {
      "cell_type": "code",
      "execution_count": 3,
      "metadata": {
        "id": "75XndHcNuL0r",
        "colab": {
          "base_uri": "https://localhost:8080/"
        },
        "outputId": "5ed8f54a-cc71-4c84-f4fc-91103bf67dd2"
      },
      "outputs": [
        {
          "output_type": "stream",
          "name": "stdout",
          "text": [
            "Looking in indexes: https://pypi.org/simple, https://us-python.pkg.dev/colab-wheels/public/simple/\n",
            "Requirement already satisfied: torch_utils in /usr/local/lib/python3.7/dist-packages (0.1.2)\n",
            "Requirement already satisfied: torch in /usr/local/lib/python3.7/dist-packages (from torch_utils) (1.12.0+cu113)\n",
            "Requirement already satisfied: typing-extensions in /usr/local/lib/python3.7/dist-packages (from torch->torch_utils) (4.1.1)\n"
          ]
        }
      ],
      "source": [
        "! pip install torch_utils"
      ]
    },
    {
      "cell_type": "markdown",
      "metadata": {
        "id": "Mzuptv--6uXv"
      },
      "source": [
        "## Task 1: Design the Neural Network and Data Preparation\n"
      ]
    },
    {
      "cell_type": "markdown",
      "metadata": {
        "id": "kTcfx8MFFxRz"
      },
      "source": [
        "In the beginning, please import all the packages you need. We provide some packages here, which might be helpful when you build your code."
      ]
    },
    {
      "cell_type": "code",
      "execution_count": 4,
      "metadata": {
        "id": "v4wg5xqcxNEi"
      },
      "outputs": [],
      "source": [
        "from IPython.core.interactiveshell import InteractiveShell\n",
        "InteractiveShell.ast_node_interactivity = \"all\"\n",
        "\n",
        "# import modules\n",
        "import pandas as pd\n",
        "import numpy as np\n",
        "import matplotlib.pyplot as plt\n",
        "import torch\n",
        "from torch import cuda\n",
        "import torch.nn as nn\n",
        "from torch.utils.data import TensorDataset, DataLoader, sampler\n",
        "import torch.nn.functional as F\n",
        "from torch_utils import AverageMeter\n",
        "import math\n",
        "import matplotlib.pyplot as plt\n",
        "from sklearn.metrics import mean_squared_error\n",
        "from numpy import inf\n",
        "\n",
        "\n",
        "from sklearn.model_selection import train_test_split\n",
        "import os\n",
        "from glob import glob\n",
        "from torchvision import transforms\n",
        "from torchvision import datasets\n",
        "from torchvision import models\n",
        "from torch import optim, cuda, Tensor\n",
        "import tqdm\n",
        "\n",
        "# Data science tools\n",
        "import numpy as np\n",
        "\n",
        "import os\n",
        "\n",
        "# Image manipulations\n",
        "from PIL import Image\n",
        "from timeit import default_timer as timer\n",
        "\n",
        "# Visualizations\n",
        "import matplotlib.pyplot as plt\n",
        "#plt.rcParams['font.size'] = 14\n",
        "\n",
        "import warnings\n",
        "warnings.filterwarnings('ignore', category=FutureWarning)"
      ]
    },
    {
      "cell_type": "markdown",
      "metadata": {
        "id": "NPX2j9gCHFOW"
      },
      "source": [
        "### Network Design\n",
        "Then, we need to define a class for your network. The network should include two linear layer, one Relu layer, and one dropout layer."
      ]
    },
    {
      "cell_type": "code",
      "execution_count": 29,
      "metadata": {
        "id": "xDl90_EICBFp"
      },
      "outputs": [],
      "source": [
        "# define model\n",
        "class bmodel(nn.Module):\n",
        "    def __init__(self, input_d, hidden_d, output_d):\n",
        "        super().__init__()\n",
        "        # Define all the layers that you need in your network\n",
        "        # You can use nn.Linear() to define the linear layer\n",
        "        # You can use nn.Dropout() to define the dropout layer\n",
        "        # You can use F.relu() to define your ReLu layer\n",
        "        ######################\n",
        "        ### YOUR CODE HERE ###\n",
        "        ######################\n",
        "                \n",
        "        self.network = nn.Sequential(\n",
        "          nn.Linear(input_d, hidden_d),\n",
        "          nn.ReLU(),\n",
        "          nn.Dropout(),\n",
        "          nn.Linear(hidden_d, output_d),  \n",
        "        )\n",
        "        #####################\n",
        "        ### YOUR CODE END ###\n",
        "        #####################\n",
        "\n",
        "    def forward(self, x):\n",
        "        # Design your network structure here\n",
        "        ######################\n",
        "        ### YOUR CODE HERE ###\n",
        "        ######################\n",
        "        \n",
        "        output = self.network(x)\n",
        "        \n",
        "        return output\n",
        "        #####################\n",
        "        ### YOUR CODE END ###\n",
        "        #####################\n",
        "\n",
        "\n",
        "class model_v2(nn.Module):\n",
        "    def __init__(self, input_d, hidden_d, output_d):\n",
        "        super().__init__()\n",
        "                \n",
        "        self.network = nn.Sequential(\n",
        "          nn.Linear(input_d, hidden_d),\n",
        "          nn.ReLU(),\n",
        "          nn.Linear(hidden_d, 600),  \n",
        "          nn.ReLU(),\n",
        "          nn.Dropout(),\n",
        "          nn.Linear(600, 400),  \n",
        "          nn.ReLU(),\n",
        "          nn.Linear(400, 100),  \n",
        "          nn.ReLU(),\n",
        "          nn.Dropout(),\n",
        "          nn.Linear(100, output_d),  \n",
        "        )\n",
        "\n",
        "    def forward(self, x):\n",
        "       \n",
        "        output = self.network(x)\n",
        "        \n",
        "        return output\n"
      ]
    },
    {
      "cell_type": "markdown",
      "metadata": {
        "id": "IZiqsgPSH24o"
      },
      "source": [
        "Now, we can design our toy model to test your network."
      ]
    },
    {
      "cell_type": "code",
      "execution_count": 6,
      "metadata": {
        "id": "UqhzirmamNWj"
      },
      "outputs": [],
      "source": [
        "# Create a small net and some toy data to check your implementations.\n",
        "# Note that we set the random seed for repeatable experiments.\n",
        "\n",
        "input_size = 4\n",
        "hidden_size = 10\n",
        "num_classes = 3\n",
        "num_inputs = 5\n",
        "\n",
        "def init_toy_model():\n",
        "    np.random.seed(0)\n",
        "    return bmodel(input_size, hidden_size, num_classes)\n",
        "\n",
        "def init_toy_data():\n",
        "    np.random.seed(1)\n",
        "    X = 10 * np.random.randn(num_inputs, input_size)\n",
        "    y = np.array([0, 1, 2, 2, 1])\n",
        "    return X, y\n",
        "\n",
        "toy_model = init_toy_model()\n",
        "train_X, train_Y = init_toy_data()\n",
        "validation_X, validation_Y = init_toy_data()"
      ]
    },
    {
      "cell_type": "markdown",
      "metadata": {
        "id": "clIyJmUFJg0H"
      },
      "source": [
        "Cuda is Compute Unified Device Architecture, which can achieve parallel computing. It will improve our learning speed in the parameter update by using GPU rather than CPU."
      ]
    },
    {
      "cell_type": "code",
      "execution_count": 7,
      "metadata": {
        "id": "qNhcttlxJSOk",
        "colab": {
          "base_uri": "https://localhost:8080/"
        },
        "outputId": "d4d74d61-f9a0-4b1f-e57b-40f2bc504358"
      },
      "outputs": [
        {
          "output_type": "stream",
          "name": "stdout",
          "text": [
            "Train on gpu: True\n",
            "1 gpus detected.\n",
            "True False\n"
          ]
        }
      ],
      "source": [
        "# Check whether there is a gpu for cuda\n",
        "train_on_gpu = cuda.is_available()\n",
        "print(f'Train on gpu: {train_on_gpu}')\n",
        "\n",
        "# Number of gpus\n",
        "if train_on_gpu:\n",
        "    gpu_count = cuda.device_count()\n",
        "    print(f'{gpu_count} gpus detected.')\n",
        "    if gpu_count > 1:\n",
        "        multi_gpu = True\n",
        "    else:\n",
        "        multi_gpu = False\n",
        "else:\n",
        "    multi_gpu = False\n",
        "print(train_on_gpu,multi_gpu)"
      ]
    },
    {
      "cell_type": "markdown",
      "metadata": {
        "id": "jFXQ5rioKcOP"
      },
      "source": [
        "### Data Preparation\n",
        "Next, we need to organize the data before we load them into the network. In Pytorch, we use Tensor as the data structure for computing, and we use \"dataloaders\" to achieve mini-batch from the whole dataset."
      ]
    },
    {
      "cell_type": "code",
      "execution_count": 8,
      "metadata": {
        "id": "kOcdfL03KVL6",
        "colab": {
          "base_uri": "https://localhost:8080/"
        },
        "outputId": "1464932a-2274-41a5-e1a3-44e3e7d4f92a"
      },
      "outputs": [
        {
          "output_type": "stream",
          "name": "stderr",
          "text": [
            "/usr/local/lib/python3.7/dist-packages/torch/utils/data/dataloader.py:560: UserWarning: This DataLoader will create 10 worker processes in total. Our suggested max number of worker in current system is 2, which is smaller than what this DataLoader is going to create. Please be aware that excessive worker creation might get DataLoader running slow or even freeze, lower the worker number to avoid potential slowness/freeze if necessary.\n",
            "  cpuset_checked))\n"
          ]
        },
        {
          "output_type": "execute_result",
          "data": {
            "text/plain": [
              "(torch.Size([1, 4]), torch.Size([1]))"
            ]
          },
          "metadata": {},
          "execution_count": 8
        }
      ],
      "source": [
        "# Datasets organization\n",
        "batch_size = 1\n",
        "\n",
        "# Transfer the data from numpy to tensor\n",
        "data = {\n",
        "    'train':\n",
        "    TensorDataset(torch.from_numpy(train_X), \n",
        "                  torch.from_numpy(train_Y).float()),\n",
        "    'valid':\n",
        "    # please define your validation dataset\n",
        "    ######################\n",
        "    ### YOUR CODE HERE ###\n",
        "    ######################\n",
        "    TensorDataset(torch.from_numpy(validation_X), \n",
        "                  torch.from_numpy(validation_Y).float()),\n",
        "    #####################\n",
        "    ### YOUR CODE END ###\n",
        "    #####################\n",
        "\n",
        "}\n",
        "\n",
        "\n",
        "# Dataloader iterators, make sure to shuffle\n",
        "dataloaders = {\n",
        "    'train': DataLoader(data['train'], \n",
        "                        batch_size=batch_size, \n",
        "                        shuffle=True,\n",
        "                        num_workers=10),\n",
        "    # please define your validation data loader\n",
        "    ######################\n",
        "    ### YOUR CODE HERE ###\n",
        "    ######################\n",
        "    'valid': DataLoader(data['valid'], \n",
        "                    batch_size=batch_size, \n",
        "                    shuffle=True,\n",
        "                    num_workers=10),\n",
        "    ######################\n",
        "    ### YOUR CODE END ####\n",
        "    ######################\n",
        "}\n",
        "\n",
        "# Iterate through the dataloader once\n",
        "trainiter = iter(dataloaders['train'])\n",
        "features, labels = next(trainiter)\n",
        "features.shape, labels.shape\n"
      ]
    },
    {
      "cell_type": "markdown",
      "metadata": {
        "id": "JPQQ7iRaNgIp"
      },
      "source": [
        "### Setting Learning Parameters\n",
        "In our training process, we need to set up the loss function and optimizer tool."
      ]
    },
    {
      "cell_type": "code",
      "execution_count": 9,
      "metadata": {
        "id": "Y6PbdfxENdOJ",
        "colab": {
          "base_uri": "https://localhost:8080/"
        },
        "outputId": "1e15e852-c7e4-4df6-ea7b-7a0508d33449"
      },
      "outputs": [
        {
          "output_type": "stream",
          "name": "stdout",
          "text": [
            "torch.Size([10, 4])\n",
            "torch.Size([10])\n",
            "torch.Size([3, 10])\n",
            "torch.Size([3])\n"
          ]
        }
      ],
      "source": [
        "# Set up your criterion and optimizer\n",
        "# You can use nn.CrossEntropyLoss() and optim.Adam()\n",
        "#####################\n",
        "### YOUR CODE HERE###\n",
        "#####################\n",
        "\n",
        "criterion = nn.CrossEntropyLoss()\n",
        "optimizer = optim.Adam(toy_model.parameters(), lr=0.001)\n",
        "\n",
        "####################\n",
        "### YOUR CODE END###\n",
        "####################\n",
        "\n",
        "for p in optimizer.param_groups[0]['params']:\n",
        "    if p.requires_grad:\n",
        "        print(p.shape)"
      ]
    },
    {
      "cell_type": "markdown",
      "metadata": {
        "id": "Ck08UYlKcGtk"
      },
      "source": [
        "## Task 2: Build the Training Pipeline"
      ]
    },
    {
      "cell_type": "markdown",
      "metadata": {
        "id": "f5ep_QqOOiNn"
      },
      "source": [
        "### Training Process\n",
        "We are now defining the train function. Please follow the instruction to finish each part."
      ]
    },
    {
      "cell_type": "code",
      "execution_count": 48,
      "metadata": {
        "id": "vw16i2tlOcbt"
      },
      "outputs": [],
      "source": [
        "def train(model,\n",
        "          criterion,\n",
        "          optimizer,\n",
        "          train_loader,\n",
        "          valid_loader,\n",
        "          save_file_name,\n",
        "          max_epochs_stop=3,\n",
        "          n_epochs=10,\n",
        "          print_every=1):\n",
        "    \"\"\"Train a PyTorch Model\n",
        "\n",
        "    Params\n",
        "    --------\n",
        "        model (PyTorch model): cnn to train\n",
        "        criterion (PyTorch loss): objective to minimize\n",
        "        optimizer (PyTorch optimizier): optimizer to compute gradients of model parameters\n",
        "        train_loader (PyTorch dataloader): training dataloader to iterate through\n",
        "        valid_loader (PyTorch dataloader): validation dataloader used for early stopping\n",
        "        save_file_name (str ending in '.pt'): file path to save the model state dict\n",
        "        max_epochs_stop (int): maximum number of epochs with no improvement in validation loss for early stopping\n",
        "        n_epochs (int): maximum number of training epochs\n",
        "        print_every (int): frequency of epochs to print training stats\n",
        "\n",
        "    Returns\n",
        "    --------\n",
        "        model (PyTorch model): trained cnn with best weights\n",
        "        history (DataFrame): history of train and validation loss and accuracy\n",
        "    \"\"\"\n",
        "\n",
        "    # Early stopping intialization\n",
        "    epochs_no_improve = 0\n",
        "    valid_loss_min = np.Inf\n",
        "\n",
        "    valid_max_acc = 0\n",
        "    history = []\n",
        "\n",
        "    # Number of epochs already trained (if using loaded in model weights)\n",
        "    try:\n",
        "        print(f'Model has been trained for: {model.epochs} epochs.\\n')\n",
        "    except:\n",
        "        model.epochs = 0\n",
        "        print(f'Starting Training from Scratch.\\n')\n",
        "\n",
        "    overall_start = timer()\n",
        "\n",
        "    # Main loop\n",
        "    for epoch in range(n_epochs):\n",
        "\n",
        "        # keep track of training and validation loss each epoch\n",
        "        train_loss = 0.0\n",
        "        valid_loss = 0.0\n",
        "\n",
        "        train_acc = 0\n",
        "        valid_acc = 0\n",
        "\n",
        "        # Set to training\n",
        "        model.train()\n",
        "\n",
        "        start = timer()\n",
        "\n",
        "        # Training loop\n",
        "        for ii, (data, target) in enumerate(train_loader):\n",
        "            \n",
        "            # Tensors to gpu, both model parameters, data, and target need to be tensors.\n",
        "            # You can use .cuda() function\n",
        "            ######################\n",
        "            ### YOUR CODE HERE ###\n",
        "            ######################\n",
        "            model.to('cuda')\n",
        "            data = data.to('cuda')\n",
        "            target = target.type(torch.LongTensor)\n",
        "            target = target.to('cuda')\n",
        "            \n",
        "            #####################\n",
        "            ### YOUR CODE END ###\n",
        "            #####################\n",
        "\n",
        "            # Clear gradients\n",
        "            optimizer.zero_grad()\n",
        "\n",
        "            # Forward path\n",
        "            ######################\n",
        "            ### YOUR CODE HERE ###\n",
        "            ######################\n",
        "            output = model(data.float())\n",
        "            #####################\n",
        "            ### YOUR CODE END ###\n",
        "            #####################\n",
        "\n",
        "            # Loss function \n",
        "            ######################\n",
        "            ### YOUR CODE HERE ###\n",
        "            ######################\n",
        "            loss = criterion(output, target)\n",
        "            #####################\n",
        "            ### YOUR CODE END ###\n",
        "            #####################\n",
        "\n",
        "\n",
        "            # Backward path (backpropagation)\n",
        "            ######################\n",
        "            ### YOUR CODE HERE ###\n",
        "            ######################\n",
        "            loss.backward()\n",
        "            #####################\n",
        "            ### YOUR CODE END ###\n",
        "            #####################\n",
        "\n",
        "            # Update the parameters\n",
        "            optimizer.step()\n",
        "\n",
        "            # Track train loss by multiplying average loss by number of examples in batch\n",
        "            train_loss += loss.item() * data.size(0)\n",
        "\n",
        "            # Calculate accuracy by finding max log probability\n",
        "            _, pred = torch.max(output, dim=1)\n",
        "            correct_tensor = pred.eq(target.data.view_as(pred))\n",
        "\n",
        "            # Need to convert correct tensor from int to float to average\n",
        "            accuracy = torch.mean(correct_tensor.type(torch.FloatTensor))\n",
        "\n",
        "            # Multiply average accuracy times the number of examples in batch\n",
        "            train_acc += accuracy.item() * data.size(0)\n",
        "\n",
        "            # Track training progress\n",
        "            print(\n",
        "                f'Epoch: {epoch}\\t{100 * (ii + 1) / len(train_loader):.2f}% complete. {timer() - start:.2f} seconds elapsed in epoch.',\n",
        "                end='\\r')\n",
        "\n",
        "        # After training loops ends, start validation\n",
        "        else:\n",
        "            model.epochs += 1\n",
        "\n",
        "            # Don't need to keep track of gradients\n",
        "            with torch.no_grad():\n",
        "\n",
        "                # Set to evaluation mode\n",
        "                model.eval()\n",
        "\n",
        "                # Validation loop\n",
        "                for data, target in valid_loader:\n",
        "                    # Tensors to gpu\n",
        "                    ######################\n",
        "                    ### YOUR CODE HERE ###\n",
        "                    ######################\n",
        "\n",
        "                    data = data.to('cuda')\n",
        "                    target = target.type(torch.LongTensor)\n",
        "                    target = target.to('cuda')\n",
        "                    \n",
        "                    #####################\n",
        "                    ### YOUR CODE END ###\n",
        "                    #####################\n",
        "\n",
        "                    # Forward path\n",
        "                    ######################\n",
        "                    ### YOUR CODE HERE ###\n",
        "                    ######################\n",
        "                    output = model(data.float())\n",
        "                    #####################\n",
        "                    ### YOUR CODE END ###\n",
        "                    #####################\n",
        "\n",
        "                    # Validation loss computation\n",
        "                    ######################\n",
        "                    ### YOUR CODE HERE ###\n",
        "                    ######################\n",
        "                    loss = criterion(output, target)\n",
        "                    #####################\n",
        "                    ### YOUR CODE END ###\n",
        "                    #####################\n",
        "\n",
        "                    # Multiply average loss times the number of examples in batch\n",
        "                    valid_loss += loss.item() * data.size(0)\n",
        "\n",
        "                    # Calculate validation accuracy\n",
        "                    _, pred = torch.max(output, dim=1)\n",
        "                    correct_tensor = pred.eq(target.data.view_as(pred))\n",
        "                    accuracy = torch.mean(\n",
        "                      correct_tensor.type(torch.FloatTensor))\n",
        "\n",
        "                    # Multiply average accuracy times the number of examples\n",
        "                    valid_acc += accuracy.item() * data.size(0)\n",
        "\n",
        "\n",
        "                # Calculate average losses and Calculate average accuracy\n",
        "                train_loss = train_loss / len(train_loader.dataset)\n",
        "                valid_loss = valid_loss / len(valid_loader.dataset)\n",
        "\n",
        "                train_acc = train_acc / len(train_loader.dataset)\n",
        "                valid_acc = valid_acc / len(valid_loader.dataset)\n",
        "\n",
        "                history.append([train_loss, valid_loss, train_acc, valid_acc])\n",
        "\n",
        "                # Print training and validation results\n",
        "                if (epoch + 1) % print_every == 0:\n",
        "                    print(\n",
        "                        f'\\nEpoch: {epoch} \\tTraining Loss: {train_loss:.4f} \\tValidation Loss: {valid_loss:.4f}'\n",
        "                    )\n",
        "                    print(\n",
        "                        f'\\t\\tTraining Accuracy: {100 * train_acc:.2f}%\\t Validation Accuracy: {100 * valid_acc:.2f}%'\n",
        "                    )\n",
        "\n",
        "                # Save the model if validation loss decreases\n",
        "                if valid_loss < valid_loss_min:\n",
        "                    # Save model \n",
        "                    # You can use torch.save()\n",
        "                    ######################\n",
        "                    ### YOUR CODE HERE ###\n",
        "                    ######################\n",
        "                    torch.save(model.state_dict(), save_file_name)\n",
        "                    #####################\n",
        "                    ### YOUR CODE END ###\n",
        "                    #####################\n",
        "\n",
        "                    # Track improvement\n",
        "                    epochs_no_improve = 0\n",
        "                    valid_loss_min = valid_loss\n",
        "                    valid_best_acc = valid_acc\n",
        "                    best_epoch = epoch\n",
        "\n",
        "                # Otherwise increment count of epochs with no improvement\n",
        "                else:\n",
        "                    epochs_no_improve += 1\n",
        "                    # Trigger early stopping\n",
        "                    if epochs_no_improve >= max_epochs_stop:\n",
        "                        print(\n",
        "                            f'\\nEarly Stopping! Total epochs: {epoch}. Best epoch: {best_epoch} with loss: {valid_loss_min:.2f} and acc: {100 * valid_acc:.2f}%'\n",
        "                        )\n",
        "                        total_time = timer() - overall_start\n",
        "                        print(\n",
        "                            f'{total_time:.2f} total seconds elapsed. {total_time / (epoch+1):.2f} seconds per epoch.'\n",
        "                        )\n",
        "\n",
        "                        # Load the best state dict\n",
        "                        # You can use model.load_state_dict()\n",
        "                        ######################\n",
        "                        ### YOUR CODE HERE ###\n",
        "                        ######################\n",
        "                        model.load_state_dict(\n",
        "                            torch.load(save_file_name, \n",
        "                            map_location=\"cuda\"))\n",
        "                        #####################\n",
        "                        ### YOUR CODE END ###\n",
        "                        #####################\n",
        "\n",
        "                        # Attach the optimizer\n",
        "                        model.optimizer = optimizer\n",
        "\n",
        "                        # Format history\n",
        "                        history = pd.DataFrame(\n",
        "                            history,\n",
        "                            columns=[\n",
        "                                'train_loss', 'valid_loss', 'train_acc',\n",
        "                                'valid_acc'\n",
        "                            ])\n",
        "                        return model, history\n",
        "\n",
        "    # Attach the optimizer\n",
        "    model.optimizer = optimizer\n",
        "    # Record overall time and print out stats\n",
        "    total_time = timer() - overall_start\n",
        "    print(\n",
        "        f'\\nBest epoch: {best_epoch} with loss: {valid_loss_min:.2f} and acc: {100 * valid_best_acc:.2f}%'\n",
        "    )\n",
        "    print(\n",
        "        f'{total_time:.2f} total seconds elapsed. {total_time / (epoch+1):.2f} seconds per epoch.'\n",
        "    )\n",
        "    # Format history\n",
        "    history = pd.DataFrame(\n",
        "        history,\n",
        "        columns=['train_loss', 'valid_loss', 'train_acc', 'valid_acc'])\n",
        "    return model, history"
      ]
    },
    {
      "cell_type": "markdown",
      "metadata": {
        "id": "H4ZuMIexG7oo"
      },
      "source": [
        "## Task 3: Train the network"
      ]
    },
    {
      "cell_type": "markdown",
      "metadata": {
        "id": "p_dFSRgzmNWr"
      },
      "source": [
        "### Train a Network With Toy Data\n"
      ]
    },
    {
      "cell_type": "markdown",
      "metadata": {
        "id": "AdRJcmzXReJT"
      },
      "source": [
        "Well done! Once we finish our train process design, we can start to train our network with our toy dataset."
      ]
    },
    {
      "cell_type": "code",
      "execution_count": 12,
      "metadata": {
        "id": "LFI9SHsuReqs",
        "colab": {
          "base_uri": "https://localhost:8080/"
        },
        "outputId": "def4cc5d-33a2-43cd-8fed-b30f6fff1d10"
      },
      "outputs": [
        {
          "output_type": "stream",
          "name": "stdout",
          "text": [
            "Starting Training from Scratch.\n",
            "\n"
          ]
        },
        {
          "output_type": "stream",
          "name": "stderr",
          "text": [
            "/usr/local/lib/python3.7/dist-packages/torch/utils/data/dataloader.py:560: UserWarning: This DataLoader will create 10 worker processes in total. Our suggested max number of worker in current system is 2, which is smaller than what this DataLoader is going to create. Please be aware that excessive worker creation might get DataLoader running slow or even freeze, lower the worker number to avoid potential slowness/freeze if necessary.\n",
            "  cpuset_checked))\n"
          ]
        },
        {
          "output_type": "stream",
          "name": "stdout",
          "text": [
            "Epoch: 0\t20.00% complete. 3.79 seconds elapsed in epoch.\rEpoch: 0\t40.00% complete. 3.79 seconds elapsed in epoch.\rEpoch: 0\t60.00% complete. 3.79 seconds elapsed in epoch.\rEpoch: 0\t80.00% complete. 3.80 seconds elapsed in epoch.\rEpoch: 0\t100.00% complete. 3.80 seconds elapsed in epoch.\r\n",
            "Epoch: 0 \tTraining Loss: 1.7220 \tValidation Loss: 4.0697\n",
            "\t\tTraining Accuracy: 0.00%\t Validation Accuracy: 20.00%\n",
            "\n",
            "Epoch: 1 \tTraining Loss: 3.9062 \tValidation Loss: 3.9798\n",
            "\t\tTraining Accuracy: 0.00%\t Validation Accuracy: 20.00%\n",
            "\n",
            "Epoch: 2 \tTraining Loss: 5.0285 \tValidation Loss: 3.8598\n",
            "\t\tTraining Accuracy: 0.00%\t Validation Accuracy: 20.00%\n",
            "\n",
            "Epoch: 3 \tTraining Loss: 5.5648 \tValidation Loss: 3.7298\n",
            "\t\tTraining Accuracy: 20.00%\t Validation Accuracy: 20.00%\n",
            "\n",
            "Epoch: 4 \tTraining Loss: 3.1057 \tValidation Loss: 3.6188\n",
            "\t\tTraining Accuracy: 40.00%\t Validation Accuracy: 20.00%\n",
            "\n",
            "Epoch: 5 \tTraining Loss: 2.7611 \tValidation Loss: 3.5155\n",
            "\t\tTraining Accuracy: 40.00%\t Validation Accuracy: 20.00%\n",
            "\n",
            "Epoch: 6 \tTraining Loss: 3.7809 \tValidation Loss: 3.4235\n",
            "\t\tTraining Accuracy: 0.00%\t Validation Accuracy: 20.00%\n",
            "\n",
            "Epoch: 7 \tTraining Loss: 2.8148 \tValidation Loss: 3.3369\n",
            "\t\tTraining Accuracy: 20.00%\t Validation Accuracy: 20.00%\n",
            "\n",
            "Epoch: 8 \tTraining Loss: 5.0244 \tValidation Loss: 3.2273\n",
            "\t\tTraining Accuracy: 20.00%\t Validation Accuracy: 20.00%\n",
            "\n",
            "Epoch: 9 \tTraining Loss: 3.7316 \tValidation Loss: 3.1062\n",
            "\t\tTraining Accuracy: 0.00%\t Validation Accuracy: 20.00%\n",
            "\n",
            "Epoch: 10 \tTraining Loss: 3.9436 \tValidation Loss: 2.9909\n",
            "\t\tTraining Accuracy: 20.00%\t Validation Accuracy: 20.00%\n",
            "\n",
            "Epoch: 11 \tTraining Loss: 2.4002 \tValidation Loss: 2.8962\n",
            "\t\tTraining Accuracy: 20.00%\t Validation Accuracy: 20.00%\n",
            "\n",
            "Epoch: 12 \tTraining Loss: 2.0568 \tValidation Loss: 2.8200\n",
            "\t\tTraining Accuracy: 20.00%\t Validation Accuracy: 20.00%\n",
            "\n",
            "Epoch: 13 \tTraining Loss: 2.6276 \tValidation Loss: 2.7502\n",
            "\t\tTraining Accuracy: 40.00%\t Validation Accuracy: 20.00%\n",
            "\n",
            "Epoch: 14 \tTraining Loss: 2.3257 \tValidation Loss: 2.6666\n",
            "\t\tTraining Accuracy: 40.00%\t Validation Accuracy: 20.00%\n",
            "\n",
            "Epoch: 15 \tTraining Loss: 2.1127 \tValidation Loss: 2.5930\n",
            "\t\tTraining Accuracy: 20.00%\t Validation Accuracy: 20.00%\n",
            "\n",
            "Epoch: 16 \tTraining Loss: 3.7951 \tValidation Loss: 2.5149\n",
            "\t\tTraining Accuracy: 20.00%\t Validation Accuracy: 20.00%\n",
            "\n",
            "Epoch: 17 \tTraining Loss: 2.6721 \tValidation Loss: 2.4337\n",
            "\t\tTraining Accuracy: 20.00%\t Validation Accuracy: 20.00%\n",
            "\n",
            "Epoch: 18 \tTraining Loss: 3.5460 \tValidation Loss: 2.3548\n",
            "\t\tTraining Accuracy: 20.00%\t Validation Accuracy: 20.00%\n",
            "\n",
            "Epoch: 19 \tTraining Loss: 2.3768 \tValidation Loss: 2.2834\n",
            "\t\tTraining Accuracy: 20.00%\t Validation Accuracy: 20.00%\n",
            "\n",
            "Epoch: 20 \tTraining Loss: 1.8018 \tValidation Loss: 2.2127\n",
            "\t\tTraining Accuracy: 20.00%\t Validation Accuracy: 20.00%\n",
            "\n",
            "Epoch: 21 \tTraining Loss: 2.0109 \tValidation Loss: 2.1546\n",
            "\t\tTraining Accuracy: 40.00%\t Validation Accuracy: 20.00%\n",
            "\n",
            "Epoch: 22 \tTraining Loss: 1.2459 \tValidation Loss: 2.0888\n",
            "\t\tTraining Accuracy: 20.00%\t Validation Accuracy: 20.00%\n",
            "\n",
            "Epoch: 23 \tTraining Loss: 1.7894 \tValidation Loss: 2.0214\n",
            "\t\tTraining Accuracy: 40.00%\t Validation Accuracy: 20.00%\n",
            "\n",
            "Epoch: 24 \tTraining Loss: 3.3490 \tValidation Loss: 1.9492\n",
            "\t\tTraining Accuracy: 20.00%\t Validation Accuracy: 20.00%\n",
            "\n",
            "Epoch: 25 \tTraining Loss: 1.9902 \tValidation Loss: 1.8661\n",
            "\t\tTraining Accuracy: 20.00%\t Validation Accuracy: 20.00%\n",
            "\n",
            "Epoch: 26 \tTraining Loss: 1.8235 \tValidation Loss: 1.7886\n",
            "\t\tTraining Accuracy: 40.00%\t Validation Accuracy: 20.00%\n",
            "\n",
            "Epoch: 27 \tTraining Loss: 1.8987 \tValidation Loss: 1.7083\n",
            "\t\tTraining Accuracy: 20.00%\t Validation Accuracy: 20.00%\n",
            "\n",
            "Epoch: 28 \tTraining Loss: 2.2397 \tValidation Loss: 1.6256\n",
            "\t\tTraining Accuracy: 40.00%\t Validation Accuracy: 20.00%\n",
            "\n",
            "Epoch: 29 \tTraining Loss: 2.5106 \tValidation Loss: 1.5492\n",
            "\t\tTraining Accuracy: 0.00%\t Validation Accuracy: 20.00%\n",
            "\n",
            "Epoch: 30 \tTraining Loss: 1.3311 \tValidation Loss: 1.4950\n",
            "\t\tTraining Accuracy: 40.00%\t Validation Accuracy: 20.00%\n",
            "\n",
            "Epoch: 31 \tTraining Loss: 1.6706 \tValidation Loss: 1.4377\n",
            "\t\tTraining Accuracy: 20.00%\t Validation Accuracy: 20.00%\n",
            "\n",
            "Epoch: 32 \tTraining Loss: 2.0741 \tValidation Loss: 1.3777\n",
            "\t\tTraining Accuracy: 20.00%\t Validation Accuracy: 20.00%\n",
            "\n",
            "Epoch: 33 \tTraining Loss: 2.3155 \tValidation Loss: 1.3221\n",
            "\t\tTraining Accuracy: 20.00%\t Validation Accuracy: 20.00%\n",
            "\n",
            "Epoch: 34 \tTraining Loss: 1.4093 \tValidation Loss: 1.2706\n",
            "\t\tTraining Accuracy: 60.00%\t Validation Accuracy: 20.00%\n",
            "\n",
            "Epoch: 35 \tTraining Loss: 1.7418 \tValidation Loss: 1.2114\n",
            "\t\tTraining Accuracy: 20.00%\t Validation Accuracy: 20.00%\n",
            "\n",
            "Epoch: 36 \tTraining Loss: 1.2948 \tValidation Loss: 1.1660\n",
            "\t\tTraining Accuracy: 40.00%\t Validation Accuracy: 20.00%\n",
            "\n",
            "Epoch: 37 \tTraining Loss: 2.1091 \tValidation Loss: 1.1209\n",
            "\t\tTraining Accuracy: 40.00%\t Validation Accuracy: 20.00%\n",
            "\n",
            "Epoch: 38 \tTraining Loss: 1.3145 \tValidation Loss: 1.0793\n",
            "\t\tTraining Accuracy: 60.00%\t Validation Accuracy: 20.00%\n",
            "\n",
            "Epoch: 39 \tTraining Loss: 1.0033 \tValidation Loss: 1.0343\n",
            "\t\tTraining Accuracy: 40.00%\t Validation Accuracy: 20.00%\n",
            "\n",
            "Epoch: 40 \tTraining Loss: 2.0032 \tValidation Loss: 0.9949\n",
            "\t\tTraining Accuracy: 20.00%\t Validation Accuracy: 40.00%\n",
            "\n",
            "Epoch: 41 \tTraining Loss: 1.7495 \tValidation Loss: 0.9526\n",
            "\t\tTraining Accuracy: 20.00%\t Validation Accuracy: 40.00%\n",
            "\n",
            "Epoch: 42 \tTraining Loss: 1.5155 \tValidation Loss: 0.9187\n",
            "\t\tTraining Accuracy: 40.00%\t Validation Accuracy: 40.00%\n",
            "\n",
            "Epoch: 43 \tTraining Loss: 1.3471 \tValidation Loss: 0.8899\n",
            "\t\tTraining Accuracy: 60.00%\t Validation Accuracy: 40.00%\n",
            "\n",
            "Epoch: 44 \tTraining Loss: 0.8896 \tValidation Loss: 0.8637\n",
            "\t\tTraining Accuracy: 60.00%\t Validation Accuracy: 60.00%\n",
            "\n",
            "Epoch: 45 \tTraining Loss: 0.5755 \tValidation Loss: 0.8425\n",
            "\t\tTraining Accuracy: 60.00%\t Validation Accuracy: 60.00%\n",
            "\n",
            "Epoch: 46 \tTraining Loss: 0.8385 \tValidation Loss: 0.8143\n",
            "\t\tTraining Accuracy: 80.00%\t Validation Accuracy: 60.00%\n",
            "\n",
            "Epoch: 47 \tTraining Loss: 1.0241 \tValidation Loss: 0.7930\n",
            "\t\tTraining Accuracy: 80.00%\t Validation Accuracy: 60.00%\n",
            "\n",
            "Epoch: 48 \tTraining Loss: 1.1190 \tValidation Loss: 0.7734\n",
            "\t\tTraining Accuracy: 40.00%\t Validation Accuracy: 80.00%\n",
            "\n",
            "Epoch: 49 \tTraining Loss: 0.8604 \tValidation Loss: 0.7593\n",
            "\t\tTraining Accuracy: 60.00%\t Validation Accuracy: 80.00%\n",
            "\n",
            "Best epoch: 49 with loss: 0.76 and acc: 80.00%\n",
            "74.23 total seconds elapsed. 1.48 seconds per epoch.\n"
          ]
        }
      ],
      "source": [
        "from timeit import default_timer as timer\n",
        "save_file_name = f'/content/drive/MyDrive/Colab Notebooks/neural_net_pytorch/toy_model_best_model.pt'\n",
        "train_on_gpu = cuda.is_available()\n",
        "\n",
        "model, history = train(toy_model,\n",
        "    criterion,\n",
        "    optimizer,\n",
        "    dataloaders['train'], \n",
        "    dataloaders['valid'],\n",
        "    save_file_name=save_file_name,\n",
        "    max_epochs_stop=3,\n",
        "    n_epochs=50,\n",
        "    print_every=1)"
      ]
    },
    {
      "cell_type": "markdown",
      "metadata": {
        "id": "n5oRuk5hSEYx"
      },
      "source": [
        "Now, we can check the losses and accuracy during the training."
      ]
    },
    {
      "cell_type": "code",
      "execution_count": 13,
      "metadata": {
        "id": "-yJuZ4W2SD1W",
        "colab": {
          "base_uri": "https://localhost:8080/",
          "height": 439
        },
        "outputId": "184f6614-337f-42a2-bd08-f4bfd9bb85bc"
      },
      "outputs": [
        {
          "output_type": "execute_result",
          "data": {
            "text/plain": [
              "<Figure size 576x432 with 0 Axes>"
            ]
          },
          "metadata": {},
          "execution_count": 13
        },
        {
          "output_type": "execute_result",
          "data": {
            "text/plain": [
              "[<matplotlib.lines.Line2D at 0x7f2a4a2311d0>]"
            ]
          },
          "metadata": {},
          "execution_count": 13
        },
        {
          "output_type": "execute_result",
          "data": {
            "text/plain": [
              "[<matplotlib.lines.Line2D at 0x7f2a4b2d3f90>]"
            ]
          },
          "metadata": {},
          "execution_count": 13
        },
        {
          "output_type": "execute_result",
          "data": {
            "text/plain": [
              "<matplotlib.legend.Legend at 0x7f2a4b2d3b10>"
            ]
          },
          "metadata": {},
          "execution_count": 13
        },
        {
          "output_type": "execute_result",
          "data": {
            "text/plain": [
              "Text(0.5, 0, 'Epoch')"
            ]
          },
          "metadata": {},
          "execution_count": 13
        },
        {
          "output_type": "execute_result",
          "data": {
            "text/plain": [
              "Text(0, 0.5, 'Average Negative Log Likelihood')"
            ]
          },
          "metadata": {},
          "execution_count": 13
        },
        {
          "output_type": "execute_result",
          "data": {
            "text/plain": [
              "Text(0.5, 1.0, 'Training and Validation Losses')"
            ]
          },
          "metadata": {},
          "execution_count": 13
        },
        {
          "output_type": "display_data",
          "data": {
            "text/plain": [
              "<Figure size 576x432 with 1 Axes>"
            ],
            "image/png": "[encoded data removed]"
          },
          "metadata": {
            "needs_background": "light"
          }
        }
      ],
      "source": [
        "plt.figure(figsize=(8, 6))\n",
        "for c in ['train_loss', 'valid_loss']:\n",
        "    plt.plot(\n",
        "        history[c], label=c)\n",
        "plt.legend()\n",
        "plt.xlabel('Epoch')\n",
        "plt.ylabel('Average Negative Log Likelihood')\n",
        "plt.title('Training and Validation Losses')\n",
        "plt.show()"
      ]
    },
    {
      "cell_type": "code",
      "execution_count": 14,
      "metadata": {
        "id": "nT_VflxLSPca",
        "colab": {
          "base_uri": "https://localhost:8080/",
          "height": 439
        },
        "outputId": "566ef91f-caab-4243-c44d-3843ca9b924a"
      },
      "outputs": [
        {
          "output_type": "execute_result",
          "data": {
            "text/plain": [
              "<Figure size 576x432 with 0 Axes>"
            ]
          },
          "metadata": {},
          "execution_count": 14
        },
        {
          "output_type": "execute_result",
          "data": {
            "text/plain": [
              "[<matplotlib.lines.Line2D at 0x7f2a4ad582d0>]"
            ]
          },
          "metadata": {},
          "execution_count": 14
        },
        {
          "output_type": "execute_result",
          "data": {
            "text/plain": [
              "[<matplotlib.lines.Line2D at 0x7f2a4ad58950>]"
            ]
          },
          "metadata": {},
          "execution_count": 14
        },
        {
          "output_type": "execute_result",
          "data": {
            "text/plain": [
              "<matplotlib.legend.Legend at 0x7f2a49232f50>"
            ]
          },
          "metadata": {},
          "execution_count": 14
        },
        {
          "output_type": "execute_result",
          "data": {
            "text/plain": [
              "Text(0.5, 0, 'Epoch')"
            ]
          },
          "metadata": {},
          "execution_count": 14
        },
        {
          "output_type": "execute_result",
          "data": {
            "text/plain": [
              "Text(0, 0.5, 'Average Accuracy')"
            ]
          },
          "metadata": {},
          "execution_count": 14
        },
        {
          "output_type": "execute_result",
          "data": {
            "text/plain": [
              "Text(0.5, 1.0, 'Training and Validation Accuracy')"
            ]
          },
          "metadata": {},
          "execution_count": 14
        },
        {
          "output_type": "display_data",
          "data": {
            "text/plain": [
              "<Figure size 576x432 with 1 Axes>"
            ],
            "image/png": "[encoded data removed]"
          },
          "metadata": {
            "needs_background": "light"
          }
        }
      ],
      "source": [
        "plt.figure(figsize=(8, 6))\n",
        "for c in ['train_acc', 'valid_acc']:\n",
        "    plt.plot(\n",
        "        100 * history[c], label=c)\n",
        "plt.legend()\n",
        "plt.xlabel('Epoch')\n",
        "plt.ylabel('Average Accuracy')\n",
        "plt.title('Training and Validation Accuracy')\n",
        "plt.show()"
      ]
    },
    {
      "cell_type": "markdown",
      "metadata": {
        "id": "FQyFOOa_SUZB"
      },
      "source": [
        "### Train a Network With Cifar-10 Data\n",
        "Now we may use the cifar-10 dataset to train our model. First, we will load the cifar-10 dataset."
      ]
    },
    {
      "cell_type": "code",
      "execution_count": 15,
      "metadata": {
        "colab": {
          "base_uri": "https://localhost:8080/"
        },
        "id": "fID7AMV0TZUO",
        "outputId": "5f96edf4-315a-402f-d2bf-2ac1dba472e4"
      },
      "outputs": [
        {
          "output_type": "stream",
          "name": "stdout",
          "text": [
            "Train data shape:  (49000, 3072)\n",
            "Train labels shape:  (49000,)\n",
            "Validation data shape:  (1000, 3072)\n",
            "Validation labels shape:  (1000,)\n",
            "Test data shape:  (1000, 3072)\n",
            "Test labels shape:  (1000,)\n"
          ]
        }
      ],
      "source": [
        "from data_utils import load_CIFAR10\n",
        "\n",
        "def get_CIFAR10_data(num_training=49000, num_validation=1000, num_test=1000):\n",
        "    \"\"\"\n",
        "    Load the CIFAR-10 dataset from disk and perform preprocessing to prepare\n",
        "    it for the two-layer neural net classifier.   \n",
        "    \"\"\"\n",
        "    # Load the raw CIFAR-10 data\n",
        "    cifar10_dir = './datasets/'\n",
        "    \n",
        "    X_train, y_train, X_test, y_test = load_CIFAR10(cifar10_dir)\n",
        "        \n",
        "    # Subsample the data\n",
        "    mask = list(range(num_training, num_training + num_validation))\n",
        "    X_val = X_train[mask]\n",
        "    y_val = y_train[mask]\n",
        "    mask = list(range(num_training))\n",
        "    X_train = X_train[mask]\n",
        "    y_train = y_train[mask]\n",
        "    mask = list(range(num_test))\n",
        "    X_test = X_test[mask]\n",
        "    y_test = y_test[mask]\n",
        "\n",
        "    # Normalize the data: subtract the mean image\n",
        "    mean_image = np.mean(X_train, axis=0)\n",
        "    X_train -= mean_image\n",
        "    X_val -= mean_image\n",
        "    X_test -= mean_image\n",
        "\n",
        "    # Reshape data to rows\n",
        "    X_train = X_train.reshape(num_training, -1)\n",
        "    X_val = X_val.reshape(num_validation, -1)\n",
        "    X_test = X_test.reshape(num_test, -1)\n",
        "\n",
        "    return X_train, y_train, X_val, y_val, X_test, y_test\n",
        "\n",
        "\n",
        "# Cleaning up variables to prevent loading data multiple times (which may cause memory issue)\n",
        "try:\n",
        "   del X_train, y_train\n",
        "   del X_test, y_test\n",
        "   print('Clear previously loaded data.')\n",
        "except:\n",
        "   pass\n",
        "\n",
        "# Invoke the above function to get our data.\n",
        "train_X, train_Y, validation_X, validation_Y, test_X, test_Y = get_CIFAR10_data()\n",
        "print('Train data shape: ', train_X.shape)\n",
        "print('Train labels shape: ', train_Y.shape)\n",
        "print('Validation data shape: ', validation_X.shape)\n",
        "print('Validation labels shape: ', validation_Y.shape)\n",
        "print('Test data shape: ', test_X.shape)\n",
        "print('Test labels shape: ', test_Y.shape)"
      ]
    },
    {
      "cell_type": "markdown",
      "metadata": {
        "id": "9mJ6CTNDTbXq"
      },
      "source": [
        "Since Cifar-10 has a larger size of data, which is harder to train, we need to increase our network parameters to solve this task. \n"
      ]
    },
    {
      "cell_type": "code",
      "execution_count": 16,
      "metadata": {
        "id": "qTmBf_03TD2J"
      },
      "outputs": [],
      "source": [
        "input_size = 32 * 32 * 3\n",
        "hidden_size = 50\n",
        "num_classes = 10\n",
        "\n",
        "model = bmodel(input_size, hidden_size, num_classes)"
      ]
    },
    {
      "cell_type": "markdown",
      "metadata": {
        "id": "kUvAVk2dULUx"
      },
      "source": [
        "Use the same chunk above to organize our new data. Now we may need a bigger batch_size for training."
      ]
    },
    {
      "cell_type": "code",
      "execution_count": 17,
      "metadata": {
        "colab": {
          "base_uri": "https://localhost:8080/"
        },
        "id": "uz8yZR95UHq9",
        "outputId": "cb766bc0-215a-4c9f-efc0-a88c90d9a860"
      },
      "outputs": [
        {
          "output_type": "stream",
          "name": "stderr",
          "text": [
            "/usr/local/lib/python3.7/dist-packages/torch/utils/data/dataloader.py:560: UserWarning: This DataLoader will create 10 worker processes in total. Our suggested max number of worker in current system is 2, which is smaller than what this DataLoader is going to create. Please be aware that excessive worker creation might get DataLoader running slow or even freeze, lower the worker number to avoid potential slowness/freeze if necessary.\n",
            "  cpuset_checked))\n"
          ]
        },
        {
          "output_type": "execute_result",
          "data": {
            "text/plain": [
              "(torch.Size([16, 3072]), torch.Size([16]))"
            ]
          },
          "metadata": {},
          "execution_count": 17
        }
      ],
      "source": [
        "# Datasets from folders\n",
        "batch_size = 16\n",
        "# Transfer the data from numpy to tensor\n",
        "data = {\n",
        "    'train':\n",
        "    TensorDataset(torch.from_numpy(train_X), torch.from_numpy(train_Y).float()),\n",
        "    'valid':\n",
        "    ######################\n",
        "    ### YOUR CODE HERE ###\n",
        "    ######################\n",
        "    TensorDataset(torch.from_numpy(validation_X), \n",
        "              torch.from_numpy(validation_Y).float()),\n",
        "    #####################\n",
        "    ### YOUR CODE END ###\n",
        "    #####################\n",
        "\n",
        "}\n",
        "\n",
        "\n",
        "# Dataloader iterators, make sure to shuffle\n",
        "dataloaders = {\n",
        "    'train': DataLoader(data['train'], batch_size=batch_size, shuffle=True,num_workers=10),\n",
        "    ######################\n",
        "    ### YOUR CODE HERE ###\n",
        "    ######################\n",
        "    'valid': DataLoader(data['valid'], \n",
        "                batch_size=batch_size, \n",
        "                shuffle=True,\n",
        "                num_workers=10),\n",
        "    ######################\n",
        "    ### YOUR CODE END ###\n",
        "    ######################\n",
        "}\n",
        "\n",
        "\n",
        "# Iterate through the dataloader once\n",
        "trainiter = iter(dataloaders['train'])\n",
        "features, labels = next(trainiter)\n",
        "features.shape, labels.shape"
      ]
    },
    {
      "cell_type": "markdown",
      "metadata": {
        "id": "LVBJq6SCYAV5"
      },
      "source": [
        "Set up our criterion and optimizer for the new model."
      ]
    },
    {
      "cell_type": "code",
      "execution_count": 18,
      "metadata": {
        "id": "pTpFzjGxX8cP"
      },
      "outputs": [],
      "source": [
        "# Set up your criterion and optimizer\n",
        "######################\n",
        "### YOUR CODE HERE ###\n",
        "######################\n",
        "criterion = nn.CrossEntropyLoss()\n",
        "optimizer = optim.Adam(model.parameters(), lr=0.001)\n",
        "#####################\n",
        "### YOUR CODE END ###\n",
        "#####################"
      ]
    },
    {
      "cell_type": "markdown",
      "metadata": {
        "id": "QfOM_4BkUiio"
      },
      "source": [
        "Train your new network and get the results. At this time, the training process may need more time."
      ]
    },
    {
      "cell_type": "code",
      "execution_count": 19,
      "metadata": {
        "id": "feL2jumrUhRJ",
        "colab": {
          "base_uri": "https://localhost:8080/"
        },
        "outputId": "79f22cd0-f58c-40cc-e417-d3417f3b305c"
      },
      "outputs": [
        {
          "output_type": "stream",
          "name": "stdout",
          "text": [
            "Starting Training from Scratch.\n",
            "\n"
          ]
        },
        {
          "output_type": "stream",
          "name": "stderr",
          "text": [
            "/usr/local/lib/python3.7/dist-packages/torch/utils/data/dataloader.py:560: UserWarning: This DataLoader will create 10 worker processes in total. Our suggested max number of worker in current system is 2, which is smaller than what this DataLoader is going to create. Please be aware that excessive worker creation might get DataLoader running slow or even freeze, lower the worker number to avoid potential slowness/freeze if necessary.\n",
            "  cpuset_checked))\n"
          ]
        },
        {
          "output_type": "stream",
          "name": "stdout",
          "text": [
            "\n",
            "Epoch: 0 \tTraining Loss: 9.5835 \tValidation Loss: 2.2574\n",
            "\t\tTraining Accuracy: 22.63%\t Validation Accuracy: 29.00%\n",
            "\n",
            "Epoch: 1 \tTraining Loss: 3.8748 \tValidation Loss: 3.6318\n",
            "\t\tTraining Accuracy: 18.43%\t Validation Accuracy: 21.40%\n",
            "\n",
            "Epoch: 2 \tTraining Loss: 4.4810 \tValidation Loss: 3.5931\n",
            "\t\tTraining Accuracy: 18.02%\t Validation Accuracy: 21.10%\n",
            "\n",
            "Epoch: 3 \tTraining Loss: 4.7183 \tValidation Loss: 2.9750\n",
            "\t\tTraining Accuracy: 17.75%\t Validation Accuracy: 21.80%\n",
            "\n",
            "Early Stopping! Total epochs: 3. Best epoch: 0 with loss: 2.26 and acc: 21.80%\n",
            "75.51 total seconds elapsed. 18.88 seconds per epoch.\n"
          ]
        }
      ],
      "source": [
        "from timeit import default_timer as timer\n",
        "\n",
        "model, history = train(model,\n",
        "    criterion,\n",
        "    optimizer,\n",
        "    dataloaders['train'], \n",
        "    dataloaders['valid'],\n",
        "    save_file_name=f'/content/drive/MyDrive/Colab Notebooks/neural_net_pytorch/cifar_model_best_model.pt',\n",
        "    max_epochs_stop=3,\n",
        "    n_epochs=100,\n",
        "    print_every=1)"
      ]
    },
    {
      "cell_type": "markdown",
      "metadata": {
        "id": "jeZ2CzV6YN-2"
      },
      "source": [
        "It seems that the process will end very early since there is no progress during the training. Let's print the results."
      ]
    },
    {
      "cell_type": "code",
      "execution_count": 25,
      "metadata": {
        "id": "xlzAjeIDUohp",
        "colab": {
          "base_uri": "https://localhost:8080/",
          "height": 439
        },
        "outputId": "3cdaa61d-2bb8-4c76-a182-7c16c970d6d0"
      },
      "outputs": [
        {
          "output_type": "execute_result",
          "data": {
            "text/plain": [
              "<Figure size 576x432 with 0 Axes>"
            ]
          },
          "metadata": {},
          "execution_count": 25
        },
        {
          "output_type": "execute_result",
          "data": {
            "text/plain": [
              "[<matplotlib.lines.Line2D at 0x7f2a4d904b90>]"
            ]
          },
          "metadata": {},
          "execution_count": 25
        },
        {
          "output_type": "execute_result",
          "data": {
            "text/plain": [
              "[<matplotlib.lines.Line2D at 0x7f2a4d91c290>]"
            ]
          },
          "metadata": {},
          "execution_count": 25
        },
        {
          "output_type": "execute_result",
          "data": {
            "text/plain": [
              "<matplotlib.legend.Legend at 0x7f2a4d8f2f90>"
            ]
          },
          "metadata": {},
          "execution_count": 25
        },
        {
          "output_type": "execute_result",
          "data": {
            "text/plain": [
              "Text(0.5, 0, 'Epoch')"
            ]
          },
          "metadata": {},
          "execution_count": 25
        },
        {
          "output_type": "execute_result",
          "data": {
            "text/plain": [
              "Text(0, 0.5, 'Average Negative Log Likelihood')"
            ]
          },
          "metadata": {},
          "execution_count": 25
        },
        {
          "output_type": "execute_result",
          "data": {
            "text/plain": [
              "Text(0.5, 1.0, 'Training and Validation Losses')"
            ]
          },
          "metadata": {},
          "execution_count": 25
        },
        {
          "output_type": "display_data",
          "data": {
            "text/plain": [
              "<Figure size 576x432 with 1 Axes>"
            ],
            "image/png": "[encoded data removed]"
          },
          "metadata": {
            "needs_background": "light"
          }
        }
      ],
      "source": [
        "plt.figure(figsize=(8, 6))\n",
        "for c in ['train_loss', 'valid_loss']:\n",
        "    plt.plot(\n",
        "        history[c], label=c)\n",
        "plt.legend()\n",
        "plt.xlabel('Epoch')\n",
        "plt.ylabel('Average Negative Log Likelihood')\n",
        "plt.title('Training and Validation Losses')\n",
        "plt.show()"
      ]
    },
    {
      "cell_type": "code",
      "execution_count": 21,
      "metadata": {
        "id": "nwjRiBhWUsdy",
        "colab": {
          "base_uri": "https://localhost:8080/",
          "height": 439
        },
        "outputId": "01d73042-582e-48c8-cf1c-039092efd69a"
      },
      "outputs": [
        {
          "output_type": "execute_result",
          "data": {
            "text/plain": [
              "<Figure size 576x432 with 0 Axes>"
            ]
          },
          "metadata": {},
          "execution_count": 21
        },
        {
          "output_type": "execute_result",
          "data": {
            "text/plain": [
              "[<matplotlib.lines.Line2D at 0x7f2a4da8edd0>]"
            ]
          },
          "metadata": {},
          "execution_count": 21
        },
        {
          "output_type": "execute_result",
          "data": {
            "text/plain": [
              "[<matplotlib.lines.Line2D at 0x7f2a4da983d0>]"
            ]
          },
          "metadata": {},
          "execution_count": 21
        },
        {
          "output_type": "execute_result",
          "data": {
            "text/plain": [
              "<matplotlib.legend.Legend at 0x7f2a4db99fd0>"
            ]
          },
          "metadata": {},
          "execution_count": 21
        },
        {
          "output_type": "execute_result",
          "data": {
            "text/plain": [
              "Text(0.5, 0, 'Epoch')"
            ]
          },
          "metadata": {},
          "execution_count": 21
        },
        {
          "output_type": "execute_result",
          "data": {
            "text/plain": [
              "Text(0, 0.5, 'Average Accuracy')"
            ]
          },
          "metadata": {},
          "execution_count": 21
        },
        {
          "output_type": "execute_result",
          "data": {
            "text/plain": [
              "Text(0.5, 1.0, 'Training and Validation Accuracy')"
            ]
          },
          "metadata": {},
          "execution_count": 21
        },
        {
          "output_type": "display_data",
          "data": {
            "text/plain": [
              "<Figure size 576x432 with 1 Axes>"
            ],
            "image/png": "[encoded data removed]"
          },
          "metadata": {
            "needs_background": "light"
          }
        }
      ],
      "source": [
        "plt.figure(figsize=(8, 6))\n",
        "for c in ['train_acc', 'valid_acc']:\n",
        "    plt.plot(\n",
        "        100 * history[c], label=c)\n",
        "plt.legend()\n",
        "plt.xlabel('Epoch')\n",
        "plt.ylabel('Average Accuracy')\n",
        "plt.title('Training and Validation Accuracy')\n",
        "plt.show()"
      ]
    },
    {
      "cell_type": "markdown",
      "metadata": {
        "id": "fhsY7oawmNWu"
      },
      "source": [
        "##Task 4: Improve The Performance\n",
        "As we have known in HW2, a two-layer-network can not get a good performance. Here, we may (1) add more layers to make the network deeper, or (2) replace your bmodel() with networks provided by PyTorch. https://pytorch.org/vision/0.8/models.html\n",
        "You just need to do one of these two options.\n",
        "\n",
        "You can reuse the code you have from Task 2 and 3"
      ]
    },
    {
      "cell_type": "markdown",
      "source": [
        "# Write up\n",
        "I attempted to add additional layers to the model to increase performance keeping in mind to include reLu layers for the additional layers.  I increased the size of the hidden layer as well, which seemed to impact the accuracy of the network in a positive way.  Finally, I played around with the learning rate to avoid overshooting the gradient.  I had this set way too high and could not figure out why my network wasn't learning.  "
      ],
      "metadata": {
        "id": "gqsA4Nfo6tD4"
      }
    },
    {
      "cell_type": "code",
      "source": [
        "input_size = 32 * 32 * 3\n",
        "hidden_size = 1000\n",
        "num_classes = 10\n",
        "\n",
        "model2 = model_v2(input_size, hidden_size, num_classes)"
      ],
      "metadata": {
        "id": "EZy5rZVr2ePS"
      },
      "execution_count": 55,
      "outputs": []
    },
    {
      "cell_type": "code",
      "source": [
        "print(model2)"
      ],
      "metadata": {
        "colab": {
          "base_uri": "https://localhost:8080/"
        },
        "id": "7WAtna0p8uHc",
        "outputId": "cab52af9-e2ba-445c-bb70-ec5367b5a593"
      },
      "execution_count": 56,
      "outputs": [
        {
          "output_type": "stream",
          "name": "stdout",
          "text": [
            "model_v2(\n",
            "  (network): Sequential(\n",
            "    (0): Linear(in_features=3072, out_features=1000, bias=True)\n",
            "    (1): ReLU()\n",
            "    (2): Linear(in_features=1000, out_features=600, bias=True)\n",
            "    (3): ReLU()\n",
            "    (4): Dropout(p=0.5, inplace=False)\n",
            "    (5): Linear(in_features=600, out_features=400, bias=True)\n",
            "    (6): ReLU()\n",
            "    (7): Linear(in_features=400, out_features=100, bias=True)\n",
            "    (8): ReLU()\n",
            "    (9): Dropout(p=0.5, inplace=False)\n",
            "    (10): Linear(in_features=100, out_features=10, bias=True)\n",
            "  )\n",
            ")\n"
          ]
        }
      ]
    },
    {
      "cell_type": "code",
      "source": [
        "# https://stats.stackexchange.com/questions/352036/what-should-i-do-when-my-neural-network-doesnt-learn\n",
        "\n",
        "dataloaders = {\n",
        "    'train': DataLoader(data['train'], \n",
        "                        batch_size=batch_size, \n",
        "                        shuffle=True,\n",
        "                        num_workers=10),\n",
        "\n",
        "    'valid': DataLoader(data['valid'], \n",
        "                    batch_size=batch_size, \n",
        "                    shuffle=True,\n",
        "                    num_workers=10),\n",
        "}\n",
        "\n",
        "criterion = nn.CrossEntropyLoss()\n",
        "optimizer = optim.Adam(model2.parameters(), lr=0.0001)\n",
        "\n",
        "model, history = train(model2,\n",
        "    criterion,\n",
        "    optimizer,\n",
        "    dataloaders['train'], \n",
        "    dataloaders['valid'],\n",
        "    save_file_name=f'/content/drive/MyDrive/Colab Notebooks/neural_net_pytorch/modelv2_2_best_model.pt',\n",
        "    max_epochs_stop=3,\n",
        "    n_epochs=100,\n",
        "    print_every=1)"
      ],
      "metadata": {
        "colab": {
          "base_uri": "https://localhost:8080/"
        },
        "id": "pAoI9m2K2odE",
        "outputId": "6aaaf844-16d6-4a79-af65-1601a0e1a5eb"
      },
      "execution_count": 57,
      "outputs": [
        {
          "output_type": "stream",
          "name": "stdout",
          "text": [
            "Starting Training from Scratch.\n",
            "\n"
          ]
        },
        {
          "output_type": "stream",
          "name": "stderr",
          "text": [
            "/usr/local/lib/python3.7/dist-packages/torch/utils/data/dataloader.py:560: UserWarning: This DataLoader will create 10 worker processes in total. Our suggested max number of worker in current system is 2, which is smaller than what this DataLoader is going to create. Please be aware that excessive worker creation might get DataLoader running slow or even freeze, lower the worker number to avoid potential slowness/freeze if necessary.\n",
            "  cpuset_checked))\n"
          ]
        },
        {
          "output_type": "stream",
          "name": "stdout",
          "text": [
            "\n",
            "Epoch: 0 \tTraining Loss: 2.1574 \tValidation Loss: 1.8460\n",
            "\t\tTraining Accuracy: 21.38%\t Validation Accuracy: 33.90%\n",
            "\n",
            "Epoch: 1 \tTraining Loss: 1.9960 \tValidation Loss: 1.8244\n",
            "\t\tTraining Accuracy: 26.03%\t Validation Accuracy: 34.50%\n",
            "\n",
            "Epoch: 2 \tTraining Loss: 1.9015 \tValidation Loss: 1.7016\n",
            "\t\tTraining Accuracy: 29.92%\t Validation Accuracy: 37.30%\n",
            "\n",
            "Epoch: 3 \tTraining Loss: 1.8293 \tValidation Loss: 1.6620\n",
            "\t\tTraining Accuracy: 33.34%\t Validation Accuracy: 43.60%\n",
            "\n",
            "Epoch: 4 \tTraining Loss: 1.7630 \tValidation Loss: 1.6118\n",
            "\t\tTraining Accuracy: 36.49%\t Validation Accuracy: 43.40%\n",
            "\n",
            "Epoch: 5 \tTraining Loss: 1.7027 \tValidation Loss: 1.5591\n",
            "\t\tTraining Accuracy: 38.88%\t Validation Accuracy: 43.30%\n",
            "\n",
            "Epoch: 6 \tTraining Loss: 1.6607 \tValidation Loss: 1.5245\n",
            "\t\tTraining Accuracy: 40.56%\t Validation Accuracy: 47.20%\n",
            "\n",
            "Epoch: 7 \tTraining Loss: 1.6108 \tValidation Loss: 1.4873\n",
            "\t\tTraining Accuracy: 42.58%\t Validation Accuracy: 48.10%\n",
            "\n",
            "Epoch: 8 \tTraining Loss: 1.5737 \tValidation Loss: 1.4609\n",
            "\t\tTraining Accuracy: 44.32%\t Validation Accuracy: 50.30%\n",
            "\n",
            "Epoch: 9 \tTraining Loss: 1.5392 \tValidation Loss: 1.4582\n",
            "\t\tTraining Accuracy: 45.53%\t Validation Accuracy: 49.60%\n",
            "\n",
            "Epoch: 10 \tTraining Loss: 1.4987 \tValidation Loss: 1.4396\n",
            "\t\tTraining Accuracy: 47.01%\t Validation Accuracy: 49.60%\n",
            "\n",
            "Epoch: 11 \tTraining Loss: 1.4630 \tValidation Loss: 1.4153\n",
            "\t\tTraining Accuracy: 48.38%\t Validation Accuracy: 50.70%\n",
            "\n",
            "Epoch: 12 \tTraining Loss: 1.4333 \tValidation Loss: 1.3951\n",
            "\t\tTraining Accuracy: 49.45%\t Validation Accuracy: 49.20%\n",
            "\n",
            "Epoch: 13 \tTraining Loss: 1.3940 \tValidation Loss: 1.3773\n",
            "\t\tTraining Accuracy: 50.52%\t Validation Accuracy: 50.60%\n",
            "\n",
            "Epoch: 14 \tTraining Loss: 1.3730 \tValidation Loss: 1.3607\n",
            "\t\tTraining Accuracy: 51.67%\t Validation Accuracy: 52.40%\n",
            "\n",
            "Epoch: 15 \tTraining Loss: 1.3481 \tValidation Loss: 1.3722\n",
            "\t\tTraining Accuracy: 52.55%\t Validation Accuracy: 53.30%\n",
            "\n",
            "Epoch: 16 \tTraining Loss: 1.3105 \tValidation Loss: 1.3672\n",
            "\t\tTraining Accuracy: 53.57%\t Validation Accuracy: 51.50%\n",
            "\n",
            "Epoch: 17 \tTraining Loss: 1.2917 \tValidation Loss: 1.3309\n",
            "\t\tTraining Accuracy: 54.83%\t Validation Accuracy: 53.50%\n",
            "\n",
            "Epoch: 18 \tTraining Loss: 1.2694 \tValidation Loss: 1.3758\n",
            "\t\tTraining Accuracy: 55.14%\t Validation Accuracy: 52.20%\n",
            "\n",
            "Epoch: 19 \tTraining Loss: 1.2419 \tValidation Loss: 1.3800\n",
            "\t\tTraining Accuracy: 56.07%\t Validation Accuracy: 52.90%\n",
            "\n",
            "Epoch: 20 \tTraining Loss: 1.2251 \tValidation Loss: 1.3520\n",
            "\t\tTraining Accuracy: 56.65%\t Validation Accuracy: 54.80%\n",
            "\n",
            "Early Stopping! Total epochs: 20. Best epoch: 17 with loss: 1.33 and acc: 54.80%\n",
            "471.68 total seconds elapsed. 22.46 seconds per epoch.\n"
          ]
        }
      ]
    },
    {
      "cell_type": "code",
      "source": [
        "plt.figure(figsize=(8, 6))\n",
        "for c in ['train_loss', 'valid_loss']:\n",
        "    plt.plot(\n",
        "        history[c], label=c)\n",
        "plt.legend()\n",
        "plt.xlabel('Epoch')\n",
        "plt.ylabel('Average Negative Log Likelihood')\n",
        "plt.title('Training and Validation Losses')\n",
        "plt.show()"
      ],
      "metadata": {
        "colab": {
          "base_uri": "https://localhost:8080/",
          "height": 439
        },
        "id": "JYzYbtbY42GG",
        "outputId": "09c0b8da-0ee6-4c9a-b4e7-2405aaf53d61"
      },
      "execution_count": 58,
      "outputs": [
        {
          "output_type": "execute_result",
          "data": {
            "text/plain": [
              "<Figure size 576x432 with 0 Axes>"
            ]
          },
          "metadata": {},
          "execution_count": 58
        },
        {
          "output_type": "execute_result",
          "data": {
            "text/plain": [
              "[<matplotlib.lines.Line2D at 0x7f2a4d361d90>]"
            ]
          },
          "metadata": {},
          "execution_count": 58
        },
        {
          "output_type": "execute_result",
          "data": {
            "text/plain": [
              "[<matplotlib.lines.Line2D at 0x7f2a4d38d4d0>]"
            ]
          },
          "metadata": {},
          "execution_count": 58
        },
        {
          "output_type": "execute_result",
          "data": {
            "text/plain": [
              "<matplotlib.legend.Legend at 0x7f2a4d44e910>"
            ]
          },
          "metadata": {},
          "execution_count": 58
        },
        {
          "output_type": "execute_result",
          "data": {
            "text/plain": [
              "Text(0.5, 0, 'Epoch')"
            ]
          },
          "metadata": {},
          "execution_count": 58
        },
        {
          "output_type": "execute_result",
          "data": {
            "text/plain": [
              "Text(0, 0.5, 'Average Negative Log Likelihood')"
            ]
          },
          "metadata": {},
          "execution_count": 58
        },
        {
          "output_type": "execute_result",
          "data": {
            "text/plain": [
              "Text(0.5, 1.0, 'Training and Validation Losses')"
            ]
          },
          "metadata": {},
          "execution_count": 58
        },
        {
          "output_type": "display_data",
          "data": {
            "text/plain": [
              "<Figure size 576x432 with 1 Axes>"
            ],
            "image/png": "[encoded data removed]"
          },
          "metadata": {
            "needs_background": "light"
          }
        }
      ]
    },
    {
      "cell_type": "markdown",
      "source": [
        "# Failed experiments, may come in handy next assignment"
      ],
      "metadata": {
        "id": "SqCaGqPz2Y5d"
      }
    },
    {
      "cell_type": "code",
      "source": [
        "plt.figure(figsize=(8, 6))\n",
        "for c in ['train_acc', 'valid_acc']:\n",
        "    plt.plot(\n",
        "        100 * history[c], label=c)\n",
        "plt.legend()\n",
        "plt.xlabel('Epoch')\n",
        "plt.ylabel('Average Accuracy')\n",
        "plt.title('Training and Validation Accuracy')\n",
        "plt.show()"
      ],
      "metadata": {
        "colab": {
          "base_uri": "https://localhost:8080/",
          "height": 439
        },
        "id": "mUZAHwcjOPuu",
        "outputId": "5e50b987-3f95-4b35-d2d4-00b9f90451da"
      },
      "execution_count": 32,
      "outputs": [
        {
          "output_type": "execute_result",
          "data": {
            "text/plain": [
              "<Figure size 576x432 with 0 Axes>"
            ]
          },
          "metadata": {},
          "execution_count": 32
        },
        {
          "output_type": "execute_result",
          "data": {
            "text/plain": [
              "[<matplotlib.lines.Line2D at 0x7fb35d7bd650>]"
            ]
          },
          "metadata": {},
          "execution_count": 32
        },
        {
          "output_type": "execute_result",
          "data": {
            "text/plain": [
              "[<matplotlib.lines.Line2D at 0x7fb35d7bde10>]"
            ]
          },
          "metadata": {},
          "execution_count": 32
        },
        {
          "output_type": "execute_result",
          "data": {
            "text/plain": [
              "<matplotlib.legend.Legend at 0x7fb35e262f50>"
            ]
          },
          "metadata": {},
          "execution_count": 32
        },
        {
          "output_type": "execute_result",
          "data": {
            "text/plain": [
              "Text(0.5, 0, 'Epoch')"
            ]
          },
          "metadata": {},
          "execution_count": 32
        },
        {
          "output_type": "execute_result",
          "data": {
            "text/plain": [
              "Text(0, 0.5, 'Average Accuracy')"
            ]
          },
          "metadata": {},
          "execution_count": 32
        },
        {
          "output_type": "execute_result",
          "data": {
            "text/plain": [
              "Text(0.5, 1.0, 'Training and Validation Accuracy')"
            ]
          },
          "metadata": {},
          "execution_count": 32
        },
        {
          "output_type": "display_data",
          "data": {
            "text/plain": [
              "<Figure size 576x432 with 1 Axes>"
            ],
            "image/png": "[encoded data removed]"
          },
          "metadata": {
            "needs_background": "light"
          }
        }
      ]
    },
    {
      "cell_type": "code",
      "source": [
        "from data_utils import load_CIFAR10\n",
        "\n",
        "def get_CIFAR10_data_cnn(num_training=49000, num_validation=1000, num_test=1000):\n",
        "    \"\"\"\n",
        "    Load the CIFAR-10 dataset from disk and perform preprocessing to prepare\n",
        "    it for sqeezenet \n",
        "    [batch_size, channels, height, width] \n",
        "    \"\"\"\n",
        "    # Load the raw CIFAR-10 data\n",
        "    cifar10_dir = './datasets/'\n",
        "    \n",
        "    X_train, y_train, X_test, y_test = load_CIFAR10(cifar10_dir)\n",
        "        \n",
        "    # Subsample the data\n",
        "    mask = list(range(num_training, num_training + num_validation))\n",
        "    X_val = X_train[mask]\n",
        "    y_val = y_train[mask]\n",
        "    mask = list(range(num_training))\n",
        "    X_train = X_train[mask]\n",
        "    y_train = y_train[mask]\n",
        "    mask = list(range(num_test))\n",
        "    X_test = X_test[mask]\n",
        "    y_test = y_test[mask]\n",
        "\n",
        "    # Normalize the data: subtract the mean image\n",
        "    mean_image = np.mean(X_train, axis=0)\n",
        "    X_train -= mean_image\n",
        "    X_val -= mean_image\n",
        "    X_test -= mean_image\n",
        "\n",
        "    # Reshape data for tensorflow models (to fit CNN)\n",
        "    # https://stackoverflow.com/questions/42863683/cnn-for-cifar10-dataset-in-tensorflow\n",
        "    X_train = X_train.reshape(num_training,3,32,32).transpose(0,1,2,3)\n",
        "    X_val = X_val.reshape(num_validation,3,32,32).transpose(0,1,2,3)\n",
        "    X_test = X_test.reshape(num_test,3,32,32).transpose(0,1,2,3)\n",
        "\n",
        "    return X_train, y_train, X_val, y_val, X_test, y_test\n",
        "\n",
        "\n",
        "# Cleaning up variables to prevent loading data multiple times (which may cause memory issue)\n",
        "try:\n",
        "   del X_train, y_train\n",
        "   del X_test, y_test\n",
        "   print('Clear previously loaded data.')\n",
        "except:\n",
        "   pass\n",
        "\n",
        "# Invoke the above function to get our data.\n",
        "train_X_cnn, train_Y_cnn, validation_X_cnn, validation_Y_cnn, test_X_cnn, test_Y_cnn = get_CIFAR10_data_cnn()\n",
        "print('Train data shape: ', train_X.shape)\n",
        "print('Train labels shape: ', train_Y.shape)\n",
        "print('Validation data shape: ', validation_X.shape)\n",
        "print('Validation labels shape: ', validation_Y.shape)\n",
        "print('Test data shape: ', test_X.shape)\n",
        "print('Test labels shape: ', test_Y.shape)"
      ],
      "metadata": {
        "id": "T8Klubvx2QZw"
      },
      "execution_count": null,
      "outputs": []
    },
    {
      "cell_type": "code",
      "source": [
        "# Datasets organization\n",
        "# https://stackoverflow.com/questions/48343857/whats-the-reason-of-the-error-valueerror-expected-more-than-1-value-per-channe\n",
        "batch_size = 2\n",
        "\n",
        "# Transfer the data from numpy to tensor\n",
        "data_cnn = {\n",
        "    'train':\n",
        "    TensorDataset(torch.from_numpy(train_X), \n",
        "                  torch.from_numpy(train_Y).float()),\n",
        "    'valid':\n",
        "    # please define your validation dataset\n",
        "    ######################\n",
        "    ### YOUR CODE HERE ###\n",
        "    ######################\n",
        "    TensorDataset(torch.from_numpy(validation_X), \n",
        "                  torch.from_numpy(validation_Y).float()),\n",
        "    #####################\n",
        "    ### YOUR CODE END ###\n",
        "    #####################\n",
        "\n",
        "}\n",
        "\n",
        "\n",
        "# Dataloader iterators, make sure to shuffle\n",
        "dataloaders_cnn = {\n",
        "    'train': DataLoader(data_cnn['train'], \n",
        "                        batch_size=batch_size, \n",
        "                        shuffle=True,\n",
        "                        num_workers=4),\n",
        "    # please define your validation data loader\n",
        "    ######################\n",
        "    ### YOUR CODE HERE ###\n",
        "    ######################\n",
        "    'valid': DataLoader(data_cnn['valid'], \n",
        "                    batch_size=batch_size, \n",
        "                    shuffle=True,\n",
        "                    num_workers=4),\n",
        "    ######################\n",
        "    ### YOUR CODE END ####\n",
        "    ######################\n",
        "}"
      ],
      "metadata": {
        "id": "J6MK4Uh52LQ7"
      },
      "execution_count": null,
      "outputs": []
    },
    {
      "cell_type": "code",
      "source": [
        "######################\n",
        "### YOUR CODE HERE ###\n",
        "######################\n",
        "\n",
        "import torchvision.models as models\n",
        "\n",
        "from timeit import default_timer as timer\n",
        "save_file_name = f'/content/drive/MyDrive/Colab Notebooks/neural_net_pytorch/resnet_best_model.pt'\n",
        "\n",
        "model2 = models.resnext50_32x4d()\n",
        "\n",
        "criterion = nn.CrossEntropyLoss()\n",
        "optimizer = optim.Adam(model2.parameters(), lr=0.01)\n",
        "\n",
        "model, history = train(model2,\n",
        "    criterion,\n",
        "    optimizer,\n",
        "    dataloaders_cnn['train'], \n",
        "    dataloaders_cnn['valid'],\n",
        "    save_file_name=save_file_name,\n",
        "    max_epochs_stop=3,\n",
        "    n_epochs=100,\n",
        "    print_every=1)\n",
        "\n",
        "#####################\n",
        "### YOUR CODE END ###\n",
        "#####################"
      ],
      "metadata": {
        "id": "6X0SnKa48ogC"
      },
      "execution_count": null,
      "outputs": []
    }
  ],
  "metadata": {
    "accelerator": "GPU",
    "colab": {
      "collapsed_sections": [],
      "name": "week11_Callahan_callahp.ipynb",
      "provenance": [],
      "toc_visible": true,
      "include_colab_link": true
    },
    "kernelspec": {
      "display_name": "Python 3 (ipykernel)",
      "language": "python",
      "name": "python3"
    },
    "language_info": {
      "codemirror_mode": {
        "name": "ipython",
        "version": 3
      },
      "file_extension": ".py",
      "mimetype": "text/x-python",
      "name": "python",
      "nbconvert_exporter": "python",
      "pygments_lexer": "ipython3",
      "version": "3.7.3"
    },
    "toc": {
      "base_numbering": 1,
      "nav_menu": {},
      "number_sections": true,
      "sideBar": true,
      "skip_h1_title": false,
      "title_cell": "Table of Contents",
      "title_sidebar": "Contents",
      "toc_cell": false,
      "toc_position": {},
      "toc_section_display": true,
      "toc_window_display": false
    },
    "varInspector": {
      "cols": {
        "lenName": 16,
        "lenType": 16,
        "lenVar": 40
      },
      "kernels_config": {
        "python": {
          "delete_cmd_postfix": "",
          "delete_cmd_prefix": "del ",
          "library": "var_list.py",
          "varRefreshCmd": "print(var_dic_list())"
        },
        "r": {
          "delete_cmd_postfix": ") ",
          "delete_cmd_prefix": "rm(",
          "library": "var_list.r",
          "varRefreshCmd": "cat(var_dic_list()) "
        }
      },
      "types_to_exclude": [
        "module",
        "function",
        "builtin_function_or_method",
        "instance",
        "_Feature"
      ],
      "window_display": false
    }
  },
  "nbformat": 4,
  "nbformat_minor": 0
}