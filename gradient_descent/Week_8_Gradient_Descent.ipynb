{
  "nbformat": 4,
  "nbformat_minor": 0,
  "metadata": {
    "colab": {
      "name": "Week_8_Gradient_Descent.ipynb",
      "provenance": [],
      "collapsed_sections": [],
      "include_colab_link": true
    },
    "kernelspec": {
      "name": "python3",
      "display_name": "Python 3"
    },
    "language_info": {
      "name": "python"
    }
  },
  "cells": [
    {
      "cell_type": "markdown",
      "metadata": {
        "id": "view-in-github",
        "colab_type": "text"
      },
      "source": [
        "<a href=\"https://colab.research.google.com/github/peter-callahan/vanderbilt/blob/main/Week_8_Gradient_Descent.ipynb\" target=\"_parent\"><img src=\"https://colab.research.google.com/assets/colab-badge.svg\" alt=\"Open In Colab\"/></a>"
      ]
    },
    {
      "cell_type": "markdown",
      "source": [
        "# Machine Learning: Deep Learning\n",
        "> Week 8 In-class Exploration\n",
        "\n",
        "In this notebook, we explore concepts of regression and deep learning further."
      ],
      "metadata": {
        "id": "X0dRo4YvVvAA"
      }
    },
    {
      "cell_type": "code",
      "source": [
        "#imports\n",
        "import pandas as pd\n",
        "import numpy as np\n",
        "import matplotlib.pyplot as plt"
      ],
      "metadata": {
        "id": "884P1DokV5V2"
      },
      "execution_count": null,
      "outputs": []
    },
    {
      "cell_type": "markdown",
      "source": [
        "# Linear Regression and Cost Functions Example\n",
        "\n",
        "Let's take this step-by-step to begin with."
      ],
      "metadata": {
        "id": "iWEF5AH6V7iJ"
      }
    },
    {
      "cell_type": "code",
      "source": [
        "# Create basic linear data from class slides\n",
        "demo_regr_data = np.array([[1,6],\n",
        "                           [2,5],\n",
        "                           [3,7],\n",
        "                           [4,10]])"
      ],
      "metadata": {
        "id": "qXNIRbbuWIt2"
      },
      "execution_count": null,
      "outputs": []
    },
    {
      "cell_type": "markdown",
      "source": [
        "## Calculate model output given parameters\n",
        "Now, let's calculate the output for a single training example. We know that the formula for this for a single variable model is as follows:\n",
        "\n",
        "$$h_\\theta(x) = \\theta_0 + \\theta_1x_1$$\n",
        "\n",
        "or more specifically to our syntax here:\n",
        "\n",
        "$$\\hat{y}_\\theta(x) = \\theta_0 + \\theta_1x_1$$\n",
        "\n",
        "Let's write this..."
      ],
      "metadata": {
        "id": "zdZTxw6mXIOM"
      }
    },
    {
      "cell_type": "code",
      "source": [
        "# make up some initial thetas\n",
        "theta_0 = 0.22\n",
        "theta_1 = 0.86"
      ],
      "metadata": {
        "id": "kl7Xw-RCXXLG"
      },
      "execution_count": null,
      "outputs": []
    },
    {
      "cell_type": "code",
      "source": [
        "# get example 0\n",
        "x1, y = demo_regr_data[0]\n",
        "x1, y"
      ],
      "metadata": {
        "id": "WXmI5tarXpB_",
        "colab": {
          "base_uri": "https://localhost:8080/"
        },
        "outputId": "55c10722-9591-47d8-c5a8-16c0e7b1d2b5"
      },
      "execution_count": null,
      "outputs": [
        {
          "output_type": "execute_result",
          "data": {
            "text/plain": [
              "(1, 6)"
            ]
          },
          "metadata": {},
          "execution_count": 154
        }
      ]
    },
    {
      "cell_type": "code",
      "source": [
        "# use formula for linear regression to get output\n",
        "y_hat = theta_0 + theta_1 * x1"
      ],
      "metadata": {
        "id": "i6HNFHbEXT8P"
      },
      "execution_count": null,
      "outputs": []
    },
    {
      "cell_type": "markdown",
      "source": [
        "## Error, cost, and loss\n",
        "Recall our overall cost (or loss) function: \n",
        "\n",
        "$$J(\\theta) = \\frac{1}{2m}\\sum\\limits_{i = 1}^{m}(h_\\theta(x^{(i)}) - y^{(i)})^2$$\n",
        "\n",
        "What is the error for this one training example given these model parameters?"
      ],
      "metadata": {
        "id": "VkZ4364xYRdj"
      }
    },
    {
      "cell_type": "code",
      "source": [
        "# calculate basic error\n",
        "error = y_hat - y"
      ],
      "metadata": {
        "id": "5_9JnAbgYnVo"
      },
      "execution_count": null,
      "outputs": []
    },
    {
      "cell_type": "markdown",
      "source": [
        "What is the cost associated with this training example given these model parameters?"
      ],
      "metadata": {
        "id": "oJAywUkZYzRG"
      }
    },
    {
      "cell_type": "code",
      "source": [
        "# calculate cost\n",
        "cost = 0.5 * (error ** 2)"
      ],
      "metadata": {
        "id": "hgVTNHAPY2zz"
      },
      "execution_count": null,
      "outputs": []
    },
    {
      "cell_type": "markdown",
      "source": [
        "## Updating the model parameters based on gradient descent\n",
        "What would gradient descent look like for this example? Recall:\n",
        "\n",
        "\n",
        "$$\\theta_j := \\theta_j - \\alpha(h_\\theta(x^{(i)}) - y^{(i)}) x_j^{(i)}$$\n",
        "\n",
        "or more specifically to our syntax here:\n",
        "\n",
        "$$\\theta_j := \\theta_j - \\alpha (\\hat{y}_\\theta(x^{(i)}) - y^{(i)}) x_j^{(i)}$$\n",
        "\n",
        "Keeping in mind:  \n",
        "* _j_ denotes an individual parameter in a model. \n",
        "* _i_ denotes a particular training example"
      ],
      "metadata": {
        "id": "cdSMFORtYJii"
      }
    },
    {
      "cell_type": "code",
      "source": [
        "# new parameter - learning rate\n",
        "alpha = 5e-3\n",
        "alpha"
      ],
      "metadata": {
        "id": "xNYCuyqCboui",
        "colab": {
          "base_uri": "https://localhost:8080/"
        },
        "outputId": "7481e774-22c9-44dd-cc88-2ef0ca2fb070"
      },
      "execution_count": null,
      "outputs": [
        {
          "output_type": "execute_result",
          "data": {
            "text/plain": [
              "0.005"
            ]
          },
          "metadata": {},
          "execution_count": 158
        }
      ]
    },
    {
      "cell_type": "code",
      "source": [
        "# calculate update for theta 0\n",
        "theta_0_new = theta_0 - alpha * (error) * 1\n",
        "theta_0_new"
      ],
      "metadata": {
        "id": "MY2rYifZYMwJ",
        "colab": {
          "base_uri": "https://localhost:8080/"
        },
        "outputId": "feb1311a-4cf5-4597-d972-bd688d7ca667"
      },
      "execution_count": null,
      "outputs": [
        {
          "output_type": "execute_result",
          "data": {
            "text/plain": [
              "0.2446"
            ]
          },
          "metadata": {},
          "execution_count": 159
        }
      ]
    },
    {
      "cell_type": "code",
      "source": [
        "# calculate update for theta 1\n",
        "theta_1_new = theta_1 - alpha * (error) * x1\n",
        "theta_1_new"
      ],
      "metadata": {
        "id": "pYU8vQnMb7NK",
        "colab": {
          "base_uri": "https://localhost:8080/"
        },
        "outputId": "2ec56e6d-75e5-492f-99cd-3150307eb5a9"
      },
      "execution_count": null,
      "outputs": [
        {
          "output_type": "execute_result",
          "data": {
            "text/plain": [
              "0.8845999999999999"
            ]
          },
          "metadata": {},
          "execution_count": 160
        }
      ]
    },
    {
      "cell_type": "code",
      "source": [
        "# do the update\n",
        "theta_0 = theta_0_new\n",
        "theta_1 = theta_1_new"
      ],
      "metadata": {
        "id": "NV9EFMeNcG5g"
      },
      "execution_count": null,
      "outputs": []
    },
    {
      "cell_type": "markdown",
      "source": [
        "## Let's write some functions to help us out with training."
      ],
      "metadata": {
        "id": "f2WqvjQYcOwk"
      }
    },
    {
      "cell_type": "code",
      "source": [
        "def calculate_single_forward(thetas, train_ex):\n",
        "    '''\n",
        "        thetas: theta0, theta1, ..., thetaj\n",
        "        train_ex: (x, y)\n",
        "        \n",
        "        returns: gradients based on a single training example\n",
        "    '''\n",
        "\n",
        "    # parse model parameters\n",
        "    theta_0 = thetas[0]\n",
        "    theta_1 = thetas[1]\n",
        "\n",
        "    # parse data inputs\n",
        "    x0 = 1\n",
        "    x1 = train_ex[0]\n",
        "    y = train_ex[1]\n",
        "\n",
        "    # do one forward pass with a single training example\n",
        "    # to calculate error and gradient\n",
        "    y_hat = theta_0 + theta_1 * x1\n",
        "    error = y_hat - y\n",
        "\n",
        "    # for each theta, we need the gradient for an update\n",
        "    gradients = np.array([error * x0, error * x1])\n",
        "\n",
        "    # Question: what would you do differently for GD or mini-batch GD?\n",
        "\n",
        "    return gradients"
      ],
      "metadata": {
        "id": "mecUhzIycSUm"
      },
      "execution_count": null,
      "outputs": []
    },
    {
      "cell_type": "markdown",
      "source": [
        "For the actual gradient descent, this is the update function:\n",
        "\n",
        "$$\\theta_j := \\theta_j - \\alpha \\sum\\limits_{i = 1}^{m}(h_\\theta(x^{(i)}) - y^{(i)})x_j^{(i)}$$\n"
      ],
      "metadata": {
        "id": "Bk_m-LVQ9PqV"
      }
    },
    {
      "cell_type": "code",
      "source": [
        "def gradient_descent(training_data, thetas, alpha=5e-3):\n",
        "    '''\n",
        "    training_data: training dataset\n",
        "    thetas: theta0, theta1, ..., thetaj\n",
        "    alpha: learning rate, default to 0.0005\n",
        "    \n",
        "    returns: \n",
        "            - thetas: the updated thetas\n",
        "            - total_error: total error (note, not loss) from this iteration\n",
        "    '''\n",
        "    \n",
        "    total_error = 0\n",
        "    overall_gradients = np.zeros(2)\n",
        "\n",
        "    # compute the summation of gradients across all training examples\n",
        "    for ex in training_data:\n",
        "        gradients = calculate_single_forward(thetas, ex)\n",
        "        # gradients[0] is the error term (gradients[0] = error * x0 = error * 1)\n",
        "        total_error += gradients[0]\n",
        "        overall_gradients = overall_gradients + gradients\n",
        "\n",
        "    # update thetas\n",
        "    theta_0, theta_1 = thetas\n",
        "    thetas[0] = theta_0 - alpha * overall_gradients[0]\n",
        "    thetas[1] = theta_1 - alpha * overall_gradients[1]\n",
        "\n",
        "    return thetas, total_error"
      ],
      "metadata": {
        "id": "1ZLo3oICgCg2"
      },
      "execution_count": null,
      "outputs": []
    },
    {
      "cell_type": "markdown",
      "source": [
        "## Let's try it out for regression!"
      ],
      "metadata": {
        "id": "rAgecJk8kfpe"
      }
    },
    {
      "cell_type": "code",
      "source": [
        "# set initial parameters\n",
        "thetas = [3.44, 2.13]\n",
        "old_thetas = thetas.copy()\n",
        "alpha = 5e-3\n",
        "\n",
        "# prepare training\n",
        "total_epochs = 100\n",
        "error_traj = [0] * total_epochs\n",
        "\n",
        "# perform training\n",
        "for epoch in range(total_epochs):\n",
        "    thetas, epoch_error = gradient_descent(demo_regr_data, thetas, alpha)\n",
        "    # store a history of errors\n",
        "    error_traj[epoch] = epoch_error\n"
      ],
      "metadata": {
        "id": "zTCiD-aQe3b5"
      },
      "execution_count": null,
      "outputs": []
    },
    {
      "cell_type": "code",
      "source": [
        "# Let's do an exploratory plot\n",
        "plt.plot(error_traj)\n",
        "plt.xlabel('Epoch')\n",
        "plt.ylabel('Error')\n",
        "plt.title('Training of Demo Regression model');"
      ],
      "metadata": {
        "id": "gYL7EwLapjJq",
        "colab": {
          "base_uri": "https://localhost:8080/",
          "height": 295
        },
        "outputId": "ae73db05-d442-45a9-c893-8a294cfcb4ff"
      },
      "execution_count": null,
      "outputs": [
        {
          "output_type": "display_data",
          "data": {
            "text/plain": [
              "<Figure size 432x288 with 1 Axes>"
            ],
            "image/png": "[encoded data removed]"
          },
          "metadata": {
            "needs_background": "light"
          }
        }
      ]
    },
    {
      "cell_type": "code",
      "source": [
        "# Let's look at the actual least squares\n",
        "lin_pts = np.linspace(0, 5, 25) # gives you 25 values between [0, 5]\n",
        "mdl_pts = thetas[0] + lin_pts * thetas[1]\n",
        "plt.plot(lin_pts, mdl_pts, linewidth=4, label='Final model fit')\n",
        "plt.legend()\n",
        "\n",
        "# Let's look at the original least squares\n",
        "orig_mdl_pts = old_thetas[0] + lin_pts * old_thetas[1]\n",
        "plt.plot(lin_pts, orig_mdl_pts, ':', linewidth=4, label='Original model fit')\n",
        "plt.legend()\n",
        "\n",
        "# Let's plot the original points\n",
        "plt.plot(demo_regr_data[:,0], demo_regr_data[:,1], 'ro', label='Data points') # 'ro' for red, circle\n",
        "plt.legend()\n",
        "plt.xlabel('Demo x label')\n",
        "plt.ylabel('Demo y label')\n",
        "plt.title('Comparison of pre- vs post-model training')"
      ],
      "metadata": {
        "id": "xKRsWI89qqPZ",
        "colab": {
          "base_uri": "https://localhost:8080/",
          "height": 295
        },
        "outputId": "6272b732-5978-4166-cf7e-67789d1bb552"
      },
      "execution_count": null,
      "outputs": [
        {
          "output_type": "display_data",
          "data": {
            "text/plain": [
              "<Figure size 432x288 with 1 Axes>"
            ],
            "image/png": "[encoded data removed]"
          },
          "metadata": {
            "needs_background": "light"
          }
        }
      ]
    },
    {
      "cell_type": "markdown",
      "source": [
        "# Thoughts to consider for your homework.."
      ],
      "metadata": {
        "id": "niBWzHJVwNEt"
      }
    },
    {
      "cell_type": "markdown",
      "source": [
        "## Generalizing these functions\n",
        "We've already written some solid code here which could actually be used in your homework for the single variable model. We've done so by parsing out every single variable and written all of the functions specifically for this single variable model.\n",
        "\n",
        "However, this single variable model could actually be easily expressed mathematically (i.e., as shown in the lecture), which would also allow you to generalize this to the multivariable input case. Where and how do you think you would need to change this code to achieve these results?\n",
        "\n",
        "Also, keep in mind that $x_0$ as we defined it is the \"data\" which accompanies the \"bias\". But this value didn't come from our data, and appeared to be set. Think on why this is, and think about how this can be implemented programmatically.\n"
      ],
      "metadata": {
        "id": "LrRQpJBNu_aH"
      }
    },
    {
      "cell_type": "markdown",
      "source": [
        "## Extending to logistic regression (classification)\n",
        "Another part of your homework will be in applying this code to logistic regression. Consider the following:\n",
        "* What is the practical difference (i.e., in code) between the linear regression method vs the logistic regression?\n",
        "* Based on these differences, what would you need to change in the code above?"
      ],
      "metadata": {
        "id": "PUbo_wGQwShy"
      }
    },
    {
      "cell_type": "markdown",
      "source": [
        "## Extending to stochastic gradient descent\n",
        "\n",
        "We've written the code for traditional gradient descent, or updates to the parameters of the model given the error from the entire training batch.\n",
        "\n",
        "How would the code above change (or your code) to accommodate stochastic gradient descent (parameter updates based on a subset of the training data?)\n",
        "\n",
        "What would this look like for:\n",
        "* Parameter updates after **each training example**, and\n",
        "* Parameter updates after/based on **a specified number of training examples** (e.g., if the user wanted to set the batch size to be 2 or 3?)"
      ],
      "metadata": {
        "id": "jJ7U7V1DwcbF"
      }
    },
    {
      "cell_type": "markdown",
      "source": [
        "## Stopping criteria\n",
        "In the in-class example, we ran the model for a number of training epochs. Thus, our stopping criteria was: training should be terminated after we have exceeded the specified number of epochs.\n",
        "\n",
        "What are some examples of better stopping criteria?"
      ],
      "metadata": {
        "id": "fIbe2KSxzJIP"
      }
    },
    {
      "cell_type": "code",
      "source": [
        ""
      ],
      "metadata": {
        "id": "KjDT5r9Kzb05"
      },
      "execution_count": null,
      "outputs": []
    }
  ]
}