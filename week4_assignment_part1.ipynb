{
  "cells": [
    {
      "cell_type": "markdown",
      "metadata": {
        "id": "view-in-github",
        "colab_type": "text"
      },
      "source": [
        "<a href=\"https://colab.research.google.com/github/peter-callahan/vanderbilt/blob/main/week4_assignment_part1.ipynb\" target=\"_parent\"><img src=\"https://colab.research.google.com/assets/colab-badge.svg\" alt=\"Open In Colab\"/></a>"
      ]
    },
    {
      "cell_type": "markdown",
      "id": "82ba5cb0-b81e-43ea-acfa-e661fff2572c",
      "metadata": {
        "id": "82ba5cb0-b81e-43ea-acfa-e661fff2572c"
      },
      "source": [
        "# CS 5262-51 Week 4 Assignment Part 1\n",
        "\n",
        "## Instructions of Part 1 of this assignment:\n",
        "- Run all the cells in this notebook and observe the outputs as a refresher of the problem to be solved here and the process of producing a first few ML models. \n",
        "- Choose one model and build an ROC curve with the best threshold value indicated in the graph (like we did in class this week). \n",
        "- Now suppose that for each penguin whose sex is correctly identified, you'll be rewarded $50, and it will cost you $75 for each incorrectly identified penguin. What will be the new threshold in this case?\n",
        "- Add your code to the end of this notebook and submit the updated notebook **under Assignment 4 on Brightspace**\n",
        "\n",
        "*Optional Challenge Tasks*: \n",
        "1. Can you plot the precision_recall curve and identify the best general threshold (assuming there is no cost/benefit difference) for the classification task using the same model as above? \n",
        "2. (Extra challenge) Given the optimal threshold found in optional challenge task 1, produce a confusion matrix showing your new classification results using the same model as above, i.e., you can simply calculate the TP, FP, TN, and FN values"
      ]
    },
    {
      "cell_type": "markdown",
      "id": "3a251b12-73f7-4007-8f91-a866b8539ded",
      "metadata": {
        "id": "3a251b12-73f7-4007-8f91-a866b8539ded"
      },
      "source": [
        "This notebook demonstrates the usage of pipelines to promote best practices for Machine Learning in Python. As a reminder, below are the following best practices we should follow when performing Machine Learning in Python:\n",
        "\n",
        "1. Perform all pre-processing steps within cross-validation\n",
        "2. Measure model performance (and model selection) using cross-validation\n",
        "3. Follow literate programming practices to make code readable and make collaboration easier\n",
        "\n",
        "## Problem Formulation\n",
        "\n",
        "In this example, we will use Allison Horst's Palmer Penguins dataset, available here: https://github.com/allisonhorst/palmerpenguins.\n",
        "\n",
        "The dataset contains data on 344 penguins. There are three different species of penguins in the dataset, collected from three separate islands in the Palmer Archipelago, Antarctica. "
      ]
    },
    {
      "cell_type": "code",
      "execution_count": null,
      "id": "5d51761d-af0e-411f-9375-54bcd91a62db",
      "metadata": {
        "id": "5d51761d-af0e-411f-9375-54bcd91a62db"
      },
      "outputs": [],
      "source": [
        "#tables and visualizations\n",
        "import pandas as pd\n",
        "import numpy as np\n",
        "import seaborn as sns\n",
        "import matplotlib.pyplot as plt\n",
        "\n",
        "#machine learning\n",
        "from sklearn.model_selection import train_test_split, GridSearchCV\n",
        "from sklearn.linear_model import LogisticRegression\n",
        "from sklearn.ensemble import RandomForestClassifier\n",
        "from sklearn.pipeline import Pipeline \n",
        "from sklearn.compose import ColumnTransformer, make_column_selector\n",
        "from sklearn.impute import SimpleImputer\n",
        "from sklearn.preprocessing import OneHotEncoder, LabelBinarizer, StandardScaler\n",
        "from sklearn import config_context\n",
        "from sklearn.metrics import classification_report, confusion_matrix, ConfusionMatrixDisplay"
      ]
    },
    {
      "cell_type": "markdown",
      "id": "87e69be8-1415-482e-adc2-4d71a697535b",
      "metadata": {
        "id": "87e69be8-1415-482e-adc2-4d71a697535b"
      },
      "source": [
        "## Load Data\n",
        "\n",
        "Here we first load the data into python using pandas and read it in as a pandas dataframe which is the format which we will use throughout the example. "
      ]
    },
    {
      "cell_type": "code",
      "execution_count": null,
      "id": "6b347d70-2e7b-4cdc-a290-ace614045711",
      "metadata": {
        "colab": {
          "base_uri": "https://localhost:8080/",
          "height": 467
        },
        "id": "6b347d70-2e7b-4cdc-a290-ace614045711",
        "outputId": "a48a4693-aed7-482d-eeea-c8d9d6baeb5c"
      },
      "outputs": [
        {
          "output_type": "display_data",
          "data": {
            "text/plain": [
              "  species     island  bill_length_mm  bill_depth_mm  flipper_length_mm  \\\n",
              "0  Adelie  Torgersen            39.1           18.7              181.0   \n",
              "1  Adelie  Torgersen            39.5           17.4              186.0   \n",
              "2  Adelie  Torgersen            40.3           18.0              195.0   \n",
              "3  Adelie  Torgersen             NaN            NaN                NaN   \n",
              "4  Adelie  Torgersen            36.7           19.3              193.0   \n",
              "\n",
              "   body_mass_g     sex  year  \n",
              "0       3750.0    male  2007  \n",
              "1       3800.0  female  2007  \n",
              "2       3250.0  female  2007  \n",
              "3          NaN     NaN  2007  \n",
              "4       3450.0  female  2007  "
            ],
            "text/html": [
              "\n",
              "  <div id=\"df-9c327f08-96a6-4023-8585-e6b34e2cb5c3\">\n",
              "    <div class=\"colab-df-container\">\n",
              "      <div>\n",
              "<style scoped>\n",
              "    .dataframe tbody tr th:only-of-type {\n",
              "        vertical-align: middle;\n",
              "    }\n",
              "\n",
              "    .dataframe tbody tr th {\n",
              "        vertical-align: top;\n",
              "    }\n",
              "\n",
              "    .dataframe thead th {\n",
              "        text-align: right;\n",
              "    }\n",
              "</style>\n",
              "<table border=\"1\" class=\"dataframe\">\n",
              "  <thead>\n",
              "    <tr style=\"text-align: right;\">\n",
              "      <th></th>\n",
              "      <th>species</th>\n",
              "      <th>island</th>\n",
              "      <th>bill_length_mm</th>\n",
              "      <th>bill_depth_mm</th>\n",
              "      <th>flipper_length_mm</th>\n",
              "      <th>body_mass_g</th>\n",
              "      <th>sex</th>\n",
              "      <th>year</th>\n",
              "    </tr>\n",
              "  </thead>\n",
              "  <tbody>\n",
              "    <tr>\n",
              "      <th>0</th>\n",
              "      <td>Adelie</td>\n",
              "      <td>Torgersen</td>\n",
              "      <td>39.1</td>\n",
              "      <td>18.7</td>\n",
              "      <td>181.0</td>\n",
              "      <td>3750.0</td>\n",
              "      <td>male</td>\n",
              "      <td>2007</td>\n",
              "    </tr>\n",
              "    <tr>\n",
              "      <th>1</th>\n",
              "      <td>Adelie</td>\n",
              "      <td>Torgersen</td>\n",
              "      <td>39.5</td>\n",
              "      <td>17.4</td>\n",
              "      <td>186.0</td>\n",
              "      <td>3800.0</td>\n",
              "      <td>female</td>\n",
              "      <td>2007</td>\n",
              "    </tr>\n",
              "    <tr>\n",
              "      <th>2</th>\n",
              "      <td>Adelie</td>\n",
              "      <td>Torgersen</td>\n",
              "      <td>40.3</td>\n",
              "      <td>18.0</td>\n",
              "      <td>195.0</td>\n",
              "      <td>3250.0</td>\n",
              "      <td>female</td>\n",
              "      <td>2007</td>\n",
              "    </tr>\n",
              "    <tr>\n",
              "      <th>3</th>\n",
              "      <td>Adelie</td>\n",
              "      <td>Torgersen</td>\n",
              "      <td>NaN</td>\n",
              "      <td>NaN</td>\n",
              "      <td>NaN</td>\n",
              "      <td>NaN</td>\n",
              "      <td>NaN</td>\n",
              "      <td>2007</td>\n",
              "    </tr>\n",
              "    <tr>\n",
              "      <th>4</th>\n",
              "      <td>Adelie</td>\n",
              "      <td>Torgersen</td>\n",
              "      <td>36.7</td>\n",
              "      <td>19.3</td>\n",
              "      <td>193.0</td>\n",
              "      <td>3450.0</td>\n",
              "      <td>female</td>\n",
              "      <td>2007</td>\n",
              "    </tr>\n",
              "  </tbody>\n",
              "</table>\n",
              "</div>\n",
              "      <button class=\"colab-df-convert\" onclick=\"convertToInteractive('df-9c327f08-96a6-4023-8585-e6b34e2cb5c3')\"\n",
              "              title=\"Convert this dataframe to an interactive table.\"\n",
              "              style=\"display:none;\">\n",
              "        \n",
              "  <svg xmlns=\"http://www.w3.org/2000/svg\" height=\"24px\"viewBox=\"0 0 24 24\"\n",
              "       width=\"24px\">\n",
              "    <path d=\"M0 0h24v24H0V0z\" fill=\"none\"/>\n",
              "    <path d=\"M18.56 5.44l.94 2.06.94-2.06 2.06-.94-2.06-.94-.94-2.06-.94 2.06-2.06.94zm-11 1L8.5 8.5l.94-2.06 2.06-.94-2.06-.94L8.5 2.5l-.94 2.06-2.06.94zm10 10l.94 2.06.94-2.06 2.06-.94-2.06-.94-.94-2.06-.94 2.06-2.06.94z\"/><path d=\"M17.41 7.96l-1.37-1.37c-.4-.4-.92-.59-1.43-.59-.52 0-1.04.2-1.43.59L10.3 9.45l-7.72 7.72c-.78.78-.78 2.05 0 2.83L4 21.41c.39.39.9.59 1.41.59.51 0 1.02-.2 1.41-.59l7.78-7.78 2.81-2.81c.8-.78.8-2.07 0-2.86zM5.41 20L4 18.59l7.72-7.72 1.47 1.35L5.41 20z\"/>\n",
              "  </svg>\n",
              "      </button>\n",
              "      \n",
              "  <style>\n",
              "    .colab-df-container {\n",
              "      display:flex;\n",
              "      flex-wrap:wrap;\n",
              "      gap: 12px;\n",
              "    }\n",
              "\n",
              "    .colab-df-convert {\n",
              "      background-color: #E8F0FE;\n",
              "      border: none;\n",
              "      border-radius: 50%;\n",
              "      cursor: pointer;\n",
              "      display: none;\n",
              "      fill: #1967D2;\n",
              "      height: 32px;\n",
              "      padding: 0 0 0 0;\n",
              "      width: 32px;\n",
              "    }\n",
              "\n",
              "    .colab-df-convert:hover {\n",
              "      background-color: #E2EBFA;\n",
              "      box-shadow: 0px 1px 2px rgba(60, 64, 67, 0.3), 0px 1px 3px 1px rgba(60, 64, 67, 0.15);\n",
              "      fill: #174EA6;\n",
              "    }\n",
              "\n",
              "    [theme=dark] .colab-df-convert {\n",
              "      background-color: #3B4455;\n",
              "      fill: #D2E3FC;\n",
              "    }\n",
              "\n",
              "    [theme=dark] .colab-df-convert:hover {\n",
              "      background-color: #434B5C;\n",
              "      box-shadow: 0px 1px 3px 1px rgba(0, 0, 0, 0.15);\n",
              "      filter: drop-shadow(0px 1px 2px rgba(0, 0, 0, 0.3));\n",
              "      fill: #FFFFFF;\n",
              "    }\n",
              "  </style>\n",
              "\n",
              "      <script>\n",
              "        const buttonEl =\n",
              "          document.querySelector('#df-9c327f08-96a6-4023-8585-e6b34e2cb5c3 button.colab-df-convert');\n",
              "        buttonEl.style.display =\n",
              "          google.colab.kernel.accessAllowed ? 'block' : 'none';\n",
              "\n",
              "        async function convertToInteractive(key) {\n",
              "          const element = document.querySelector('#df-9c327f08-96a6-4023-8585-e6b34e2cb5c3');\n",
              "          const dataTable =\n",
              "            await google.colab.kernel.invokeFunction('convertToInteractive',\n",
              "                                                     [key], {});\n",
              "          if (!dataTable) return;\n",
              "\n",
              "          const docLinkHtml = 'Like what you see? Visit the ' +\n",
              "            '<a target=\"_blank\" href=https://colab.research.google.com/notebooks/data_table.ipynb>data table notebook</a>'\n",
              "            + ' to learn more about interactive tables.';\n",
              "          element.innerHTML = '';\n",
              "          dataTable['output_type'] = 'display_data';\n",
              "          await google.colab.output.renderOutput(dataTable, element);\n",
              "          const docLink = document.createElement('div');\n",
              "          docLink.innerHTML = docLinkHtml;\n",
              "          element.appendChild(docLink);\n",
              "        }\n",
              "      </script>\n",
              "    </div>\n",
              "  </div>\n",
              "  "
            ]
          },
          "metadata": {}
        },
        {
          "output_type": "stream",
          "name": "stdout",
          "text": [
            "<class 'pandas.core.frame.DataFrame'>\n",
            "RangeIndex: 344 entries, 0 to 343\n",
            "Data columns (total 8 columns):\n",
            " #   Column             Non-Null Count  Dtype  \n",
            "---  ------             --------------  -----  \n",
            " 0   species            344 non-null    object \n",
            " 1   island             344 non-null    object \n",
            " 2   bill_length_mm     342 non-null    float64\n",
            " 3   bill_depth_mm      342 non-null    float64\n",
            " 4   flipper_length_mm  342 non-null    float64\n",
            " 5   body_mass_g        342 non-null    float64\n",
            " 6   sex                333 non-null    object \n",
            " 7   year               344 non-null    int64  \n",
            "dtypes: float64(4), int64(1), object(3)\n",
            "memory usage: 21.6+ KB\n"
          ]
        }
      ],
      "source": [
        "penguins = pd.read_csv('https://raw.githubusercontent.com/allisonhorst/palmerpenguins/master/inst/extdata/penguins.csv')\n",
        "display(penguins.head())\n",
        "penguins.info()"
      ]
    },
    {
      "cell_type": "code",
      "execution_count": null,
      "id": "107620e0-89ee-4f53-ac2e-dd0d03b15b66",
      "metadata": {
        "colab": {
          "base_uri": "https://localhost:8080/"
        },
        "id": "107620e0-89ee-4f53-ac2e-dd0d03b15b66",
        "outputId": "cf79a7c5-5a7e-4313-8db4-52d46d098ffb"
      },
      "outputs": [
        {
          "output_type": "execute_result",
          "data": {
            "text/plain": [
              "species               0\n",
              "island                0\n",
              "bill_length_mm        2\n",
              "bill_depth_mm         2\n",
              "flipper_length_mm     2\n",
              "body_mass_g           2\n",
              "sex                  11\n",
              "year                  0\n",
              "dtype: int64"
            ]
          },
          "metadata": {},
          "execution_count": 3
        }
      ],
      "source": [
        "penguins.isna().sum()"
      ]
    },
    {
      "cell_type": "markdown",
      "id": "f3200837-3b0e-42f5-aac2-c2dc6dec3fd0",
      "metadata": {
        "id": "f3200837-3b0e-42f5-aac2-c2dc6dec3fd0"
      },
      "source": [
        "## Data cleaning and EDA\n",
        "\n",
        "We can now explore our data. We leave this exercise to the reader. For now, we can observe that there are a few NA values which will likely need imputation. We'll wait for this step so that we can put it within our training loop. For now, we'll just drop all of the sex NAs out of the dataframe."
      ]
    },
    {
      "cell_type": "code",
      "execution_count": null,
      "id": "ae42a8db-457d-4532-934b-b4be3e6ce33b",
      "metadata": {
        "colab": {
          "base_uri": "https://localhost:8080/"
        },
        "id": "ae42a8db-457d-4532-934b-b4be3e6ce33b",
        "outputId": "e4c3d5a4-f5a1-478a-bde4-2b6b07f2fa4d"
      },
      "outputs": [
        {
          "output_type": "execute_result",
          "data": {
            "text/plain": [
              "(333, 8)"
            ]
          },
          "metadata": {},
          "execution_count": 4
        }
      ],
      "source": [
        "penguins = penguins.dropna(subset=['sex'])\n",
        "penguins.shape"
      ]
    },
    {
      "cell_type": "code",
      "execution_count": null,
      "id": "02c5bb25-8c26-47b0-b53c-f352babdb717",
      "metadata": {
        "id": "02c5bb25-8c26-47b0-b53c-f352babdb717"
      },
      "outputs": [],
      "source": [
        "class_column = 'sex'\n",
        "random_seed = 2435\n",
        "\n",
        "X_train, X_test, y_train, y_test = train_test_split(penguins.drop(columns=class_column), penguins[class_column],\n",
        "                                                   test_size=0.25, random_state=random_seed, stratify=penguins[class_column])"
      ]
    },
    {
      "cell_type": "markdown",
      "id": "9774a06c-3c40-48c0-8834-2570785a918f",
      "metadata": {
        "id": "9774a06c-3c40-48c0-8834-2570785a918f"
      },
      "source": [
        "Quick sanity check to make sure that everything seems correct:"
      ]
    },
    {
      "cell_type": "code",
      "execution_count": null,
      "id": "2c32bbd1-5392-4281-a1a4-a38ed6dd6390",
      "metadata": {
        "colab": {
          "base_uri": "https://localhost:8080/",
          "height": 482
        },
        "id": "2c32bbd1-5392-4281-a1a4-a38ed6dd6390",
        "outputId": "c43d4dd3-a675-41d6-eb12-028127eb3f7e"
      },
      "outputs": [
        {
          "output_type": "stream",
          "name": "stdout",
          "text": [
            "On X train: \n",
            "X train dimensions:  (249, 7)\n"
          ]
        },
        {
          "output_type": "display_data",
          "data": {
            "text/plain": [
              "    species  island  bill_length_mm  bill_depth_mm  flipper_length_mm  \\\n",
              "101  Adelie  Biscoe            41.0           20.0              203.0   \n",
              "260  Gentoo  Biscoe            43.3           14.0              208.0   \n",
              "142  Adelie   Dream            32.1           15.5              188.0   \n",
              "155  Gentoo  Biscoe            50.0           15.2              218.0   \n",
              "136  Adelie   Dream            35.6           17.5              191.0   \n",
              "\n",
              "     body_mass_g  year  \n",
              "101       4725.0  2009  \n",
              "260       4575.0  2009  \n",
              "142       3050.0  2009  \n",
              "155       5700.0  2007  \n",
              "136       3175.0  2009  "
            ],
            "text/html": [
              "\n",
              "  <div id=\"df-6c41d82d-f93c-4795-8189-ce94b8359a9c\">\n",
              "    <div class=\"colab-df-container\">\n",
              "      <div>\n",
              "<style scoped>\n",
              "    .dataframe tbody tr th:only-of-type {\n",
              "        vertical-align: middle;\n",
              "    }\n",
              "\n",
              "    .dataframe tbody tr th {\n",
              "        vertical-align: top;\n",
              "    }\n",
              "\n",
              "    .dataframe thead th {\n",
              "        text-align: right;\n",
              "    }\n",
              "</style>\n",
              "<table border=\"1\" class=\"dataframe\">\n",
              "  <thead>\n",
              "    <tr style=\"text-align: right;\">\n",
              "      <th></th>\n",
              "      <th>species</th>\n",
              "      <th>island</th>\n",
              "      <th>bill_length_mm</th>\n",
              "      <th>bill_depth_mm</th>\n",
              "      <th>flipper_length_mm</th>\n",
              "      <th>body_mass_g</th>\n",
              "      <th>year</th>\n",
              "    </tr>\n",
              "  </thead>\n",
              "  <tbody>\n",
              "    <tr>\n",
              "      <th>101</th>\n",
              "      <td>Adelie</td>\n",
              "      <td>Biscoe</td>\n",
              "      <td>41.0</td>\n",
              "      <td>20.0</td>\n",
              "      <td>203.0</td>\n",
              "      <td>4725.0</td>\n",
              "      <td>2009</td>\n",
              "    </tr>\n",
              "    <tr>\n",
              "      <th>260</th>\n",
              "      <td>Gentoo</td>\n",
              "      <td>Biscoe</td>\n",
              "      <td>43.3</td>\n",
              "      <td>14.0</td>\n",
              "      <td>208.0</td>\n",
              "      <td>4575.0</td>\n",
              "      <td>2009</td>\n",
              "    </tr>\n",
              "    <tr>\n",
              "      <th>142</th>\n",
              "      <td>Adelie</td>\n",
              "      <td>Dream</td>\n",
              "      <td>32.1</td>\n",
              "      <td>15.5</td>\n",
              "      <td>188.0</td>\n",
              "      <td>3050.0</td>\n",
              "      <td>2009</td>\n",
              "    </tr>\n",
              "    <tr>\n",
              "      <th>155</th>\n",
              "      <td>Gentoo</td>\n",
              "      <td>Biscoe</td>\n",
              "      <td>50.0</td>\n",
              "      <td>15.2</td>\n",
              "      <td>218.0</td>\n",
              "      <td>5700.0</td>\n",
              "      <td>2007</td>\n",
              "    </tr>\n",
              "    <tr>\n",
              "      <th>136</th>\n",
              "      <td>Adelie</td>\n",
              "      <td>Dream</td>\n",
              "      <td>35.6</td>\n",
              "      <td>17.5</td>\n",
              "      <td>191.0</td>\n",
              "      <td>3175.0</td>\n",
              "      <td>2009</td>\n",
              "    </tr>\n",
              "  </tbody>\n",
              "</table>\n",
              "</div>\n",
              "      <button class=\"colab-df-convert\" onclick=\"convertToInteractive('df-6c41d82d-f93c-4795-8189-ce94b8359a9c')\"\n",
              "              title=\"Convert this dataframe to an interactive table.\"\n",
              "              style=\"display:none;\">\n",
              "        \n",
              "  <svg xmlns=\"http://www.w3.org/2000/svg\" height=\"24px\"viewBox=\"0 0 24 24\"\n",
              "       width=\"24px\">\n",
              "    <path d=\"M0 0h24v24H0V0z\" fill=\"none\"/>\n",
              "    <path d=\"M18.56 5.44l.94 2.06.94-2.06 2.06-.94-2.06-.94-.94-2.06-.94 2.06-2.06.94zm-11 1L8.5 8.5l.94-2.06 2.06-.94-2.06-.94L8.5 2.5l-.94 2.06-2.06.94zm10 10l.94 2.06.94-2.06 2.06-.94-2.06-.94-.94-2.06-.94 2.06-2.06.94z\"/><path d=\"M17.41 7.96l-1.37-1.37c-.4-.4-.92-.59-1.43-.59-.52 0-1.04.2-1.43.59L10.3 9.45l-7.72 7.72c-.78.78-.78 2.05 0 2.83L4 21.41c.39.39.9.59 1.41.59.51 0 1.02-.2 1.41-.59l7.78-7.78 2.81-2.81c.8-.78.8-2.07 0-2.86zM5.41 20L4 18.59l7.72-7.72 1.47 1.35L5.41 20z\"/>\n",
              "  </svg>\n",
              "      </button>\n",
              "      \n",
              "  <style>\n",
              "    .colab-df-container {\n",
              "      display:flex;\n",
              "      flex-wrap:wrap;\n",
              "      gap: 12px;\n",
              "    }\n",
              "\n",
              "    .colab-df-convert {\n",
              "      background-color: #E8F0FE;\n",
              "      border: none;\n",
              "      border-radius: 50%;\n",
              "      cursor: pointer;\n",
              "      display: none;\n",
              "      fill: #1967D2;\n",
              "      height: 32px;\n",
              "      padding: 0 0 0 0;\n",
              "      width: 32px;\n",
              "    }\n",
              "\n",
              "    .colab-df-convert:hover {\n",
              "      background-color: #E2EBFA;\n",
              "      box-shadow: 0px 1px 2px rgba(60, 64, 67, 0.3), 0px 1px 3px 1px rgba(60, 64, 67, 0.15);\n",
              "      fill: #174EA6;\n",
              "    }\n",
              "\n",
              "    [theme=dark] .colab-df-convert {\n",
              "      background-color: #3B4455;\n",
              "      fill: #D2E3FC;\n",
              "    }\n",
              "\n",
              "    [theme=dark] .colab-df-convert:hover {\n",
              "      background-color: #434B5C;\n",
              "      box-shadow: 0px 1px 3px 1px rgba(0, 0, 0, 0.15);\n",
              "      filter: drop-shadow(0px 1px 2px rgba(0, 0, 0, 0.3));\n",
              "      fill: #FFFFFF;\n",
              "    }\n",
              "  </style>\n",
              "\n",
              "      <script>\n",
              "        const buttonEl =\n",
              "          document.querySelector('#df-6c41d82d-f93c-4795-8189-ce94b8359a9c button.colab-df-convert');\n",
              "        buttonEl.style.display =\n",
              "          google.colab.kernel.accessAllowed ? 'block' : 'none';\n",
              "\n",
              "        async function convertToInteractive(key) {\n",
              "          const element = document.querySelector('#df-6c41d82d-f93c-4795-8189-ce94b8359a9c');\n",
              "          const dataTable =\n",
              "            await google.colab.kernel.invokeFunction('convertToInteractive',\n",
              "                                                     [key], {});\n",
              "          if (!dataTable) return;\n",
              "\n",
              "          const docLinkHtml = 'Like what you see? Visit the ' +\n",
              "            '<a target=\"_blank\" href=https://colab.research.google.com/notebooks/data_table.ipynb>data table notebook</a>'\n",
              "            + ' to learn more about interactive tables.';\n",
              "          element.innerHTML = '';\n",
              "          dataTable['output_type'] = 'display_data';\n",
              "          await google.colab.output.renderOutput(dataTable, element);\n",
              "          const docLink = document.createElement('div');\n",
              "          docLink.innerHTML = docLinkHtml;\n",
              "          element.appendChild(docLink);\n",
              "        }\n",
              "      </script>\n",
              "    </div>\n",
              "  </div>\n",
              "  "
            ]
          },
          "metadata": {}
        },
        {
          "output_type": "stream",
          "name": "stdout",
          "text": [
            "\n",
            "On X test: \n",
            "X test dimensions:  (84, 7)\n"
          ]
        },
        {
          "output_type": "display_data",
          "data": {
            "text/plain": [
              "       species     island  bill_length_mm  bill_depth_mm  flipper_length_mm  \\\n",
              "308  Chinstrap      Dream            42.5           16.7              187.0   \n",
              "120     Adelie  Torgersen            36.2           17.2              187.0   \n",
              "206     Gentoo     Biscoe            46.5           14.4              217.0   \n",
              "106     Adelie     Biscoe            38.6           17.2              199.0   \n",
              "99      Adelie      Dream            43.2           18.5              192.0   \n",
              "\n",
              "     body_mass_g  year  \n",
              "308       3350.0  2008  \n",
              "120       3150.0  2009  \n",
              "206       4900.0  2008  \n",
              "106       3750.0  2009  \n",
              "99        4100.0  2008  "
            ],
            "text/html": [
              "\n",
              "  <div id=\"df-94667b4d-32b5-46a6-a893-1ee8c6179071\">\n",
              "    <div class=\"colab-df-container\">\n",
              "      <div>\n",
              "<style scoped>\n",
              "    .dataframe tbody tr th:only-of-type {\n",
              "        vertical-align: middle;\n",
              "    }\n",
              "\n",
              "    .dataframe tbody tr th {\n",
              "        vertical-align: top;\n",
              "    }\n",
              "\n",
              "    .dataframe thead th {\n",
              "        text-align: right;\n",
              "    }\n",
              "</style>\n",
              "<table border=\"1\" class=\"dataframe\">\n",
              "  <thead>\n",
              "    <tr style=\"text-align: right;\">\n",
              "      <th></th>\n",
              "      <th>species</th>\n",
              "      <th>island</th>\n",
              "      <th>bill_length_mm</th>\n",
              "      <th>bill_depth_mm</th>\n",
              "      <th>flipper_length_mm</th>\n",
              "      <th>body_mass_g</th>\n",
              "      <th>year</th>\n",
              "    </tr>\n",
              "  </thead>\n",
              "  <tbody>\n",
              "    <tr>\n",
              "      <th>308</th>\n",
              "      <td>Chinstrap</td>\n",
              "      <td>Dream</td>\n",
              "      <td>42.5</td>\n",
              "      <td>16.7</td>\n",
              "      <td>187.0</td>\n",
              "      <td>3350.0</td>\n",
              "      <td>2008</td>\n",
              "    </tr>\n",
              "    <tr>\n",
              "      <th>120</th>\n",
              "      <td>Adelie</td>\n",
              "      <td>Torgersen</td>\n",
              "      <td>36.2</td>\n",
              "      <td>17.2</td>\n",
              "      <td>187.0</td>\n",
              "      <td>3150.0</td>\n",
              "      <td>2009</td>\n",
              "    </tr>\n",
              "    <tr>\n",
              "      <th>206</th>\n",
              "      <td>Gentoo</td>\n",
              "      <td>Biscoe</td>\n",
              "      <td>46.5</td>\n",
              "      <td>14.4</td>\n",
              "      <td>217.0</td>\n",
              "      <td>4900.0</td>\n",
              "      <td>2008</td>\n",
              "    </tr>\n",
              "    <tr>\n",
              "      <th>106</th>\n",
              "      <td>Adelie</td>\n",
              "      <td>Biscoe</td>\n",
              "      <td>38.6</td>\n",
              "      <td>17.2</td>\n",
              "      <td>199.0</td>\n",
              "      <td>3750.0</td>\n",
              "      <td>2009</td>\n",
              "    </tr>\n",
              "    <tr>\n",
              "      <th>99</th>\n",
              "      <td>Adelie</td>\n",
              "      <td>Dream</td>\n",
              "      <td>43.2</td>\n",
              "      <td>18.5</td>\n",
              "      <td>192.0</td>\n",
              "      <td>4100.0</td>\n",
              "      <td>2008</td>\n",
              "    </tr>\n",
              "  </tbody>\n",
              "</table>\n",
              "</div>\n",
              "      <button class=\"colab-df-convert\" onclick=\"convertToInteractive('df-94667b4d-32b5-46a6-a893-1ee8c6179071')\"\n",
              "              title=\"Convert this dataframe to an interactive table.\"\n",
              "              style=\"display:none;\">\n",
              "        \n",
              "  <svg xmlns=\"http://www.w3.org/2000/svg\" height=\"24px\"viewBox=\"0 0 24 24\"\n",
              "       width=\"24px\">\n",
              "    <path d=\"M0 0h24v24H0V0z\" fill=\"none\"/>\n",
              "    <path d=\"M18.56 5.44l.94 2.06.94-2.06 2.06-.94-2.06-.94-.94-2.06-.94 2.06-2.06.94zm-11 1L8.5 8.5l.94-2.06 2.06-.94-2.06-.94L8.5 2.5l-.94 2.06-2.06.94zm10 10l.94 2.06.94-2.06 2.06-.94-2.06-.94-.94-2.06-.94 2.06-2.06.94z\"/><path d=\"M17.41 7.96l-1.37-1.37c-.4-.4-.92-.59-1.43-.59-.52 0-1.04.2-1.43.59L10.3 9.45l-7.72 7.72c-.78.78-.78 2.05 0 2.83L4 21.41c.39.39.9.59 1.41.59.51 0 1.02-.2 1.41-.59l7.78-7.78 2.81-2.81c.8-.78.8-2.07 0-2.86zM5.41 20L4 18.59l7.72-7.72 1.47 1.35L5.41 20z\"/>\n",
              "  </svg>\n",
              "      </button>\n",
              "      \n",
              "  <style>\n",
              "    .colab-df-container {\n",
              "      display:flex;\n",
              "      flex-wrap:wrap;\n",
              "      gap: 12px;\n",
              "    }\n",
              "\n",
              "    .colab-df-convert {\n",
              "      background-color: #E8F0FE;\n",
              "      border: none;\n",
              "      border-radius: 50%;\n",
              "      cursor: pointer;\n",
              "      display: none;\n",
              "      fill: #1967D2;\n",
              "      height: 32px;\n",
              "      padding: 0 0 0 0;\n",
              "      width: 32px;\n",
              "    }\n",
              "\n",
              "    .colab-df-convert:hover {\n",
              "      background-color: #E2EBFA;\n",
              "      box-shadow: 0px 1px 2px rgba(60, 64, 67, 0.3), 0px 1px 3px 1px rgba(60, 64, 67, 0.15);\n",
              "      fill: #174EA6;\n",
              "    }\n",
              "\n",
              "    [theme=dark] .colab-df-convert {\n",
              "      background-color: #3B4455;\n",
              "      fill: #D2E3FC;\n",
              "    }\n",
              "\n",
              "    [theme=dark] .colab-df-convert:hover {\n",
              "      background-color: #434B5C;\n",
              "      box-shadow: 0px 1px 3px 1px rgba(0, 0, 0, 0.15);\n",
              "      filter: drop-shadow(0px 1px 2px rgba(0, 0, 0, 0.3));\n",
              "      fill: #FFFFFF;\n",
              "    }\n",
              "  </style>\n",
              "\n",
              "      <script>\n",
              "        const buttonEl =\n",
              "          document.querySelector('#df-94667b4d-32b5-46a6-a893-1ee8c6179071 button.colab-df-convert');\n",
              "        buttonEl.style.display =\n",
              "          google.colab.kernel.accessAllowed ? 'block' : 'none';\n",
              "\n",
              "        async function convertToInteractive(key) {\n",
              "          const element = document.querySelector('#df-94667b4d-32b5-46a6-a893-1ee8c6179071');\n",
              "          const dataTable =\n",
              "            await google.colab.kernel.invokeFunction('convertToInteractive',\n",
              "                                                     [key], {});\n",
              "          if (!dataTable) return;\n",
              "\n",
              "          const docLinkHtml = 'Like what you see? Visit the ' +\n",
              "            '<a target=\"_blank\" href=https://colab.research.google.com/notebooks/data_table.ipynb>data table notebook</a>'\n",
              "            + ' to learn more about interactive tables.';\n",
              "          element.innerHTML = '';\n",
              "          dataTable['output_type'] = 'display_data';\n",
              "          await google.colab.output.renderOutput(dataTable, element);\n",
              "          const docLink = document.createElement('div');\n",
              "          docLink.innerHTML = docLinkHtml;\n",
              "          element.appendChild(docLink);\n",
              "        }\n",
              "      </script>\n",
              "    </div>\n",
              "  </div>\n",
              "  "
            ]
          },
          "metadata": {}
        }
      ],
      "source": [
        "# X Train\n",
        "print('On X train: ')\n",
        "print('X train dimensions: ', X_train.shape)\n",
        "display(X_train.head())\n",
        "\n",
        "# X test\n",
        "print('\\nOn X test: ')\n",
        "print('X test dimensions: ', X_test.shape)\n",
        "display(X_test.head())"
      ]
    },
    {
      "cell_type": "code",
      "execution_count": null,
      "id": "113d1ab3-739a-4e42-8500-92b6332b2475",
      "metadata": {
        "colab": {
          "base_uri": "https://localhost:8080/",
          "height": 312
        },
        "id": "113d1ab3-739a-4e42-8500-92b6332b2475",
        "outputId": "b52f6350-8296-41f5-9602-8bf2f18d0ed7"
      },
      "outputs": [
        {
          "output_type": "stream",
          "name": "stdout",
          "text": [
            "On y train: \n",
            "y train dimensions:  (249,)\n"
          ]
        },
        {
          "output_type": "display_data",
          "data": {
            "text/plain": [
              "101      male\n",
              "260    female\n",
              "142    female\n",
              "155      male\n",
              "136    female\n",
              "Name: sex, dtype: object"
            ]
          },
          "metadata": {}
        },
        {
          "output_type": "stream",
          "name": "stdout",
          "text": [
            "\n",
            "On y test: \n",
            "y test dimensions:  (84,)\n"
          ]
        },
        {
          "output_type": "display_data",
          "data": {
            "text/plain": [
              "308    female\n",
              "120    female\n",
              "206    female\n",
              "106    female\n",
              "99       male\n",
              "Name: sex, dtype: object"
            ]
          },
          "metadata": {}
        }
      ],
      "source": [
        "# X Train\n",
        "print('On y train: ')\n",
        "print('y train dimensions: ', y_train.shape)\n",
        "display(y_train.head())\n",
        "\n",
        "# X test\n",
        "print('\\nOn y test: ')\n",
        "print('y test dimensions: ', y_test.shape)\n",
        "display(y_test.head())"
      ]
    },
    {
      "cell_type": "markdown",
      "id": "6a76f5d1-05a4-4f81-8608-099b3b20abef",
      "metadata": {
        "id": "6a76f5d1-05a4-4f81-8608-099b3b20abef"
      },
      "source": [
        "## Establish the training pipeline\n",
        "\n",
        "We can now establish the training pipeline for our models. Since this is a process we would need to repeat several times, it's good to essentially functionalize the process so we do not need to re-write redundant code. Here, we can impute some values that were missing, and encode any categorical values. Note that these pipelines will change according to the model and methodology you choose - additionally, the pipelines will also change depending on the data types of the columns in your dataset. "
      ]
    },
    {
      "cell_type": "code",
      "execution_count": null,
      "id": "9ed44830-4039-4564-bde0-2b6661d672c5",
      "metadata": {
        "id": "9ed44830-4039-4564-bde0-2b6661d672c5"
      },
      "outputs": [],
      "source": [
        "#individual pipelines for differing datatypes\n",
        "cat_pipeline = Pipeline(steps=[('cat_impute', SimpleImputer(missing_values=np.nan, strategy='most_frequent')),\n",
        "                               ('onehot_cat', OneHotEncoder(drop='if_binary'))])\n",
        "num_pipeline = Pipeline(steps=[('impute_num', SimpleImputer(missing_values=np.nan, strategy='mean')),\n",
        "                               ('scale_num', StandardScaler())])"
      ]
    },
    {
      "cell_type": "code",
      "execution_count": null,
      "id": "242c958a-894d-4259-9dfd-387ddf541144",
      "metadata": {
        "id": "242c958a-894d-4259-9dfd-387ddf541144"
      },
      "outputs": [],
      "source": [
        "#establish preprocessing pipeline by columns\n",
        "preproc = ColumnTransformer([('cat_pipe', cat_pipeline, make_column_selector(dtype_include=object)),\n",
        "                             ('num_pipe', num_pipeline, make_column_selector(dtype_include=np.number))],\n",
        "                             remainder='passthrough')"
      ]
    },
    {
      "cell_type": "code",
      "execution_count": null,
      "id": "917a7dae-35ff-43b2-8186-dbe731d0f08d",
      "metadata": {
        "colab": {
          "base_uri": "https://localhost:8080/",
          "height": 227
        },
        "id": "917a7dae-35ff-43b2-8186-dbe731d0f08d",
        "outputId": "db29a006-546d-47e1-cd14-7684dbfd88a0"
      },
      "outputs": [
        {
          "output_type": "display_data",
          "data": {
            "text/plain": [
              "Pipeline(steps=[('preproc',\n",
              "                 ColumnTransformer(remainder='passthrough',\n",
              "                                   transformers=[('cat_pipe',\n",
              "                                                  Pipeline(steps=[('cat_impute',\n",
              "                                                                   SimpleImputer(strategy='most_frequent')),\n",
              "                                                                  ('onehot_cat',\n",
              "                                                                   OneHotEncoder(drop='if_binary'))]),\n",
              "                                                  <sklearn.compose._column_transformer.make_column_selector object at 0x7fba5f3f33d0>),\n",
              "                                                 ('num_pipe',\n",
              "                                                  Pipeline(steps=[('impute_num',\n",
              "                                                                   SimpleImputer()),\n",
              "                                                                  ('scale_num',\n",
              "                                                                   StandardScaler())]),\n",
              "                                                  <sklearn.compose._column_transformer.make_column_selector object at 0x7fba5f3f3250>)])),\n",
              "                ('mdl',\n",
              "                 LogisticRegression(penalty='elasticnet', solver='saga',\n",
              "                                    tol=0.01))])"
            ],
            "text/html": [
              "<style>#sk-e12fecdf-6cb3-48b5-b35c-5ada185b490f {color: black;background-color: white;}#sk-e12fecdf-6cb3-48b5-b35c-5ada185b490f pre{padding: 0;}#sk-e12fecdf-6cb3-48b5-b35c-5ada185b490f div.sk-toggleable {background-color: white;}#sk-e12fecdf-6cb3-48b5-b35c-5ada185b490f label.sk-toggleable__label {cursor: pointer;display: block;width: 100%;margin-bottom: 0;padding: 0.3em;box-sizing: border-box;text-align: center;}#sk-e12fecdf-6cb3-48b5-b35c-5ada185b490f label.sk-toggleable__label-arrow:before {content: \"▸\";float: left;margin-right: 0.25em;color: #696969;}#sk-e12fecdf-6cb3-48b5-b35c-5ada185b490f label.sk-toggleable__label-arrow:hover:before {color: black;}#sk-e12fecdf-6cb3-48b5-b35c-5ada185b490f div.sk-estimator:hover label.sk-toggleable__label-arrow:before {color: black;}#sk-e12fecdf-6cb3-48b5-b35c-5ada185b490f div.sk-toggleable__content {max-height: 0;max-width: 0;overflow: hidden;text-align: left;background-color: #f0f8ff;}#sk-e12fecdf-6cb3-48b5-b35c-5ada185b490f div.sk-toggleable__content pre {margin: 0.2em;color: black;border-radius: 0.25em;background-color: #f0f8ff;}#sk-e12fecdf-6cb3-48b5-b35c-5ada185b490f input.sk-toggleable__control:checked~div.sk-toggleable__content {max-height: 200px;max-width: 100%;overflow: auto;}#sk-e12fecdf-6cb3-48b5-b35c-5ada185b490f input.sk-toggleable__control:checked~label.sk-toggleable__label-arrow:before {content: \"▾\";}#sk-e12fecdf-6cb3-48b5-b35c-5ada185b490f div.sk-estimator input.sk-toggleable__control:checked~label.sk-toggleable__label {background-color: #d4ebff;}#sk-e12fecdf-6cb3-48b5-b35c-5ada185b490f div.sk-label input.sk-toggleable__control:checked~label.sk-toggleable__label {background-color: #d4ebff;}#sk-e12fecdf-6cb3-48b5-b35c-5ada185b490f input.sk-hidden--visually {border: 0;clip: rect(1px 1px 1px 1px);clip: rect(1px, 1px, 1px, 1px);height: 1px;margin: -1px;overflow: hidden;padding: 0;position: absolute;width: 1px;}#sk-e12fecdf-6cb3-48b5-b35c-5ada185b490f div.sk-estimator {font-family: monospace;background-color: #f0f8ff;border: 1px dotted black;border-radius: 0.25em;box-sizing: border-box;margin-bottom: 0.5em;}#sk-e12fecdf-6cb3-48b5-b35c-5ada185b490f div.sk-estimator:hover {background-color: #d4ebff;}#sk-e12fecdf-6cb3-48b5-b35c-5ada185b490f div.sk-parallel-item::after {content: \"\";width: 100%;border-bottom: 1px solid gray;flex-grow: 1;}#sk-e12fecdf-6cb3-48b5-b35c-5ada185b490f div.sk-label:hover label.sk-toggleable__label {background-color: #d4ebff;}#sk-e12fecdf-6cb3-48b5-b35c-5ada185b490f div.sk-serial::before {content: \"\";position: absolute;border-left: 1px solid gray;box-sizing: border-box;top: 2em;bottom: 0;left: 50%;}#sk-e12fecdf-6cb3-48b5-b35c-5ada185b490f div.sk-serial {display: flex;flex-direction: column;align-items: center;background-color: white;padding-right: 0.2em;padding-left: 0.2em;}#sk-e12fecdf-6cb3-48b5-b35c-5ada185b490f div.sk-item {z-index: 1;}#sk-e12fecdf-6cb3-48b5-b35c-5ada185b490f div.sk-parallel {display: flex;align-items: stretch;justify-content: center;background-color: white;}#sk-e12fecdf-6cb3-48b5-b35c-5ada185b490f div.sk-parallel::before {content: \"\";position: absolute;border-left: 1px solid gray;box-sizing: border-box;top: 2em;bottom: 0;left: 50%;}#sk-e12fecdf-6cb3-48b5-b35c-5ada185b490f div.sk-parallel-item {display: flex;flex-direction: column;position: relative;background-color: white;}#sk-e12fecdf-6cb3-48b5-b35c-5ada185b490f div.sk-parallel-item:first-child::after {align-self: flex-end;width: 50%;}#sk-e12fecdf-6cb3-48b5-b35c-5ada185b490f div.sk-parallel-item:last-child::after {align-self: flex-start;width: 50%;}#sk-e12fecdf-6cb3-48b5-b35c-5ada185b490f div.sk-parallel-item:only-child::after {width: 0;}#sk-e12fecdf-6cb3-48b5-b35c-5ada185b490f div.sk-dashed-wrapped {border: 1px dashed gray;margin: 0 0.4em 0.5em 0.4em;box-sizing: border-box;padding-bottom: 0.4em;background-color: white;position: relative;}#sk-e12fecdf-6cb3-48b5-b35c-5ada185b490f div.sk-label label {font-family: monospace;font-weight: bold;background-color: white;display: inline-block;line-height: 1.2em;}#sk-e12fecdf-6cb3-48b5-b35c-5ada185b490f div.sk-label-container {position: relative;z-index: 2;text-align: center;}#sk-e12fecdf-6cb3-48b5-b35c-5ada185b490f div.sk-container {/* jupyter's `normalize.less` sets `[hidden] { display: none; }` but bootstrap.min.css set `[hidden] { display: none !important; }` so we also need the `!important` here to be able to override the default hidden behavior on the sphinx rendered scikit-learn.org. See: https://github.com/scikit-learn/scikit-learn/issues/21755 */display: inline-block !important;position: relative;}#sk-e12fecdf-6cb3-48b5-b35c-5ada185b490f div.sk-text-repr-fallback {display: none;}</style><div id=\"sk-e12fecdf-6cb3-48b5-b35c-5ada185b490f\" class=\"sk-top-container\"><div class=\"sk-text-repr-fallback\"><pre>Pipeline(steps=[(&#x27;preproc&#x27;,\n",
              "                 ColumnTransformer(remainder=&#x27;passthrough&#x27;,\n",
              "                                   transformers=[(&#x27;cat_pipe&#x27;,\n",
              "                                                  Pipeline(steps=[(&#x27;cat_impute&#x27;,\n",
              "                                                                   SimpleImputer(strategy=&#x27;most_frequent&#x27;)),\n",
              "                                                                  (&#x27;onehot_cat&#x27;,\n",
              "                                                                   OneHotEncoder(drop=&#x27;if_binary&#x27;))]),\n",
              "                                                  &lt;sklearn.compose._column_transformer.make_column_selector object at 0x7fba5f3f33d0&gt;),\n",
              "                                                 (&#x27;num_pipe&#x27;,\n",
              "                                                  Pipeline(steps=[(&#x27;impute_num&#x27;,\n",
              "                                                                   SimpleImputer()),\n",
              "                                                                  (&#x27;scale_num&#x27;,\n",
              "                                                                   StandardScaler())]),\n",
              "                                                  &lt;sklearn.compose._column_transformer.make_column_selector object at 0x7fba5f3f3250&gt;)])),\n",
              "                (&#x27;mdl&#x27;,\n",
              "                 LogisticRegression(penalty=&#x27;elasticnet&#x27;, solver=&#x27;saga&#x27;,\n",
              "                                    tol=0.01))])</pre><b>Please rerun this cell to show the HTML repr or trust the notebook.</b></div><div class=\"sk-container\" hidden><div class=\"sk-item sk-dashed-wrapped\"><div class=\"sk-label-container\"><div class=\"sk-label sk-toggleable\"><input class=\"sk-toggleable__control sk-hidden--visually\" id=\"9a67ce8c-254f-45b9-8183-d47cc1daad75\" type=\"checkbox\" ><label for=\"9a67ce8c-254f-45b9-8183-d47cc1daad75\" class=\"sk-toggleable__label sk-toggleable__label-arrow\">Pipeline</label><div class=\"sk-toggleable__content\"><pre>Pipeline(steps=[(&#x27;preproc&#x27;,\n",
              "                 ColumnTransformer(remainder=&#x27;passthrough&#x27;,\n",
              "                                   transformers=[(&#x27;cat_pipe&#x27;,\n",
              "                                                  Pipeline(steps=[(&#x27;cat_impute&#x27;,\n",
              "                                                                   SimpleImputer(strategy=&#x27;most_frequent&#x27;)),\n",
              "                                                                  (&#x27;onehot_cat&#x27;,\n",
              "                                                                   OneHotEncoder(drop=&#x27;if_binary&#x27;))]),\n",
              "                                                  &lt;sklearn.compose._column_transformer.make_column_selector object at 0x7fba5f3f33d0&gt;),\n",
              "                                                 (&#x27;num_pipe&#x27;,\n",
              "                                                  Pipeline(steps=[(&#x27;impute_num&#x27;,\n",
              "                                                                   SimpleImputer()),\n",
              "                                                                  (&#x27;scale_num&#x27;,\n",
              "                                                                   StandardScaler())]),\n",
              "                                                  &lt;sklearn.compose._column_transformer.make_column_selector object at 0x7fba5f3f3250&gt;)])),\n",
              "                (&#x27;mdl&#x27;,\n",
              "                 LogisticRegression(penalty=&#x27;elasticnet&#x27;, solver=&#x27;saga&#x27;,\n",
              "                                    tol=0.01))])</pre></div></div></div><div class=\"sk-serial\"><div class=\"sk-item sk-dashed-wrapped\"><div class=\"sk-label-container\"><div class=\"sk-label sk-toggleable\"><input class=\"sk-toggleable__control sk-hidden--visually\" id=\"bf415d41-9e0c-48fd-88a8-dc39ffb15327\" type=\"checkbox\" ><label for=\"bf415d41-9e0c-48fd-88a8-dc39ffb15327\" class=\"sk-toggleable__label sk-toggleable__label-arrow\">preproc: ColumnTransformer</label><div class=\"sk-toggleable__content\"><pre>ColumnTransformer(remainder=&#x27;passthrough&#x27;,\n",
              "                  transformers=[(&#x27;cat_pipe&#x27;,\n",
              "                                 Pipeline(steps=[(&#x27;cat_impute&#x27;,\n",
              "                                                  SimpleImputer(strategy=&#x27;most_frequent&#x27;)),\n",
              "                                                 (&#x27;onehot_cat&#x27;,\n",
              "                                                  OneHotEncoder(drop=&#x27;if_binary&#x27;))]),\n",
              "                                 &lt;sklearn.compose._column_transformer.make_column_selector object at 0x7fba5f3f33d0&gt;),\n",
              "                                (&#x27;num_pipe&#x27;,\n",
              "                                 Pipeline(steps=[(&#x27;impute_num&#x27;,\n",
              "                                                  SimpleImputer()),\n",
              "                                                 (&#x27;scale_num&#x27;,\n",
              "                                                  StandardScaler())]),\n",
              "                                 &lt;sklearn.compose._column_transformer.make_column_selector object at 0x7fba5f3f3250&gt;)])</pre></div></div></div><div class=\"sk-parallel\"><div class=\"sk-parallel-item\"><div class=\"sk-item\"><div class=\"sk-label-container\"><div class=\"sk-label sk-toggleable\"><input class=\"sk-toggleable__control sk-hidden--visually\" id=\"3d677bc1-beea-425a-95d1-eaba2daeac03\" type=\"checkbox\" ><label for=\"3d677bc1-beea-425a-95d1-eaba2daeac03\" class=\"sk-toggleable__label sk-toggleable__label-arrow\">cat_pipe</label><div class=\"sk-toggleable__content\"><pre>&lt;sklearn.compose._column_transformer.make_column_selector object at 0x7fba5f3f33d0&gt;</pre></div></div></div><div class=\"sk-serial\"><div class=\"sk-item\"><div class=\"sk-serial\"><div class=\"sk-item\"><div class=\"sk-estimator sk-toggleable\"><input class=\"sk-toggleable__control sk-hidden--visually\" id=\"562872fa-7e37-42be-a42a-5f356accfdc0\" type=\"checkbox\" ><label for=\"562872fa-7e37-42be-a42a-5f356accfdc0\" class=\"sk-toggleable__label sk-toggleable__label-arrow\">SimpleImputer</label><div class=\"sk-toggleable__content\"><pre>SimpleImputer(strategy=&#x27;most_frequent&#x27;)</pre></div></div></div><div class=\"sk-item\"><div class=\"sk-estimator sk-toggleable\"><input class=\"sk-toggleable__control sk-hidden--visually\" id=\"c1e66806-42c1-410a-aff5-5637f13e6cb6\" type=\"checkbox\" ><label for=\"c1e66806-42c1-410a-aff5-5637f13e6cb6\" class=\"sk-toggleable__label sk-toggleable__label-arrow\">OneHotEncoder</label><div class=\"sk-toggleable__content\"><pre>OneHotEncoder(drop=&#x27;if_binary&#x27;)</pre></div></div></div></div></div></div></div></div><div class=\"sk-parallel-item\"><div class=\"sk-item\"><div class=\"sk-label-container\"><div class=\"sk-label sk-toggleable\"><input class=\"sk-toggleable__control sk-hidden--visually\" id=\"7fd33946-8c39-403d-82c4-9d7184c06ce7\" type=\"checkbox\" ><label for=\"7fd33946-8c39-403d-82c4-9d7184c06ce7\" class=\"sk-toggleable__label sk-toggleable__label-arrow\">num_pipe</label><div class=\"sk-toggleable__content\"><pre>&lt;sklearn.compose._column_transformer.make_column_selector object at 0x7fba5f3f3250&gt;</pre></div></div></div><div class=\"sk-serial\"><div class=\"sk-item\"><div class=\"sk-serial\"><div class=\"sk-item\"><div class=\"sk-estimator sk-toggleable\"><input class=\"sk-toggleable__control sk-hidden--visually\" id=\"604caddd-73bb-4952-a4c5-c18d091cf372\" type=\"checkbox\" ><label for=\"604caddd-73bb-4952-a4c5-c18d091cf372\" class=\"sk-toggleable__label sk-toggleable__label-arrow\">SimpleImputer</label><div class=\"sk-toggleable__content\"><pre>SimpleImputer()</pre></div></div></div><div class=\"sk-item\"><div class=\"sk-estimator sk-toggleable\"><input class=\"sk-toggleable__control sk-hidden--visually\" id=\"74ed36f3-bfcb-45a8-a3a9-2c55809de9d2\" type=\"checkbox\" ><label for=\"74ed36f3-bfcb-45a8-a3a9-2c55809de9d2\" class=\"sk-toggleable__label sk-toggleable__label-arrow\">StandardScaler</label><div class=\"sk-toggleable__content\"><pre>StandardScaler()</pre></div></div></div></div></div></div></div></div><div class=\"sk-parallel-item\"><div class=\"sk-item\"><div class=\"sk-label-container\"><div class=\"sk-label sk-toggleable\"><input class=\"sk-toggleable__control sk-hidden--visually\" id=\"5b4a3b82-b22b-4af1-aec7-e8e32f6ef438\" type=\"checkbox\" ><label for=\"5b4a3b82-b22b-4af1-aec7-e8e32f6ef438\" class=\"sk-toggleable__label sk-toggleable__label-arrow\">remainder</label><div class=\"sk-toggleable__content\"><pre></pre></div></div></div><div class=\"sk-serial\"><div class=\"sk-item\"><div class=\"sk-estimator sk-toggleable\"><input class=\"sk-toggleable__control sk-hidden--visually\" id=\"5c93351d-69fb-4bfd-bb0d-94f1e322cd8c\" type=\"checkbox\" ><label for=\"5c93351d-69fb-4bfd-bb0d-94f1e322cd8c\" class=\"sk-toggleable__label sk-toggleable__label-arrow\">passthrough</label><div class=\"sk-toggleable__content\"><pre>passthrough</pre></div></div></div></div></div></div></div></div><div class=\"sk-item\"><div class=\"sk-estimator sk-toggleable\"><input class=\"sk-toggleable__control sk-hidden--visually\" id=\"95448f51-77fb-4216-9a8c-41e4f7cb3c61\" type=\"checkbox\" ><label for=\"95448f51-77fb-4216-9a8c-41e4f7cb3c61\" class=\"sk-toggleable__label sk-toggleable__label-arrow\">LogisticRegression</label><div class=\"sk-toggleable__content\"><pre>LogisticRegression(penalty=&#x27;elasticnet&#x27;, solver=&#x27;saga&#x27;, tol=0.01)</pre></div></div></div></div></div></div></div>"
            ]
          },
          "metadata": {}
        }
      ],
      "source": [
        "#generate the whole modeling pipeline with preprocessing\n",
        "pipe = Pipeline(steps=[('preproc', preproc),\n",
        "                       ('mdl', LogisticRegression(penalty='elasticnet', solver='saga', tol=0.01))])\n",
        "\n",
        "#visualization for steps\n",
        "with config_context(display='diagram'):\n",
        "    display(pipe)"
      ]
    },
    {
      "cell_type": "markdown",
      "id": "32517c21-62d6-4d8c-81ad-aa08a3199ff3",
      "metadata": {
        "id": "32517c21-62d6-4d8c-81ad-aa08a3199ff3"
      },
      "source": [
        "## Cross-validation with hyperparameter tuning\n",
        "\n",
        "Now that we have our pipelines, we can now use this as part of cross validation and hyperparameter tuning."
      ]
    },
    {
      "cell_type": "code",
      "execution_count": null,
      "id": "f94e90d0-7785-48f4-a0cd-ff37090a92d9",
      "metadata": {
        "id": "f94e90d0-7785-48f4-a0cd-ff37090a92d9"
      },
      "outputs": [],
      "source": [
        "tuning_grid = {'mdl__l1_ratio' : np.linspace(0,1,5),\n",
        "               'mdl__C': np.logspace(-1, 6, 3) }\n",
        "grid_search = GridSearchCV(pipe, param_grid = tuning_grid, cv = 5, return_train_score=True)"
      ]
    },
    {
      "cell_type": "code",
      "execution_count": null,
      "id": "4b612b9e-e561-47c9-9ecb-8ea5ec62cda9",
      "metadata": {
        "colab": {
          "base_uri": "https://localhost:8080/"
        },
        "id": "4b612b9e-e561-47c9-9ecb-8ea5ec62cda9",
        "outputId": "ae1a3320-649f-471b-f83d-471a0976c8e8"
      },
      "outputs": [
        {
          "output_type": "execute_result",
          "data": {
            "text/plain": [
              "{'mdl__C': array([1.00000000e-01, 3.16227766e+02, 1.00000000e+06]),\n",
              " 'mdl__l1_ratio': array([0.  , 0.25, 0.5 , 0.75, 1.  ])}"
            ]
          },
          "metadata": {},
          "execution_count": 12
        }
      ],
      "source": [
        "tuning_grid"
      ]
    },
    {
      "cell_type": "code",
      "execution_count": null,
      "id": "e8f2cb02-c5eb-4fd4-9331-050191081014",
      "metadata": {
        "colab": {
          "base_uri": "https://localhost:8080/"
        },
        "id": "e8f2cb02-c5eb-4fd4-9331-050191081014",
        "outputId": "196bb65b-0b91-422c-bb62-5409c90b58fb"
      },
      "outputs": [
        {
          "output_type": "execute_result",
          "data": {
            "text/plain": [
              "GridSearchCV(cv=5,\n",
              "             estimator=Pipeline(steps=[('preproc',\n",
              "                                        ColumnTransformer(remainder='passthrough',\n",
              "                                                          transformers=[('cat_pipe',\n",
              "                                                                         Pipeline(steps=[('cat_impute',\n",
              "                                                                                          SimpleImputer(strategy='most_frequent')),\n",
              "                                                                                         ('onehot_cat',\n",
              "                                                                                          OneHotEncoder(drop='if_binary'))]),\n",
              "                                                                         <sklearn.compose._column_transformer.make_column_selector object at 0x7fba5f3f33d0>),\n",
              "                                                                        ('num_pipe',\n",
              "                                                                         Pipeline(step...\n",
              "                                                                                          SimpleImputer()),\n",
              "                                                                                         ('scale_num',\n",
              "                                                                                          StandardScaler())]),\n",
              "                                                                         <sklearn.compose._column_transformer.make_column_selector object at 0x7fba5f3f3250>)])),\n",
              "                                       ('mdl',\n",
              "                                        LogisticRegression(penalty='elasticnet',\n",
              "                                                           solver='saga',\n",
              "                                                           tol=0.01))]),\n",
              "             param_grid={'mdl__C': array([1.00000000e-01, 3.16227766e+02, 1.00000000e+06]),\n",
              "                         'mdl__l1_ratio': array([0.  , 0.25, 0.5 , 0.75, 1.  ])},\n",
              "             return_train_score=True)"
            ]
          },
          "metadata": {},
          "execution_count": 13
        }
      ],
      "source": [
        "grid_search.fit(X_train, y_train)"
      ]
    },
    {
      "cell_type": "code",
      "execution_count": null,
      "id": "69f4874e-0de3-462f-95ef-d01ba648f7a4",
      "metadata": {
        "colab": {
          "base_uri": "https://localhost:8080/"
        },
        "id": "69f4874e-0de3-462f-95ef-d01ba648f7a4",
        "outputId": "52af2e61-d950-4c77-a7fe-62ab964717c2"
      },
      "outputs": [
        {
          "output_type": "stream",
          "name": "stdout",
          "text": [
            "0.9158367346938775\n"
          ]
        },
        {
          "output_type": "execute_result",
          "data": {
            "text/plain": [
              "{'mdl__C': 316.22776601683796, 'mdl__l1_ratio': 0.0}"
            ]
          },
          "metadata": {},
          "execution_count": 14
        }
      ],
      "source": [
        "print(grid_search.best_score_)\n",
        "grid_search.best_params_"
      ]
    },
    {
      "cell_type": "code",
      "execution_count": null,
      "id": "f9529343-553b-417d-9347-fec243edd4d2",
      "metadata": {
        "colab": {
          "base_uri": "https://localhost:8080/",
          "height": 960
        },
        "id": "f9529343-553b-417d-9347-fec243edd4d2",
        "outputId": "3ec80c94-5036-46a9-b471-7bad65d83e42"
      },
      "outputs": [
        {
          "output_type": "execute_result",
          "data": {
            "text/plain": [
              "    mean_fit_time  std_fit_time  mean_score_time  std_score_time param_mdl__C  \\\n",
              "0        0.039329      0.009377         0.013771        0.003945          0.1   \n",
              "1        0.026679      0.006372         0.008729        0.000482          0.1   \n",
              "2        0.027157      0.004410         0.008706        0.000398          0.1   \n",
              "3        0.024585      0.002139         0.013387        0.005953          0.1   \n",
              "4        0.026465      0.005048         0.009335        0.000833          0.1   \n",
              "5        0.035337      0.016313         0.013321        0.005484   316.227766   \n",
              "6        0.025488      0.001547         0.009195        0.001089   316.227766   \n",
              "7        0.029097      0.005268         0.013109        0.003143   316.227766   \n",
              "8        0.028642      0.004773         0.009176        0.000297   316.227766   \n",
              "9        0.030089      0.006262         0.011750        0.005773   316.227766   \n",
              "10       0.027156      0.003880         0.023416        0.011143    1000000.0   \n",
              "11       0.024926      0.002088         0.011585        0.004128    1000000.0   \n",
              "12       0.025392      0.003413         0.010666        0.003719    1000000.0   \n",
              "13       0.034906      0.009046         0.022878        0.010848    1000000.0   \n",
              "14       0.044068      0.021908         0.009994        0.002060    1000000.0   \n",
              "\n",
              "   param_mdl__l1_ratio                                             params  \\\n",
              "0                  0.0              {'mdl__C': 0.1, 'mdl__l1_ratio': 0.0}   \n",
              "1                 0.25             {'mdl__C': 0.1, 'mdl__l1_ratio': 0.25}   \n",
              "2                  0.5              {'mdl__C': 0.1, 'mdl__l1_ratio': 0.5}   \n",
              "3                 0.75             {'mdl__C': 0.1, 'mdl__l1_ratio': 0.75}   \n",
              "4                  1.0              {'mdl__C': 0.1, 'mdl__l1_ratio': 1.0}   \n",
              "5                  0.0  {'mdl__C': 316.22776601683796, 'mdl__l1_ratio'...   \n",
              "6                 0.25  {'mdl__C': 316.22776601683796, 'mdl__l1_ratio'...   \n",
              "7                  0.5  {'mdl__C': 316.22776601683796, 'mdl__l1_ratio'...   \n",
              "8                 0.75  {'mdl__C': 316.22776601683796, 'mdl__l1_ratio'...   \n",
              "9                  1.0  {'mdl__C': 316.22776601683796, 'mdl__l1_ratio'...   \n",
              "10                 0.0        {'mdl__C': 1000000.0, 'mdl__l1_ratio': 0.0}   \n",
              "11                0.25       {'mdl__C': 1000000.0, 'mdl__l1_ratio': 0.25}   \n",
              "12                 0.5        {'mdl__C': 1000000.0, 'mdl__l1_ratio': 0.5}   \n",
              "13                0.75       {'mdl__C': 1000000.0, 'mdl__l1_ratio': 0.75}   \n",
              "14                 1.0        {'mdl__C': 1000000.0, 'mdl__l1_ratio': 1.0}   \n",
              "\n",
              "    split0_test_score  split1_test_score  split2_test_score  ...  \\\n",
              "0                0.90               0.88               0.92  ...   \n",
              "1                0.90               0.90               0.94  ...   \n",
              "2                0.92               0.88               0.90  ...   \n",
              "3                0.92               0.88               0.88  ...   \n",
              "4                0.88               0.90               0.90  ...   \n",
              "5                0.90               0.90               0.92  ...   \n",
              "6                0.90               0.90               0.92  ...   \n",
              "7                0.90               0.90               0.92  ...   \n",
              "8                0.90               0.90               0.92  ...   \n",
              "9                0.90               0.90               0.92  ...   \n",
              "10               0.90               0.90               0.92  ...   \n",
              "11               0.90               0.90               0.92  ...   \n",
              "12               0.90               0.90               0.92  ...   \n",
              "13               0.90               0.90               0.92  ...   \n",
              "14               0.90               0.90               0.92  ...   \n",
              "\n",
              "    mean_test_score  std_test_score  rank_test_score  split0_train_score  \\\n",
              "0          0.899673        0.017532               13            0.894472   \n",
              "1          0.903673        0.026343               11            0.889447   \n",
              "2          0.899837        0.039756               12            0.894472   \n",
              "3          0.891673        0.023625               15            0.904523   \n",
              "4          0.895673        0.014448               14            0.899497   \n",
              "5          0.915837        0.023016                1            0.929648   \n",
              "6          0.915837        0.023016                1            0.929648   \n",
              "7          0.915837        0.023016                1            0.929648   \n",
              "8          0.915837        0.023016                1            0.929648   \n",
              "9          0.915837        0.023016                1            0.929648   \n",
              "10         0.915837        0.023016                1            0.929648   \n",
              "11         0.915837        0.023016                1            0.929648   \n",
              "12         0.915837        0.023016                1            0.929648   \n",
              "13         0.915837        0.023016                1            0.929648   \n",
              "14         0.915837        0.023016                1            0.929648   \n",
              "\n",
              "    split1_train_score  split2_train_score  split3_train_score  \\\n",
              "0             0.904523            0.909548            0.909548   \n",
              "1             0.909548            0.904523            0.919598   \n",
              "2             0.904523            0.884422            0.909548   \n",
              "3             0.914573            0.899497            0.909548   \n",
              "4             0.889447            0.899497            0.894472   \n",
              "5             0.929648            0.939698            0.939698   \n",
              "6             0.929648            0.939698            0.939698   \n",
              "7             0.929648            0.939698            0.939698   \n",
              "8             0.929648            0.939698            0.939698   \n",
              "9             0.929648            0.939698            0.939698   \n",
              "10            0.929648            0.939698            0.939698   \n",
              "11            0.929648            0.939698            0.939698   \n",
              "12            0.929648            0.939698            0.939698   \n",
              "13            0.929648            0.939698            0.939698   \n",
              "14            0.929648            0.939698            0.939698   \n",
              "\n",
              "    split4_train_score  mean_train_score  std_train_score  \n",
              "0                0.905          0.904618         0.005508  \n",
              "1                0.900          0.904623         0.010002  \n",
              "2                0.900          0.898593         0.008660  \n",
              "3                0.885          0.902628         0.010146  \n",
              "4                0.885          0.893583         0.005684  \n",
              "5                0.915          0.930739         0.009062  \n",
              "6                0.915          0.930739         0.009062  \n",
              "7                0.915          0.930739         0.009062  \n",
              "8                0.915          0.930739         0.009062  \n",
              "9                0.915          0.930739         0.009062  \n",
              "10               0.915          0.930739         0.009062  \n",
              "11               0.915          0.930739         0.009062  \n",
              "12               0.915          0.930739         0.009062  \n",
              "13               0.915          0.930739         0.009062  \n",
              "14               0.915          0.930739         0.009062  \n",
              "\n",
              "[15 rows x 22 columns]"
            ],
            "text/html": [
              "\n",
              "  <div id=\"df-451238b7-3e06-4a28-91a3-7afb29895268\">\n",
              "    <div class=\"colab-df-container\">\n",
              "      <div>\n",
              "<style scoped>\n",
              "    .dataframe tbody tr th:only-of-type {\n",
              "        vertical-align: middle;\n",
              "    }\n",
              "\n",
              "    .dataframe tbody tr th {\n",
              "        vertical-align: top;\n",
              "    }\n",
              "\n",
              "    .dataframe thead th {\n",
              "        text-align: right;\n",
              "    }\n",
              "</style>\n",
              "<table border=\"1\" class=\"dataframe\">\n",
              "  <thead>\n",
              "    <tr style=\"text-align: right;\">\n",
              "      <th></th>\n",
              "      <th>mean_fit_time</th>\n",
              "      <th>std_fit_time</th>\n",
              "      <th>mean_score_time</th>\n",
              "      <th>std_score_time</th>\n",
              "      <th>param_mdl__C</th>\n",
              "      <th>param_mdl__l1_ratio</th>\n",
              "      <th>params</th>\n",
              "      <th>split0_test_score</th>\n",
              "      <th>split1_test_score</th>\n",
              "      <th>split2_test_score</th>\n",
              "      <th>...</th>\n",
              "      <th>mean_test_score</th>\n",
              "      <th>std_test_score</th>\n",
              "      <th>rank_test_score</th>\n",
              "      <th>split0_train_score</th>\n",
              "      <th>split1_train_score</th>\n",
              "      <th>split2_train_score</th>\n",
              "      <th>split3_train_score</th>\n",
              "      <th>split4_train_score</th>\n",
              "      <th>mean_train_score</th>\n",
              "      <th>std_train_score</th>\n",
              "    </tr>\n",
              "  </thead>\n",
              "  <tbody>\n",
              "    <tr>\n",
              "      <th>0</th>\n",
              "      <td>0.039329</td>\n",
              "      <td>0.009377</td>\n",
              "      <td>0.013771</td>\n",
              "      <td>0.003945</td>\n",
              "      <td>0.1</td>\n",
              "      <td>0.0</td>\n",
              "      <td>{'mdl__C': 0.1, 'mdl__l1_ratio': 0.0}</td>\n",
              "      <td>0.90</td>\n",
              "      <td>0.88</td>\n",
              "      <td>0.92</td>\n",
              "      <td>...</td>\n",
              "      <td>0.899673</td>\n",
              "      <td>0.017532</td>\n",
              "      <td>13</td>\n",
              "      <td>0.894472</td>\n",
              "      <td>0.904523</td>\n",
              "      <td>0.909548</td>\n",
              "      <td>0.909548</td>\n",
              "      <td>0.905</td>\n",
              "      <td>0.904618</td>\n",
              "      <td>0.005508</td>\n",
              "    </tr>\n",
              "    <tr>\n",
              "      <th>1</th>\n",
              "      <td>0.026679</td>\n",
              "      <td>0.006372</td>\n",
              "      <td>0.008729</td>\n",
              "      <td>0.000482</td>\n",
              "      <td>0.1</td>\n",
              "      <td>0.25</td>\n",
              "      <td>{'mdl__C': 0.1, 'mdl__l1_ratio': 0.25}</td>\n",
              "      <td>0.90</td>\n",
              "      <td>0.90</td>\n",
              "      <td>0.94</td>\n",
              "      <td>...</td>\n",
              "      <td>0.903673</td>\n",
              "      <td>0.026343</td>\n",
              "      <td>11</td>\n",
              "      <td>0.889447</td>\n",
              "      <td>0.909548</td>\n",
              "      <td>0.904523</td>\n",
              "      <td>0.919598</td>\n",
              "      <td>0.900</td>\n",
              "      <td>0.904623</td>\n",
              "      <td>0.010002</td>\n",
              "    </tr>\n",
              "    <tr>\n",
              "      <th>2</th>\n",
              "      <td>0.027157</td>\n",
              "      <td>0.004410</td>\n",
              "      <td>0.008706</td>\n",
              "      <td>0.000398</td>\n",
              "      <td>0.1</td>\n",
              "      <td>0.5</td>\n",
              "      <td>{'mdl__C': 0.1, 'mdl__l1_ratio': 0.5}</td>\n",
              "      <td>0.92</td>\n",
              "      <td>0.88</td>\n",
              "      <td>0.90</td>\n",
              "      <td>...</td>\n",
              "      <td>0.899837</td>\n",
              "      <td>0.039756</td>\n",
              "      <td>12</td>\n",
              "      <td>0.894472</td>\n",
              "      <td>0.904523</td>\n",
              "      <td>0.884422</td>\n",
              "      <td>0.909548</td>\n",
              "      <td>0.900</td>\n",
              "      <td>0.898593</td>\n",
              "      <td>0.008660</td>\n",
              "    </tr>\n",
              "    <tr>\n",
              "      <th>3</th>\n",
              "      <td>0.024585</td>\n",
              "      <td>0.002139</td>\n",
              "      <td>0.013387</td>\n",
              "      <td>0.005953</td>\n",
              "      <td>0.1</td>\n",
              "      <td>0.75</td>\n",
              "      <td>{'mdl__C': 0.1, 'mdl__l1_ratio': 0.75}</td>\n",
              "      <td>0.92</td>\n",
              "      <td>0.88</td>\n",
              "      <td>0.88</td>\n",
              "      <td>...</td>\n",
              "      <td>0.891673</td>\n",
              "      <td>0.023625</td>\n",
              "      <td>15</td>\n",
              "      <td>0.904523</td>\n",
              "      <td>0.914573</td>\n",
              "      <td>0.899497</td>\n",
              "      <td>0.909548</td>\n",
              "      <td>0.885</td>\n",
              "      <td>0.902628</td>\n",
              "      <td>0.010146</td>\n",
              "    </tr>\n",
              "    <tr>\n",
              "      <th>4</th>\n",
              "      <td>0.026465</td>\n",
              "      <td>0.005048</td>\n",
              "      <td>0.009335</td>\n",
              "      <td>0.000833</td>\n",
              "      <td>0.1</td>\n",
              "      <td>1.0</td>\n",
              "      <td>{'mdl__C': 0.1, 'mdl__l1_ratio': 1.0}</td>\n",
              "      <td>0.88</td>\n",
              "      <td>0.90</td>\n",
              "      <td>0.90</td>\n",
              "      <td>...</td>\n",
              "      <td>0.895673</td>\n",
              "      <td>0.014448</td>\n",
              "      <td>14</td>\n",
              "      <td>0.899497</td>\n",
              "      <td>0.889447</td>\n",
              "      <td>0.899497</td>\n",
              "      <td>0.894472</td>\n",
              "      <td>0.885</td>\n",
              "      <td>0.893583</td>\n",
              "      <td>0.005684</td>\n",
              "    </tr>\n",
              "    <tr>\n",
              "      <th>5</th>\n",
              "      <td>0.035337</td>\n",
              "      <td>0.016313</td>\n",
              "      <td>0.013321</td>\n",
              "      <td>0.005484</td>\n",
              "      <td>316.227766</td>\n",
              "      <td>0.0</td>\n",
              "      <td>{'mdl__C': 316.22776601683796, 'mdl__l1_ratio'...</td>\n",
              "      <td>0.90</td>\n",
              "      <td>0.90</td>\n",
              "      <td>0.92</td>\n",
              "      <td>...</td>\n",
              "      <td>0.915837</td>\n",
              "      <td>0.023016</td>\n",
              "      <td>1</td>\n",
              "      <td>0.929648</td>\n",
              "      <td>0.929648</td>\n",
              "      <td>0.939698</td>\n",
              "      <td>0.939698</td>\n",
              "      <td>0.915</td>\n",
              "      <td>0.930739</td>\n",
              "      <td>0.009062</td>\n",
              "    </tr>\n",
              "    <tr>\n",
              "      <th>6</th>\n",
              "      <td>0.025488</td>\n",
              "      <td>0.001547</td>\n",
              "      <td>0.009195</td>\n",
              "      <td>0.001089</td>\n",
              "      <td>316.227766</td>\n",
              "      <td>0.25</td>\n",
              "      <td>{'mdl__C': 316.22776601683796, 'mdl__l1_ratio'...</td>\n",
              "      <td>0.90</td>\n",
              "      <td>0.90</td>\n",
              "      <td>0.92</td>\n",
              "      <td>...</td>\n",
              "      <td>0.915837</td>\n",
              "      <td>0.023016</td>\n",
              "      <td>1</td>\n",
              "      <td>0.929648</td>\n",
              "      <td>0.929648</td>\n",
              "      <td>0.939698</td>\n",
              "      <td>0.939698</td>\n",
              "      <td>0.915</td>\n",
              "      <td>0.930739</td>\n",
              "      <td>0.009062</td>\n",
              "    </tr>\n",
              "    <tr>\n",
              "      <th>7</th>\n",
              "      <td>0.029097</td>\n",
              "      <td>0.005268</td>\n",
              "      <td>0.013109</td>\n",
              "      <td>0.003143</td>\n",
              "      <td>316.227766</td>\n",
              "      <td>0.5</td>\n",
              "      <td>{'mdl__C': 316.22776601683796, 'mdl__l1_ratio'...</td>\n",
              "      <td>0.90</td>\n",
              "      <td>0.90</td>\n",
              "      <td>0.92</td>\n",
              "      <td>...</td>\n",
              "      <td>0.915837</td>\n",
              "      <td>0.023016</td>\n",
              "      <td>1</td>\n",
              "      <td>0.929648</td>\n",
              "      <td>0.929648</td>\n",
              "      <td>0.939698</td>\n",
              "      <td>0.939698</td>\n",
              "      <td>0.915</td>\n",
              "      <td>0.930739</td>\n",
              "      <td>0.009062</td>\n",
              "    </tr>\n",
              "    <tr>\n",
              "      <th>8</th>\n",
              "      <td>0.028642</td>\n",
              "      <td>0.004773</td>\n",
              "      <td>0.009176</td>\n",
              "      <td>0.000297</td>\n",
              "      <td>316.227766</td>\n",
              "      <td>0.75</td>\n",
              "      <td>{'mdl__C': 316.22776601683796, 'mdl__l1_ratio'...</td>\n",
              "      <td>0.90</td>\n",
              "      <td>0.90</td>\n",
              "      <td>0.92</td>\n",
              "      <td>...</td>\n",
              "      <td>0.915837</td>\n",
              "      <td>0.023016</td>\n",
              "      <td>1</td>\n",
              "      <td>0.929648</td>\n",
              "      <td>0.929648</td>\n",
              "      <td>0.939698</td>\n",
              "      <td>0.939698</td>\n",
              "      <td>0.915</td>\n",
              "      <td>0.930739</td>\n",
              "      <td>0.009062</td>\n",
              "    </tr>\n",
              "    <tr>\n",
              "      <th>9</th>\n",
              "      <td>0.030089</td>\n",
              "      <td>0.006262</td>\n",
              "      <td>0.011750</td>\n",
              "      <td>0.005773</td>\n",
              "      <td>316.227766</td>\n",
              "      <td>1.0</td>\n",
              "      <td>{'mdl__C': 316.22776601683796, 'mdl__l1_ratio'...</td>\n",
              "      <td>0.90</td>\n",
              "      <td>0.90</td>\n",
              "      <td>0.92</td>\n",
              "      <td>...</td>\n",
              "      <td>0.915837</td>\n",
              "      <td>0.023016</td>\n",
              "      <td>1</td>\n",
              "      <td>0.929648</td>\n",
              "      <td>0.929648</td>\n",
              "      <td>0.939698</td>\n",
              "      <td>0.939698</td>\n",
              "      <td>0.915</td>\n",
              "      <td>0.930739</td>\n",
              "      <td>0.009062</td>\n",
              "    </tr>\n",
              "    <tr>\n",
              "      <th>10</th>\n",
              "      <td>0.027156</td>\n",
              "      <td>0.003880</td>\n",
              "      <td>0.023416</td>\n",
              "      <td>0.011143</td>\n",
              "      <td>1000000.0</td>\n",
              "      <td>0.0</td>\n",
              "      <td>{'mdl__C': 1000000.0, 'mdl__l1_ratio': 0.0}</td>\n",
              "      <td>0.90</td>\n",
              "      <td>0.90</td>\n",
              "      <td>0.92</td>\n",
              "      <td>...</td>\n",
              "      <td>0.915837</td>\n",
              "      <td>0.023016</td>\n",
              "      <td>1</td>\n",
              "      <td>0.929648</td>\n",
              "      <td>0.929648</td>\n",
              "      <td>0.939698</td>\n",
              "      <td>0.939698</td>\n",
              "      <td>0.915</td>\n",
              "      <td>0.930739</td>\n",
              "      <td>0.009062</td>\n",
              "    </tr>\n",
              "    <tr>\n",
              "      <th>11</th>\n",
              "      <td>0.024926</td>\n",
              "      <td>0.002088</td>\n",
              "      <td>0.011585</td>\n",
              "      <td>0.004128</td>\n",
              "      <td>1000000.0</td>\n",
              "      <td>0.25</td>\n",
              "      <td>{'mdl__C': 1000000.0, 'mdl__l1_ratio': 0.25}</td>\n",
              "      <td>0.90</td>\n",
              "      <td>0.90</td>\n",
              "      <td>0.92</td>\n",
              "      <td>...</td>\n",
              "      <td>0.915837</td>\n",
              "      <td>0.023016</td>\n",
              "      <td>1</td>\n",
              "      <td>0.929648</td>\n",
              "      <td>0.929648</td>\n",
              "      <td>0.939698</td>\n",
              "      <td>0.939698</td>\n",
              "      <td>0.915</td>\n",
              "      <td>0.930739</td>\n",
              "      <td>0.009062</td>\n",
              "    </tr>\n",
              "    <tr>\n",
              "      <th>12</th>\n",
              "      <td>0.025392</td>\n",
              "      <td>0.003413</td>\n",
              "      <td>0.010666</td>\n",
              "      <td>0.003719</td>\n",
              "      <td>1000000.0</td>\n",
              "      <td>0.5</td>\n",
              "      <td>{'mdl__C': 1000000.0, 'mdl__l1_ratio': 0.5}</td>\n",
              "      <td>0.90</td>\n",
              "      <td>0.90</td>\n",
              "      <td>0.92</td>\n",
              "      <td>...</td>\n",
              "      <td>0.915837</td>\n",
              "      <td>0.023016</td>\n",
              "      <td>1</td>\n",
              "      <td>0.929648</td>\n",
              "      <td>0.929648</td>\n",
              "      <td>0.939698</td>\n",
              "      <td>0.939698</td>\n",
              "      <td>0.915</td>\n",
              "      <td>0.930739</td>\n",
              "      <td>0.009062</td>\n",
              "    </tr>\n",
              "    <tr>\n",
              "      <th>13</th>\n",
              "      <td>0.034906</td>\n",
              "      <td>0.009046</td>\n",
              "      <td>0.022878</td>\n",
              "      <td>0.010848</td>\n",
              "      <td>1000000.0</td>\n",
              "      <td>0.75</td>\n",
              "      <td>{'mdl__C': 1000000.0, 'mdl__l1_ratio': 0.75}</td>\n",
              "      <td>0.90</td>\n",
              "      <td>0.90</td>\n",
              "      <td>0.92</td>\n",
              "      <td>...</td>\n",
              "      <td>0.915837</td>\n",
              "      <td>0.023016</td>\n",
              "      <td>1</td>\n",
              "      <td>0.929648</td>\n",
              "      <td>0.929648</td>\n",
              "      <td>0.939698</td>\n",
              "      <td>0.939698</td>\n",
              "      <td>0.915</td>\n",
              "      <td>0.930739</td>\n",
              "      <td>0.009062</td>\n",
              "    </tr>\n",
              "    <tr>\n",
              "      <th>14</th>\n",
              "      <td>0.044068</td>\n",
              "      <td>0.021908</td>\n",
              "      <td>0.009994</td>\n",
              "      <td>0.002060</td>\n",
              "      <td>1000000.0</td>\n",
              "      <td>1.0</td>\n",
              "      <td>{'mdl__C': 1000000.0, 'mdl__l1_ratio': 1.0}</td>\n",
              "      <td>0.90</td>\n",
              "      <td>0.90</td>\n",
              "      <td>0.92</td>\n",
              "      <td>...</td>\n",
              "      <td>0.915837</td>\n",
              "      <td>0.023016</td>\n",
              "      <td>1</td>\n",
              "      <td>0.929648</td>\n",
              "      <td>0.929648</td>\n",
              "      <td>0.939698</td>\n",
              "      <td>0.939698</td>\n",
              "      <td>0.915</td>\n",
              "      <td>0.930739</td>\n",
              "      <td>0.009062</td>\n",
              "    </tr>\n",
              "  </tbody>\n",
              "</table>\n",
              "<p>15 rows × 22 columns</p>\n",
              "</div>\n",
              "      <button class=\"colab-df-convert\" onclick=\"convertToInteractive('df-451238b7-3e06-4a28-91a3-7afb29895268')\"\n",
              "              title=\"Convert this dataframe to an interactive table.\"\n",
              "              style=\"display:none;\">\n",
              "        \n",
              "  <svg xmlns=\"http://www.w3.org/2000/svg\" height=\"24px\"viewBox=\"0 0 24 24\"\n",
              "       width=\"24px\">\n",
              "    <path d=\"M0 0h24v24H0V0z\" fill=\"none\"/>\n",
              "    <path d=\"M18.56 5.44l.94 2.06.94-2.06 2.06-.94-2.06-.94-.94-2.06-.94 2.06-2.06.94zm-11 1L8.5 8.5l.94-2.06 2.06-.94-2.06-.94L8.5 2.5l-.94 2.06-2.06.94zm10 10l.94 2.06.94-2.06 2.06-.94-2.06-.94-.94-2.06-.94 2.06-2.06.94z\"/><path d=\"M17.41 7.96l-1.37-1.37c-.4-.4-.92-.59-1.43-.59-.52 0-1.04.2-1.43.59L10.3 9.45l-7.72 7.72c-.78.78-.78 2.05 0 2.83L4 21.41c.39.39.9.59 1.41.59.51 0 1.02-.2 1.41-.59l7.78-7.78 2.81-2.81c.8-.78.8-2.07 0-2.86zM5.41 20L4 18.59l7.72-7.72 1.47 1.35L5.41 20z\"/>\n",
              "  </svg>\n",
              "      </button>\n",
              "      \n",
              "  <style>\n",
              "    .colab-df-container {\n",
              "      display:flex;\n",
              "      flex-wrap:wrap;\n",
              "      gap: 12px;\n",
              "    }\n",
              "\n",
              "    .colab-df-convert {\n",
              "      background-color: #E8F0FE;\n",
              "      border: none;\n",
              "      border-radius: 50%;\n",
              "      cursor: pointer;\n",
              "      display: none;\n",
              "      fill: #1967D2;\n",
              "      height: 32px;\n",
              "      padding: 0 0 0 0;\n",
              "      width: 32px;\n",
              "    }\n",
              "\n",
              "    .colab-df-convert:hover {\n",
              "      background-color: #E2EBFA;\n",
              "      box-shadow: 0px 1px 2px rgba(60, 64, 67, 0.3), 0px 1px 3px 1px rgba(60, 64, 67, 0.15);\n",
              "      fill: #174EA6;\n",
              "    }\n",
              "\n",
              "    [theme=dark] .colab-df-convert {\n",
              "      background-color: #3B4455;\n",
              "      fill: #D2E3FC;\n",
              "    }\n",
              "\n",
              "    [theme=dark] .colab-df-convert:hover {\n",
              "      background-color: #434B5C;\n",
              "      box-shadow: 0px 1px 3px 1px rgba(0, 0, 0, 0.15);\n",
              "      filter: drop-shadow(0px 1px 2px rgba(0, 0, 0, 0.3));\n",
              "      fill: #FFFFFF;\n",
              "    }\n",
              "  </style>\n",
              "\n",
              "      <script>\n",
              "        const buttonEl =\n",
              "          document.querySelector('#df-451238b7-3e06-4a28-91a3-7afb29895268 button.colab-df-convert');\n",
              "        buttonEl.style.display =\n",
              "          google.colab.kernel.accessAllowed ? 'block' : 'none';\n",
              "\n",
              "        async function convertToInteractive(key) {\n",
              "          const element = document.querySelector('#df-451238b7-3e06-4a28-91a3-7afb29895268');\n",
              "          const dataTable =\n",
              "            await google.colab.kernel.invokeFunction('convertToInteractive',\n",
              "                                                     [key], {});\n",
              "          if (!dataTable) return;\n",
              "\n",
              "          const docLinkHtml = 'Like what you see? Visit the ' +\n",
              "            '<a target=\"_blank\" href=https://colab.research.google.com/notebooks/data_table.ipynb>data table notebook</a>'\n",
              "            + ' to learn more about interactive tables.';\n",
              "          element.innerHTML = '';\n",
              "          dataTable['output_type'] = 'display_data';\n",
              "          await google.colab.output.renderOutput(dataTable, element);\n",
              "          const docLink = document.createElement('div');\n",
              "          docLink.innerHTML = docLinkHtml;\n",
              "          element.appendChild(docLink);\n",
              "        }\n",
              "      </script>\n",
              "    </div>\n",
              "  </div>\n",
              "  "
            ]
          },
          "metadata": {},
          "execution_count": 15
        }
      ],
      "source": [
        "pd.DataFrame(grid_search.cv_results_)"
      ]
    },
    {
      "cell_type": "markdown",
      "id": "289be208-bf90-4699-951e-b09a0289aa9d",
      "metadata": {
        "id": "289be208-bf90-4699-951e-b09a0289aa9d"
      },
      "source": [
        "## Final fit\n",
        "\n",
        "The final fit here is already present in the generated model due to the way we set our parameters in the grid search. If we want to look at the performance, we can do so. Here is a non-helpful description of the best model:"
      ]
    },
    {
      "cell_type": "code",
      "execution_count": null,
      "id": "9a0c404f-514c-4f2c-98c9-506ca8ca1c46",
      "metadata": {
        "colab": {
          "base_uri": "https://localhost:8080/"
        },
        "id": "9a0c404f-514c-4f2c-98c9-506ca8ca1c46",
        "outputId": "bee7dcf9-647b-4956-a144-3c5259b0dc47"
      },
      "outputs": [
        {
          "output_type": "execute_result",
          "data": {
            "text/plain": [
              "Pipeline(steps=[('preproc',\n",
              "                 ColumnTransformer(remainder='passthrough',\n",
              "                                   transformers=[('cat_pipe',\n",
              "                                                  Pipeline(steps=[('cat_impute',\n",
              "                                                                   SimpleImputer(strategy='most_frequent')),\n",
              "                                                                  ('onehot_cat',\n",
              "                                                                   OneHotEncoder(drop='if_binary'))]),\n",
              "                                                  <sklearn.compose._column_transformer.make_column_selector object at 0x7fba5f3c75d0>),\n",
              "                                                 ('num_pipe',\n",
              "                                                  Pipeline(steps=[('impute_num',\n",
              "                                                                   SimpleImputer()),\n",
              "                                                                  ('scale_num',\n",
              "                                                                   StandardScaler())]),\n",
              "                                                  <sklearn.compose._column_transformer.make_column_selector object at 0x7fba5f3c7dd0>)])),\n",
              "                ('mdl',\n",
              "                 LogisticRegression(C=316.22776601683796, l1_ratio=0.0,\n",
              "                                    penalty='elasticnet', solver='saga',\n",
              "                                    tol=0.01))])"
            ]
          },
          "metadata": {},
          "execution_count": 16
        }
      ],
      "source": [
        "grid_search.best_estimator_"
      ]
    },
    {
      "cell_type": "markdown",
      "id": "3feb06cf-bf30-4383-9449-4153c0fa996e",
      "metadata": {
        "id": "3feb06cf-bf30-4383-9449-4153c0fa996e"
      },
      "source": [
        "## Variable importance\n",
        "\n",
        "Now we assess the importance in the selected model to reveal any potential insights."
      ]
    },
    {
      "cell_type": "code",
      "execution_count": null,
      "id": "45f8b024-9842-41e3-bbbb-2642cd4af47a",
      "metadata": {
        "colab": {
          "base_uri": "https://localhost:8080/"
        },
        "id": "45f8b024-9842-41e3-bbbb-2642cd4af47a",
        "outputId": "401db720-5155-43de-c2b2-eb1c39278994"
      },
      "outputs": [
        {
          "output_type": "execute_result",
          "data": {
            "text/plain": [
              "array(['female', 'male'], dtype=object)"
            ]
          },
          "metadata": {},
          "execution_count": 17
        }
      ],
      "source": [
        "grid_search.classes_"
      ]
    },
    {
      "cell_type": "code",
      "execution_count": null,
      "id": "e1832990-1f9d-46ee-9cf1-3c1288f7c47a",
      "metadata": {
        "colab": {
          "base_uri": "https://localhost:8080/"
        },
        "id": "e1832990-1f9d-46ee-9cf1-3c1288f7c47a",
        "outputId": "aa01e8c5-b726-4594-9b23-00b689da5556"
      },
      "outputs": [
        {
          "output_type": "execute_result",
          "data": {
            "text/plain": [
              "array([ 3.57490749, -2.40372981, -1.49418733, -0.39289221,  0.35878528,\n",
              "       -0.28890271,  2.62089578,  3.11750082, -0.11899338,  3.99894284,\n",
              "        0.16267754])"
            ]
          },
          "metadata": {},
          "execution_count": 18
        }
      ],
      "source": [
        "vip = grid_search.best_estimator_['mdl'].coef_[0]\n",
        "vip"
      ]
    },
    {
      "cell_type": "code",
      "execution_count": null,
      "id": "7ebdc166-bdb7-4863-b46f-165f1aec7a7d",
      "metadata": {
        "colab": {
          "base_uri": "https://localhost:8080/",
          "height": 335
        },
        "id": "7ebdc166-bdb7-4863-b46f-165f1aec7a7d",
        "outputId": "28336e1a-93c9-4154-9ede-d8a150b1f9b3"
      },
      "outputs": [
        {
          "output_type": "stream",
          "name": "stderr",
          "text": [
            "/usr/local/lib/python3.7/dist-packages/sklearn/utils/deprecation.py:87: FutureWarning: Function get_feature_names is deprecated; get_feature_names is deprecated in 1.0 and will be removed in 1.2. Please use get_feature_names_out instead.\n",
            "  warnings.warn(msg, category=FutureWarning)\n"
          ]
        },
        {
          "output_type": "display_data",
          "data": {
            "text/plain": [
              "<Figure size 432x288 with 1 Axes>"
            ],
            "image/png": "[encoded data removed]"
          },
          "metadata": {
            "needs_background": "light"
          }
        }
      ],
      "source": [
        "#get names in correct preproc order\n",
        "cat_names = grid_search.best_estimator_.named_steps['preproc'].transformers_[0][1].named_steps['onehot_cat'].get_feature_names()\n",
        "num_names = grid_search.best_estimator_.named_steps['preproc'].transformers_[1][2]\n",
        "\n",
        "#create df with vip info\n",
        "coef_info = pd.DataFrame({'feat_names':np.hstack([cat_names, num_names]), 'vip': vip})\n",
        "\n",
        "#get sign and magnitude information\n",
        "coef_info = coef_info.assign(coef_mag = abs(coef_info['vip']),\n",
        "                             coef_sign = np.sign(coef_info['vip']))\n",
        "\n",
        "#sort and plot\n",
        "coef_info = coef_info.set_index('feat_names').sort_values(by='coef_mag', ascending=False)\n",
        "sns.barplot(y=coef_info.index, x='coef_mag', hue='coef_sign', data=coef_info, orient='h', dodge=False);"
      ]
    },
    {
      "cell_type": "markdown",
      "id": "aa95eb91-77ec-4d33-a039-b2f9f95097fb",
      "metadata": {
        "id": "aa95eb91-77ec-4d33-a039-b2f9f95097fb"
      },
      "source": [
        "## Performance metrics on test data\n",
        "\n",
        "\n",
        "Here, we can see the performance of the model, which is pretty nice! We can also look into different scores specifically for more insight into the performance."
      ]
    },
    {
      "cell_type": "code",
      "execution_count": null,
      "id": "19f6f347-e01c-496a-ac3a-7e603361997f",
      "metadata": {
        "tags": [],
        "colab": {
          "base_uri": "https://localhost:8080/"
        },
        "id": "19f6f347-e01c-496a-ac3a-7e603361997f",
        "outputId": "6196b6c8-c389-45c7-fe82-091629bff397"
      },
      "outputs": [
        {
          "output_type": "stream",
          "name": "stdout",
          "text": [
            "              precision    recall  f1-score   support\n",
            "\n",
            "      female       0.89      0.93      0.91        42\n",
            "        male       0.93      0.88      0.90        42\n",
            "\n",
            "    accuracy                           0.90        84\n",
            "   macro avg       0.91      0.90      0.90        84\n",
            "weighted avg       0.91      0.90      0.90        84\n",
            "\n"
          ]
        }
      ],
      "source": [
        "print(classification_report(y_test, grid_search.best_estimator_.predict(X_test)))"
      ]
    },
    {
      "cell_type": "code",
      "execution_count": null,
      "id": "594638a2-fe7e-4295-ac53-edca4db92565",
      "metadata": {
        "colab": {
          "base_uri": "https://localhost:8080/",
          "height": 279
        },
        "id": "594638a2-fe7e-4295-ac53-edca4db92565",
        "outputId": "781f841d-2457-43dd-e61f-73acc3741e1a"
      },
      "outputs": [
        {
          "output_type": "display_data",
          "data": {
            "text/plain": [
              "<Figure size 432x288 with 2 Axes>"
            ],
            "image/png": "[encoded data removed]"
          },
          "metadata": {
            "needs_background": "light"
          }
        }
      ],
      "source": [
        "cm = confusion_matrix(y_test, grid_search.best_estimator_.predict(X_test))\n",
        "disp = ConfusionMatrixDisplay(confusion_matrix=cm,\n",
        "                               display_labels=grid_search.classes_)\n",
        "disp.plot()\n",
        "\n",
        "plt.show()"
      ]
    },
    {
      "cell_type": "markdown",
      "id": "8aa24577-b182-4b54-a539-f498f93db4dc",
      "metadata": {
        "id": "8aa24577-b182-4b54-a539-f498f93db4dc"
      },
      "source": [
        "## Try it yourself!\n",
        "\n",
        "Now that we've seen the power of pipelines in sklearn, let's now try implementing our own pipelines."
      ]
    },
    {
      "cell_type": "code",
      "execution_count": null,
      "id": "05e5894f-4f8c-4f42-9b3d-63621cf18f4c",
      "metadata": {
        "id": "05e5894f-4f8c-4f42-9b3d-63621cf18f4c"
      },
      "outputs": [],
      "source": [
        "# Try implementing a pipeline where we use median imputation for numeric columns instead of mean imputation.\n",
        "\n",
        "#individual pipelines for differing datatypes\n",
        "cat_pipeline = Pipeline(steps=[('cat_impute', SimpleImputer(missing_values=np.nan, strategy='most_frequent')),\n",
        "                               ('onehot_cat', OneHotEncoder(drop='if_binary'))])\n",
        "num_pipeline = Pipeline(steps=[('impute_num', SimpleImputer(missing_values=np.nan, strategy='median')),\n",
        "                               ('scale_num', StandardScaler())])\n",
        "\n",
        "#establish preprocessing pipeline by columns\n",
        "preproc = ColumnTransformer([('cat_pipe', cat_pipeline, make_column_selector(dtype_include=object)),\n",
        "                             ('num_pipe', num_pipeline, make_column_selector(dtype_include=np.number))],\n",
        "                             remainder='passthrough')"
      ]
    },
    {
      "cell_type": "markdown",
      "id": "632436b2-0167-4874-b129-28d83e45b0af",
      "metadata": {
        "id": "632436b2-0167-4874-b129-28d83e45b0af"
      },
      "source": [
        "With this new pipeline, now train a Random Forest model. Refer to the documentation for the parameters for the random forest classifier here: https://scikit-learn.org/stable/modules/generated/sklearn.ensemble.RandomForestClassifier.html\n",
        "\n",
        "Is the performance better? "
      ]
    },
    {
      "cell_type": "code",
      "execution_count": null,
      "id": "c9101ce8-4fbb-4058-b147-67919ff46f6d",
      "metadata": {
        "colab": {
          "base_uri": "https://localhost:8080/",
          "height": 227
        },
        "id": "c9101ce8-4fbb-4058-b147-67919ff46f6d",
        "outputId": "f288c6c7-9dd8-4a72-a189-b1bb7b22810c"
      },
      "outputs": [
        {
          "output_type": "display_data",
          "data": {
            "text/plain": [
              "Pipeline(steps=[('preproc',\n",
              "                 ColumnTransformer(remainder='passthrough',\n",
              "                                   transformers=[('cat_pipe',\n",
              "                                                  Pipeline(steps=[('cat_impute',\n",
              "                                                                   SimpleImputer(strategy='most_frequent')),\n",
              "                                                                  ('onehot_cat',\n",
              "                                                                   OneHotEncoder(drop='if_binary'))]),\n",
              "                                                  <sklearn.compose._column_transformer.make_column_selector object at 0x7fba5ecb1250>),\n",
              "                                                 ('num_pipe',\n",
              "                                                  Pipeline(steps=[('impute_num',\n",
              "                                                                   SimpleImputer(strategy='median')),\n",
              "                                                                  ('scale_num',\n",
              "                                                                   StandardScaler())]),\n",
              "                                                  <sklearn.compose._column_transformer.make_column_selector object at 0x7fba5ecb1f90>)])),\n",
              "                ('mdl', RandomForestClassifier())])"
            ],
            "text/html": [
              "<style>#sk-9f9282f5-814c-47eb-b749-e5cfb2b19305 {color: black;background-color: white;}#sk-9f9282f5-814c-47eb-b749-e5cfb2b19305 pre{padding: 0;}#sk-9f9282f5-814c-47eb-b749-e5cfb2b19305 div.sk-toggleable {background-color: white;}#sk-9f9282f5-814c-47eb-b749-e5cfb2b19305 label.sk-toggleable__label {cursor: pointer;display: block;width: 100%;margin-bottom: 0;padding: 0.3em;box-sizing: border-box;text-align: center;}#sk-9f9282f5-814c-47eb-b749-e5cfb2b19305 label.sk-toggleable__label-arrow:before {content: \"▸\";float: left;margin-right: 0.25em;color: #696969;}#sk-9f9282f5-814c-47eb-b749-e5cfb2b19305 label.sk-toggleable__label-arrow:hover:before {color: black;}#sk-9f9282f5-814c-47eb-b749-e5cfb2b19305 div.sk-estimator:hover label.sk-toggleable__label-arrow:before {color: black;}#sk-9f9282f5-814c-47eb-b749-e5cfb2b19305 div.sk-toggleable__content {max-height: 0;max-width: 0;overflow: hidden;text-align: left;background-color: #f0f8ff;}#sk-9f9282f5-814c-47eb-b749-e5cfb2b19305 div.sk-toggleable__content pre {margin: 0.2em;color: black;border-radius: 0.25em;background-color: #f0f8ff;}#sk-9f9282f5-814c-47eb-b749-e5cfb2b19305 input.sk-toggleable__control:checked~div.sk-toggleable__content {max-height: 200px;max-width: 100%;overflow: auto;}#sk-9f9282f5-814c-47eb-b749-e5cfb2b19305 input.sk-toggleable__control:checked~label.sk-toggleable__label-arrow:before {content: \"▾\";}#sk-9f9282f5-814c-47eb-b749-e5cfb2b19305 div.sk-estimator input.sk-toggleable__control:checked~label.sk-toggleable__label {background-color: #d4ebff;}#sk-9f9282f5-814c-47eb-b749-e5cfb2b19305 div.sk-label input.sk-toggleable__control:checked~label.sk-toggleable__label {background-color: #d4ebff;}#sk-9f9282f5-814c-47eb-b749-e5cfb2b19305 input.sk-hidden--visually {border: 0;clip: rect(1px 1px 1px 1px);clip: rect(1px, 1px, 1px, 1px);height: 1px;margin: -1px;overflow: hidden;padding: 0;position: absolute;width: 1px;}#sk-9f9282f5-814c-47eb-b749-e5cfb2b19305 div.sk-estimator {font-family: monospace;background-color: #f0f8ff;border: 1px dotted black;border-radius: 0.25em;box-sizing: border-box;margin-bottom: 0.5em;}#sk-9f9282f5-814c-47eb-b749-e5cfb2b19305 div.sk-estimator:hover {background-color: #d4ebff;}#sk-9f9282f5-814c-47eb-b749-e5cfb2b19305 div.sk-parallel-item::after {content: \"\";width: 100%;border-bottom: 1px solid gray;flex-grow: 1;}#sk-9f9282f5-814c-47eb-b749-e5cfb2b19305 div.sk-label:hover label.sk-toggleable__label {background-color: #d4ebff;}#sk-9f9282f5-814c-47eb-b749-e5cfb2b19305 div.sk-serial::before {content: \"\";position: absolute;border-left: 1px solid gray;box-sizing: border-box;top: 2em;bottom: 0;left: 50%;}#sk-9f9282f5-814c-47eb-b749-e5cfb2b19305 div.sk-serial {display: flex;flex-direction: column;align-items: center;background-color: white;padding-right: 0.2em;padding-left: 0.2em;}#sk-9f9282f5-814c-47eb-b749-e5cfb2b19305 div.sk-item {z-index: 1;}#sk-9f9282f5-814c-47eb-b749-e5cfb2b19305 div.sk-parallel {display: flex;align-items: stretch;justify-content: center;background-color: white;}#sk-9f9282f5-814c-47eb-b749-e5cfb2b19305 div.sk-parallel::before {content: \"\";position: absolute;border-left: 1px solid gray;box-sizing: border-box;top: 2em;bottom: 0;left: 50%;}#sk-9f9282f5-814c-47eb-b749-e5cfb2b19305 div.sk-parallel-item {display: flex;flex-direction: column;position: relative;background-color: white;}#sk-9f9282f5-814c-47eb-b749-e5cfb2b19305 div.sk-parallel-item:first-child::after {align-self: flex-end;width: 50%;}#sk-9f9282f5-814c-47eb-b749-e5cfb2b19305 div.sk-parallel-item:last-child::after {align-self: flex-start;width: 50%;}#sk-9f9282f5-814c-47eb-b749-e5cfb2b19305 div.sk-parallel-item:only-child::after {width: 0;}#sk-9f9282f5-814c-47eb-b749-e5cfb2b19305 div.sk-dashed-wrapped {border: 1px dashed gray;margin: 0 0.4em 0.5em 0.4em;box-sizing: border-box;padding-bottom: 0.4em;background-color: white;position: relative;}#sk-9f9282f5-814c-47eb-b749-e5cfb2b19305 div.sk-label label {font-family: monospace;font-weight: bold;background-color: white;display: inline-block;line-height: 1.2em;}#sk-9f9282f5-814c-47eb-b749-e5cfb2b19305 div.sk-label-container {position: relative;z-index: 2;text-align: center;}#sk-9f9282f5-814c-47eb-b749-e5cfb2b19305 div.sk-container {/* jupyter's `normalize.less` sets `[hidden] { display: none; }` but bootstrap.min.css set `[hidden] { display: none !important; }` so we also need the `!important` here to be able to override the default hidden behavior on the sphinx rendered scikit-learn.org. See: https://github.com/scikit-learn/scikit-learn/issues/21755 */display: inline-block !important;position: relative;}#sk-9f9282f5-814c-47eb-b749-e5cfb2b19305 div.sk-text-repr-fallback {display: none;}</style><div id=\"sk-9f9282f5-814c-47eb-b749-e5cfb2b19305\" class=\"sk-top-container\"><div class=\"sk-text-repr-fallback\"><pre>Pipeline(steps=[(&#x27;preproc&#x27;,\n",
              "                 ColumnTransformer(remainder=&#x27;passthrough&#x27;,\n",
              "                                   transformers=[(&#x27;cat_pipe&#x27;,\n",
              "                                                  Pipeline(steps=[(&#x27;cat_impute&#x27;,\n",
              "                                                                   SimpleImputer(strategy=&#x27;most_frequent&#x27;)),\n",
              "                                                                  (&#x27;onehot_cat&#x27;,\n",
              "                                                                   OneHotEncoder(drop=&#x27;if_binary&#x27;))]),\n",
              "                                                  &lt;sklearn.compose._column_transformer.make_column_selector object at 0x7fba5ecb1250&gt;),\n",
              "                                                 (&#x27;num_pipe&#x27;,\n",
              "                                                  Pipeline(steps=[(&#x27;impute_num&#x27;,\n",
              "                                                                   SimpleImputer(strategy=&#x27;median&#x27;)),\n",
              "                                                                  (&#x27;scale_num&#x27;,\n",
              "                                                                   StandardScaler())]),\n",
              "                                                  &lt;sklearn.compose._column_transformer.make_column_selector object at 0x7fba5ecb1f90&gt;)])),\n",
              "                (&#x27;mdl&#x27;, RandomForestClassifier())])</pre><b>Please rerun this cell to show the HTML repr or trust the notebook.</b></div><div class=\"sk-container\" hidden><div class=\"sk-item sk-dashed-wrapped\"><div class=\"sk-label-container\"><div class=\"sk-label sk-toggleable\"><input class=\"sk-toggleable__control sk-hidden--visually\" id=\"5463d5fa-0906-4e31-a0e3-f8803ce46753\" type=\"checkbox\" ><label for=\"5463d5fa-0906-4e31-a0e3-f8803ce46753\" class=\"sk-toggleable__label sk-toggleable__label-arrow\">Pipeline</label><div class=\"sk-toggleable__content\"><pre>Pipeline(steps=[(&#x27;preproc&#x27;,\n",
              "                 ColumnTransformer(remainder=&#x27;passthrough&#x27;,\n",
              "                                   transformers=[(&#x27;cat_pipe&#x27;,\n",
              "                                                  Pipeline(steps=[(&#x27;cat_impute&#x27;,\n",
              "                                                                   SimpleImputer(strategy=&#x27;most_frequent&#x27;)),\n",
              "                                                                  (&#x27;onehot_cat&#x27;,\n",
              "                                                                   OneHotEncoder(drop=&#x27;if_binary&#x27;))]),\n",
              "                                                  &lt;sklearn.compose._column_transformer.make_column_selector object at 0x7fba5ecb1250&gt;),\n",
              "                                                 (&#x27;num_pipe&#x27;,\n",
              "                                                  Pipeline(steps=[(&#x27;impute_num&#x27;,\n",
              "                                                                   SimpleImputer(strategy=&#x27;median&#x27;)),\n",
              "                                                                  (&#x27;scale_num&#x27;,\n",
              "                                                                   StandardScaler())]),\n",
              "                                                  &lt;sklearn.compose._column_transformer.make_column_selector object at 0x7fba5ecb1f90&gt;)])),\n",
              "                (&#x27;mdl&#x27;, RandomForestClassifier())])</pre></div></div></div><div class=\"sk-serial\"><div class=\"sk-item sk-dashed-wrapped\"><div class=\"sk-label-container\"><div class=\"sk-label sk-toggleable\"><input class=\"sk-toggleable__control sk-hidden--visually\" id=\"24daca2a-b60c-4313-836b-0980917a3270\" type=\"checkbox\" ><label for=\"24daca2a-b60c-4313-836b-0980917a3270\" class=\"sk-toggleable__label sk-toggleable__label-arrow\">preproc: ColumnTransformer</label><div class=\"sk-toggleable__content\"><pre>ColumnTransformer(remainder=&#x27;passthrough&#x27;,\n",
              "                  transformers=[(&#x27;cat_pipe&#x27;,\n",
              "                                 Pipeline(steps=[(&#x27;cat_impute&#x27;,\n",
              "                                                  SimpleImputer(strategy=&#x27;most_frequent&#x27;)),\n",
              "                                                 (&#x27;onehot_cat&#x27;,\n",
              "                                                  OneHotEncoder(drop=&#x27;if_binary&#x27;))]),\n",
              "                                 &lt;sklearn.compose._column_transformer.make_column_selector object at 0x7fba5ecb1250&gt;),\n",
              "                                (&#x27;num_pipe&#x27;,\n",
              "                                 Pipeline(steps=[(&#x27;impute_num&#x27;,\n",
              "                                                  SimpleImputer(strategy=&#x27;median&#x27;)),\n",
              "                                                 (&#x27;scale_num&#x27;,\n",
              "                                                  StandardScaler())]),\n",
              "                                 &lt;sklearn.compose._column_transformer.make_column_selector object at 0x7fba5ecb1f90&gt;)])</pre></div></div></div><div class=\"sk-parallel\"><div class=\"sk-parallel-item\"><div class=\"sk-item\"><div class=\"sk-label-container\"><div class=\"sk-label sk-toggleable\"><input class=\"sk-toggleable__control sk-hidden--visually\" id=\"081f0780-8a80-45a8-b071-40e2fa67c3e0\" type=\"checkbox\" ><label for=\"081f0780-8a80-45a8-b071-40e2fa67c3e0\" class=\"sk-toggleable__label sk-toggleable__label-arrow\">cat_pipe</label><div class=\"sk-toggleable__content\"><pre>&lt;sklearn.compose._column_transformer.make_column_selector object at 0x7fba5ecb1250&gt;</pre></div></div></div><div class=\"sk-serial\"><div class=\"sk-item\"><div class=\"sk-serial\"><div class=\"sk-item\"><div class=\"sk-estimator sk-toggleable\"><input class=\"sk-toggleable__control sk-hidden--visually\" id=\"a026d0e1-4cf3-496b-af38-7f0206c9c326\" type=\"checkbox\" ><label for=\"a026d0e1-4cf3-496b-af38-7f0206c9c326\" class=\"sk-toggleable__label sk-toggleable__label-arrow\">SimpleImputer</label><div class=\"sk-toggleable__content\"><pre>SimpleImputer(strategy=&#x27;most_frequent&#x27;)</pre></div></div></div><div class=\"sk-item\"><div class=\"sk-estimator sk-toggleable\"><input class=\"sk-toggleable__control sk-hidden--visually\" id=\"67b160d5-b0da-4dfc-9563-c7c0882ab129\" type=\"checkbox\" ><label for=\"67b160d5-b0da-4dfc-9563-c7c0882ab129\" class=\"sk-toggleable__label sk-toggleable__label-arrow\">OneHotEncoder</label><div class=\"sk-toggleable__content\"><pre>OneHotEncoder(drop=&#x27;if_binary&#x27;)</pre></div></div></div></div></div></div></div></div><div class=\"sk-parallel-item\"><div class=\"sk-item\"><div class=\"sk-label-container\"><div class=\"sk-label sk-toggleable\"><input class=\"sk-toggleable__control sk-hidden--visually\" id=\"446e823f-6b54-4781-b24b-263db68068c6\" type=\"checkbox\" ><label for=\"446e823f-6b54-4781-b24b-263db68068c6\" class=\"sk-toggleable__label sk-toggleable__label-arrow\">num_pipe</label><div class=\"sk-toggleable__content\"><pre>&lt;sklearn.compose._column_transformer.make_column_selector object at 0x7fba5ecb1f90&gt;</pre></div></div></div><div class=\"sk-serial\"><div class=\"sk-item\"><div class=\"sk-serial\"><div class=\"sk-item\"><div class=\"sk-estimator sk-toggleable\"><input class=\"sk-toggleable__control sk-hidden--visually\" id=\"211bc0e6-7cb4-47ea-a48a-9361f3fc75d6\" type=\"checkbox\" ><label for=\"211bc0e6-7cb4-47ea-a48a-9361f3fc75d6\" class=\"sk-toggleable__label sk-toggleable__label-arrow\">SimpleImputer</label><div class=\"sk-toggleable__content\"><pre>SimpleImputer(strategy=&#x27;median&#x27;)</pre></div></div></div><div class=\"sk-item\"><div class=\"sk-estimator sk-toggleable\"><input class=\"sk-toggleable__control sk-hidden--visually\" id=\"e2b71907-5124-4c88-be38-4adf4d50d156\" type=\"checkbox\" ><label for=\"e2b71907-5124-4c88-be38-4adf4d50d156\" class=\"sk-toggleable__label sk-toggleable__label-arrow\">StandardScaler</label><div class=\"sk-toggleable__content\"><pre>StandardScaler()</pre></div></div></div></div></div></div></div></div><div class=\"sk-parallel-item\"><div class=\"sk-item\"><div class=\"sk-label-container\"><div class=\"sk-label sk-toggleable\"><input class=\"sk-toggleable__control sk-hidden--visually\" id=\"9b512bae-6791-4765-913c-8775a4b4a55b\" type=\"checkbox\" ><label for=\"9b512bae-6791-4765-913c-8775a4b4a55b\" class=\"sk-toggleable__label sk-toggleable__label-arrow\">remainder</label><div class=\"sk-toggleable__content\"><pre></pre></div></div></div><div class=\"sk-serial\"><div class=\"sk-item\"><div class=\"sk-estimator sk-toggleable\"><input class=\"sk-toggleable__control sk-hidden--visually\" id=\"b9e23ef7-571f-4efb-bb8d-eb6b76edeff2\" type=\"checkbox\" ><label for=\"b9e23ef7-571f-4efb-bb8d-eb6b76edeff2\" class=\"sk-toggleable__label sk-toggleable__label-arrow\">passthrough</label><div class=\"sk-toggleable__content\"><pre>passthrough</pre></div></div></div></div></div></div></div></div><div class=\"sk-item\"><div class=\"sk-estimator sk-toggleable\"><input class=\"sk-toggleable__control sk-hidden--visually\" id=\"2fa147c5-9999-48f3-8420-8576936e176d\" type=\"checkbox\" ><label for=\"2fa147c5-9999-48f3-8420-8576936e176d\" class=\"sk-toggleable__label sk-toggleable__label-arrow\">RandomForestClassifier</label><div class=\"sk-toggleable__content\"><pre>RandomForestClassifier()</pre></div></div></div></div></div></div></div>"
            ]
          },
          "metadata": {}
        }
      ],
      "source": [
        "#generate the whole modeling pipeline with preprocessing\n",
        "pipe = Pipeline(steps=[('preproc', preproc),\n",
        "                       ('mdl', RandomForestClassifier())])\n",
        "\n",
        "#visualization for steps\n",
        "with config_context(display='diagram'):\n",
        "    display(pipe)"
      ]
    },
    {
      "cell_type": "markdown",
      "id": "728d169a-0505-40cd-b773-0205cac0f81f",
      "metadata": {
        "id": "728d169a-0505-40cd-b773-0205cac0f81f"
      },
      "source": [
        "Now perform cross validation and modify the n_estimators parameter to values of [100, 200,500] and max_depth parameter to values of [10,15,50] for the random forest classifier for hyperparameter tuning."
      ]
    },
    {
      "cell_type": "code",
      "execution_count": null,
      "id": "370c38c4-a091-43f4-a095-509c8b2b4f9a",
      "metadata": {
        "id": "370c38c4-a091-43f4-a095-509c8b2b4f9a"
      },
      "outputs": [],
      "source": [
        "tuning_grid = {'mdl__n_estimators' : [100, 200, 500],\n",
        "               'mdl__max_depth': [10, 15, 20] }\n",
        "\n",
        "grid_search = GridSearchCV(pipe, \n",
        "                           param_grid = tuning_grid, \n",
        "                           cv = 5, \n",
        "                           return_train_score=True)"
      ]
    },
    {
      "cell_type": "code",
      "execution_count": null,
      "id": "be1cecb5-0aa8-42a7-96d3-1be721acc4d5",
      "metadata": {
        "colab": {
          "base_uri": "https://localhost:8080/"
        },
        "id": "be1cecb5-0aa8-42a7-96d3-1be721acc4d5",
        "outputId": "2d3a699a-e08e-4e8d-d899-4daea8081b7c"
      },
      "outputs": [
        {
          "output_type": "execute_result",
          "data": {
            "text/plain": [
              "{'mdl__max_depth': [10, 15, 20], 'mdl__n_estimators': [100, 200, 500]}"
            ]
          },
          "metadata": {},
          "execution_count": 62
        }
      ],
      "source": [
        "tuning_grid"
      ]
    },
    {
      "cell_type": "code",
      "execution_count": null,
      "id": "bac7bee7-2136-4bcd-b57d-cc4e1f1e39bf",
      "metadata": {
        "colab": {
          "base_uri": "https://localhost:8080/"
        },
        "id": "bac7bee7-2136-4bcd-b57d-cc4e1f1e39bf",
        "outputId": "1e96a525-4009-4cc4-8ca0-5bf38d72ffe7"
      },
      "outputs": [
        {
          "output_type": "execute_result",
          "data": {
            "text/plain": [
              "GridSearchCV(cv=5,\n",
              "             estimator=Pipeline(steps=[('preproc',\n",
              "                                        ColumnTransformer(remainder='passthrough',\n",
              "                                                          transformers=[('cat_pipe',\n",
              "                                                                         Pipeline(steps=[('cat_impute',\n",
              "                                                                                          SimpleImputer(strategy='most_frequent')),\n",
              "                                                                                         ('onehot_cat',\n",
              "                                                                                          OneHotEncoder(drop='if_binary'))]),\n",
              "                                                                         <sklearn.compose._column_transformer.make_column_selector object at 0x7fba5ecb1250>),\n",
              "                                                                        ('num_pipe',\n",
              "                                                                         Pipeline(steps=[('impute_num',\n",
              "                                                                                          SimpleImputer(strategy='median')),\n",
              "                                                                                         ('scale_num',\n",
              "                                                                                          StandardScaler())]),\n",
              "                                                                         <sklearn.compose._column_transformer.make_column_selector object at 0x7fba5ecb1f90>)])),\n",
              "                                       ('mdl', RandomForestClassifier())]),\n",
              "             param_grid={'mdl__max_depth': [10, 15, 20],\n",
              "                         'mdl__n_estimators': [100, 200, 500]},\n",
              "             return_train_score=True)"
            ]
          },
          "metadata": {},
          "execution_count": 63
        }
      ],
      "source": [
        "grid_search.fit(X_train, y_train)"
      ]
    },
    {
      "cell_type": "code",
      "execution_count": null,
      "id": "fe4a4c7f-3806-4e8d-a642-34ddd0488755",
      "metadata": {
        "colab": {
          "base_uri": "https://localhost:8080/"
        },
        "id": "fe4a4c7f-3806-4e8d-a642-34ddd0488755",
        "outputId": "046d7090-8d7a-4a9c-9fef-42bb56e700cd"
      },
      "outputs": [
        {
          "output_type": "stream",
          "name": "stdout",
          "text": [
            "0.9239183673469388\n"
          ]
        },
        {
          "output_type": "execute_result",
          "data": {
            "text/plain": [
              "{'mdl__max_depth': 10, 'mdl__n_estimators': 100}"
            ]
          },
          "metadata": {},
          "execution_count": 64
        }
      ],
      "source": [
        "print(grid_search.best_score_)\n",
        "grid_search.best_params_"
      ]
    },
    {
      "cell_type": "code",
      "execution_count": null,
      "id": "44b01658-ec11-45fa-aaf7-9df5dc3d398e",
      "metadata": {
        "colab": {
          "base_uri": "https://localhost:8080/",
          "height": 894
        },
        "id": "44b01658-ec11-45fa-aaf7-9df5dc3d398e",
        "outputId": "0b4c200c-19b4-458a-c303-9757cffbbfec"
      },
      "outputs": [
        {
          "output_type": "execute_result",
          "data": {
            "text/plain": [
              "   mean_fit_time  std_fit_time  mean_score_time  std_score_time  \\\n",
              "0       0.276174      0.015819         0.038219        0.009892   \n",
              "1       0.321377      0.086020         0.026546        0.002697   \n",
              "2       0.819475      0.187795         0.074010        0.011274   \n",
              "3       0.143948      0.003124         0.015156        0.000119   \n",
              "4       0.273847      0.005338         0.026853        0.004884   \n",
              "5       0.675329      0.014939         0.053679        0.000849   \n",
              "6       0.145770      0.004182         0.017923        0.002205   \n",
              "7       0.281209      0.007549         0.029294        0.003514   \n",
              "8       0.672250      0.005476         0.053886        0.000644   \n",
              "\n",
              "  param_mdl__max_depth param_mdl__n_estimators  \\\n",
              "0                   10                     100   \n",
              "1                   10                     200   \n",
              "2                   10                     500   \n",
              "3                   15                     100   \n",
              "4                   15                     200   \n",
              "5                   15                     500   \n",
              "6                   20                     100   \n",
              "7                   20                     200   \n",
              "8                   20                     500   \n",
              "\n",
              "                                             params  split0_test_score  \\\n",
              "0  {'mdl__max_depth': 10, 'mdl__n_estimators': 100}               0.90   \n",
              "1  {'mdl__max_depth': 10, 'mdl__n_estimators': 200}               0.88   \n",
              "2  {'mdl__max_depth': 10, 'mdl__n_estimators': 500}               0.88   \n",
              "3  {'mdl__max_depth': 15, 'mdl__n_estimators': 100}               0.90   \n",
              "4  {'mdl__max_depth': 15, 'mdl__n_estimators': 200}               0.88   \n",
              "5  {'mdl__max_depth': 15, 'mdl__n_estimators': 500}               0.88   \n",
              "6  {'mdl__max_depth': 20, 'mdl__n_estimators': 100}               0.94   \n",
              "7  {'mdl__max_depth': 20, 'mdl__n_estimators': 200}               0.86   \n",
              "8  {'mdl__max_depth': 20, 'mdl__n_estimators': 500}               0.88   \n",
              "\n",
              "   split1_test_score  split2_test_score  ...  mean_test_score  std_test_score  \\\n",
              "0               0.92               0.94  ...         0.923918        0.034277   \n",
              "1               0.90               0.94  ...         0.915918        0.038647   \n",
              "2               0.92               0.94  ...         0.919918        0.037818   \n",
              "3               0.90               0.96  ...         0.915837        0.038597   \n",
              "4               0.92               0.94  ...         0.915837        0.031776   \n",
              "5               0.92               0.96  ...         0.923918        0.040680   \n",
              "6               0.92               0.90  ...         0.919837        0.028054   \n",
              "7               0.92               0.92  ...         0.907755        0.026843   \n",
              "8               0.92               0.94  ...         0.911837        0.036884   \n",
              "\n",
              "   rank_test_score  split0_train_score  split1_train_score  \\\n",
              "0                1                 1.0                 1.0   \n",
              "1                5                 1.0                 1.0   \n",
              "2                3                 1.0                 1.0   \n",
              "3                6                 1.0                 1.0   \n",
              "4                6                 1.0                 1.0   \n",
              "5                1                 1.0                 1.0   \n",
              "6                4                 1.0                 1.0   \n",
              "7                9                 1.0                 1.0   \n",
              "8                8                 1.0                 1.0   \n",
              "\n",
              "   split2_train_score  split3_train_score  split4_train_score  \\\n",
              "0                 1.0                 1.0                 1.0   \n",
              "1                 1.0                 1.0                 1.0   \n",
              "2                 1.0                 1.0                 1.0   \n",
              "3                 1.0                 1.0                 1.0   \n",
              "4                 1.0                 1.0                 1.0   \n",
              "5                 1.0                 1.0                 1.0   \n",
              "6                 1.0                 1.0                 1.0   \n",
              "7                 1.0                 1.0                 1.0   \n",
              "8                 1.0                 1.0                 1.0   \n",
              "\n",
              "   mean_train_score  std_train_score  \n",
              "0               1.0              0.0  \n",
              "1               1.0              0.0  \n",
              "2               1.0              0.0  \n",
              "3               1.0              0.0  \n",
              "4               1.0              0.0  \n",
              "5               1.0              0.0  \n",
              "6               1.0              0.0  \n",
              "7               1.0              0.0  \n",
              "8               1.0              0.0  \n",
              "\n",
              "[9 rows x 22 columns]"
            ],
            "text/html": [
              "\n",
              "  <div id=\"df-e1c9a5ac-e680-4ccf-92d5-16ad827ae3ea\">\n",
              "    <div class=\"colab-df-container\">\n",
              "      <div>\n",
              "<style scoped>\n",
              "    .dataframe tbody tr th:only-of-type {\n",
              "        vertical-align: middle;\n",
              "    }\n",
              "\n",
              "    .dataframe tbody tr th {\n",
              "        vertical-align: top;\n",
              "    }\n",
              "\n",
              "    .dataframe thead th {\n",
              "        text-align: right;\n",
              "    }\n",
              "</style>\n",
              "<table border=\"1\" class=\"dataframe\">\n",
              "  <thead>\n",
              "    <tr style=\"text-align: right;\">\n",
              "      <th></th>\n",
              "      <th>mean_fit_time</th>\n",
              "      <th>std_fit_time</th>\n",
              "      <th>mean_score_time</th>\n",
              "      <th>std_score_time</th>\n",
              "      <th>param_mdl__max_depth</th>\n",
              "      <th>param_mdl__n_estimators</th>\n",
              "      <th>params</th>\n",
              "      <th>split0_test_score</th>\n",
              "      <th>split1_test_score</th>\n",
              "      <th>split2_test_score</th>\n",
              "      <th>...</th>\n",
              "      <th>mean_test_score</th>\n",
              "      <th>std_test_score</th>\n",
              "      <th>rank_test_score</th>\n",
              "      <th>split0_train_score</th>\n",
              "      <th>split1_train_score</th>\n",
              "      <th>split2_train_score</th>\n",
              "      <th>split3_train_score</th>\n",
              "      <th>split4_train_score</th>\n",
              "      <th>mean_train_score</th>\n",
              "      <th>std_train_score</th>\n",
              "    </tr>\n",
              "  </thead>\n",
              "  <tbody>\n",
              "    <tr>\n",
              "      <th>0</th>\n",
              "      <td>0.276174</td>\n",
              "      <td>0.015819</td>\n",
              "      <td>0.038219</td>\n",
              "      <td>0.009892</td>\n",
              "      <td>10</td>\n",
              "      <td>100</td>\n",
              "      <td>{'mdl__max_depth': 10, 'mdl__n_estimators': 100}</td>\n",
              "      <td>0.90</td>\n",
              "      <td>0.92</td>\n",
              "      <td>0.94</td>\n",
              "      <td>...</td>\n",
              "      <td>0.923918</td>\n",
              "      <td>0.034277</td>\n",
              "      <td>1</td>\n",
              "      <td>1.0</td>\n",
              "      <td>1.0</td>\n",
              "      <td>1.0</td>\n",
              "      <td>1.0</td>\n",
              "      <td>1.0</td>\n",
              "      <td>1.0</td>\n",
              "      <td>0.0</td>\n",
              "    </tr>\n",
              "    <tr>\n",
              "      <th>1</th>\n",
              "      <td>0.321377</td>\n",
              "      <td>0.086020</td>\n",
              "      <td>0.026546</td>\n",
              "      <td>0.002697</td>\n",
              "      <td>10</td>\n",
              "      <td>200</td>\n",
              "      <td>{'mdl__max_depth': 10, 'mdl__n_estimators': 200}</td>\n",
              "      <td>0.88</td>\n",
              "      <td>0.90</td>\n",
              "      <td>0.94</td>\n",
              "      <td>...</td>\n",
              "      <td>0.915918</td>\n",
              "      <td>0.038647</td>\n",
              "      <td>5</td>\n",
              "      <td>1.0</td>\n",
              "      <td>1.0</td>\n",
              "      <td>1.0</td>\n",
              "      <td>1.0</td>\n",
              "      <td>1.0</td>\n",
              "      <td>1.0</td>\n",
              "      <td>0.0</td>\n",
              "    </tr>\n",
              "    <tr>\n",
              "      <th>2</th>\n",
              "      <td>0.819475</td>\n",
              "      <td>0.187795</td>\n",
              "      <td>0.074010</td>\n",
              "      <td>0.011274</td>\n",
              "      <td>10</td>\n",
              "      <td>500</td>\n",
              "      <td>{'mdl__max_depth': 10, 'mdl__n_estimators': 500}</td>\n",
              "      <td>0.88</td>\n",
              "      <td>0.92</td>\n",
              "      <td>0.94</td>\n",
              "      <td>...</td>\n",
              "      <td>0.919918</td>\n",
              "      <td>0.037818</td>\n",
              "      <td>3</td>\n",
              "      <td>1.0</td>\n",
              "      <td>1.0</td>\n",
              "      <td>1.0</td>\n",
              "      <td>1.0</td>\n",
              "      <td>1.0</td>\n",
              "      <td>1.0</td>\n",
              "      <td>0.0</td>\n",
              "    </tr>\n",
              "    <tr>\n",
              "      <th>3</th>\n",
              "      <td>0.143948</td>\n",
              "      <td>0.003124</td>\n",
              "      <td>0.015156</td>\n",
              "      <td>0.000119</td>\n",
              "      <td>15</td>\n",
              "      <td>100</td>\n",
              "      <td>{'mdl__max_depth': 15, 'mdl__n_estimators': 100}</td>\n",
              "      <td>0.90</td>\n",
              "      <td>0.90</td>\n",
              "      <td>0.96</td>\n",
              "      <td>...</td>\n",
              "      <td>0.915837</td>\n",
              "      <td>0.038597</td>\n",
              "      <td>6</td>\n",
              "      <td>1.0</td>\n",
              "      <td>1.0</td>\n",
              "      <td>1.0</td>\n",
              "      <td>1.0</td>\n",
              "      <td>1.0</td>\n",
              "      <td>1.0</td>\n",
              "      <td>0.0</td>\n",
              "    </tr>\n",
              "    <tr>\n",
              "      <th>4</th>\n",
              "      <td>0.273847</td>\n",
              "      <td>0.005338</td>\n",
              "      <td>0.026853</td>\n",
              "      <td>0.004884</td>\n",
              "      <td>15</td>\n",
              "      <td>200</td>\n",
              "      <td>{'mdl__max_depth': 15, 'mdl__n_estimators': 200}</td>\n",
              "      <td>0.88</td>\n",
              "      <td>0.92</td>\n",
              "      <td>0.94</td>\n",
              "      <td>...</td>\n",
              "      <td>0.915837</td>\n",
              "      <td>0.031776</td>\n",
              "      <td>6</td>\n",
              "      <td>1.0</td>\n",
              "      <td>1.0</td>\n",
              "      <td>1.0</td>\n",
              "      <td>1.0</td>\n",
              "      <td>1.0</td>\n",
              "      <td>1.0</td>\n",
              "      <td>0.0</td>\n",
              "    </tr>\n",
              "    <tr>\n",
              "      <th>5</th>\n",
              "      <td>0.675329</td>\n",
              "      <td>0.014939</td>\n",
              "      <td>0.053679</td>\n",
              "      <td>0.000849</td>\n",
              "      <td>15</td>\n",
              "      <td>500</td>\n",
              "      <td>{'mdl__max_depth': 15, 'mdl__n_estimators': 500}</td>\n",
              "      <td>0.88</td>\n",
              "      <td>0.92</td>\n",
              "      <td>0.96</td>\n",
              "      <td>...</td>\n",
              "      <td>0.923918</td>\n",
              "      <td>0.040680</td>\n",
              "      <td>1</td>\n",
              "      <td>1.0</td>\n",
              "      <td>1.0</td>\n",
              "      <td>1.0</td>\n",
              "      <td>1.0</td>\n",
              "      <td>1.0</td>\n",
              "      <td>1.0</td>\n",
              "      <td>0.0</td>\n",
              "    </tr>\n",
              "    <tr>\n",
              "      <th>6</th>\n",
              "      <td>0.145770</td>\n",
              "      <td>0.004182</td>\n",
              "      <td>0.017923</td>\n",
              "      <td>0.002205</td>\n",
              "      <td>20</td>\n",
              "      <td>100</td>\n",
              "      <td>{'mdl__max_depth': 20, 'mdl__n_estimators': 100}</td>\n",
              "      <td>0.94</td>\n",
              "      <td>0.92</td>\n",
              "      <td>0.90</td>\n",
              "      <td>...</td>\n",
              "      <td>0.919837</td>\n",
              "      <td>0.028054</td>\n",
              "      <td>4</td>\n",
              "      <td>1.0</td>\n",
              "      <td>1.0</td>\n",
              "      <td>1.0</td>\n",
              "      <td>1.0</td>\n",
              "      <td>1.0</td>\n",
              "      <td>1.0</td>\n",
              "      <td>0.0</td>\n",
              "    </tr>\n",
              "    <tr>\n",
              "      <th>7</th>\n",
              "      <td>0.281209</td>\n",
              "      <td>0.007549</td>\n",
              "      <td>0.029294</td>\n",
              "      <td>0.003514</td>\n",
              "      <td>20</td>\n",
              "      <td>200</td>\n",
              "      <td>{'mdl__max_depth': 20, 'mdl__n_estimators': 200}</td>\n",
              "      <td>0.86</td>\n",
              "      <td>0.92</td>\n",
              "      <td>0.92</td>\n",
              "      <td>...</td>\n",
              "      <td>0.907755</td>\n",
              "      <td>0.026843</td>\n",
              "      <td>9</td>\n",
              "      <td>1.0</td>\n",
              "      <td>1.0</td>\n",
              "      <td>1.0</td>\n",
              "      <td>1.0</td>\n",
              "      <td>1.0</td>\n",
              "      <td>1.0</td>\n",
              "      <td>0.0</td>\n",
              "    </tr>\n",
              "    <tr>\n",
              "      <th>8</th>\n",
              "      <td>0.672250</td>\n",
              "      <td>0.005476</td>\n",
              "      <td>0.053886</td>\n",
              "      <td>0.000644</td>\n",
              "      <td>20</td>\n",
              "      <td>500</td>\n",
              "      <td>{'mdl__max_depth': 20, 'mdl__n_estimators': 500}</td>\n",
              "      <td>0.88</td>\n",
              "      <td>0.92</td>\n",
              "      <td>0.94</td>\n",
              "      <td>...</td>\n",
              "      <td>0.911837</td>\n",
              "      <td>0.036884</td>\n",
              "      <td>8</td>\n",
              "      <td>1.0</td>\n",
              "      <td>1.0</td>\n",
              "      <td>1.0</td>\n",
              "      <td>1.0</td>\n",
              "      <td>1.0</td>\n",
              "      <td>1.0</td>\n",
              "      <td>0.0</td>\n",
              "    </tr>\n",
              "  </tbody>\n",
              "</table>\n",
              "<p>9 rows × 22 columns</p>\n",
              "</div>\n",
              "      <button class=\"colab-df-convert\" onclick=\"convertToInteractive('df-e1c9a5ac-e680-4ccf-92d5-16ad827ae3ea')\"\n",
              "              title=\"Convert this dataframe to an interactive table.\"\n",
              "              style=\"display:none;\">\n",
              "        \n",
              "  <svg xmlns=\"http://www.w3.org/2000/svg\" height=\"24px\"viewBox=\"0 0 24 24\"\n",
              "       width=\"24px\">\n",
              "    <path d=\"M0 0h24v24H0V0z\" fill=\"none\"/>\n",
              "    <path d=\"M18.56 5.44l.94 2.06.94-2.06 2.06-.94-2.06-.94-.94-2.06-.94 2.06-2.06.94zm-11 1L8.5 8.5l.94-2.06 2.06-.94-2.06-.94L8.5 2.5l-.94 2.06-2.06.94zm10 10l.94 2.06.94-2.06 2.06-.94-2.06-.94-.94-2.06-.94 2.06-2.06.94z\"/><path d=\"M17.41 7.96l-1.37-1.37c-.4-.4-.92-.59-1.43-.59-.52 0-1.04.2-1.43.59L10.3 9.45l-7.72 7.72c-.78.78-.78 2.05 0 2.83L4 21.41c.39.39.9.59 1.41.59.51 0 1.02-.2 1.41-.59l7.78-7.78 2.81-2.81c.8-.78.8-2.07 0-2.86zM5.41 20L4 18.59l7.72-7.72 1.47 1.35L5.41 20z\"/>\n",
              "  </svg>\n",
              "      </button>\n",
              "      \n",
              "  <style>\n",
              "    .colab-df-container {\n",
              "      display:flex;\n",
              "      flex-wrap:wrap;\n",
              "      gap: 12px;\n",
              "    }\n",
              "\n",
              "    .colab-df-convert {\n",
              "      background-color: #E8F0FE;\n",
              "      border: none;\n",
              "      border-radius: 50%;\n",
              "      cursor: pointer;\n",
              "      display: none;\n",
              "      fill: #1967D2;\n",
              "      height: 32px;\n",
              "      padding: 0 0 0 0;\n",
              "      width: 32px;\n",
              "    }\n",
              "\n",
              "    .colab-df-convert:hover {\n",
              "      background-color: #E2EBFA;\n",
              "      box-shadow: 0px 1px 2px rgba(60, 64, 67, 0.3), 0px 1px 3px 1px rgba(60, 64, 67, 0.15);\n",
              "      fill: #174EA6;\n",
              "    }\n",
              "\n",
              "    [theme=dark] .colab-df-convert {\n",
              "      background-color: #3B4455;\n",
              "      fill: #D2E3FC;\n",
              "    }\n",
              "\n",
              "    [theme=dark] .colab-df-convert:hover {\n",
              "      background-color: #434B5C;\n",
              "      box-shadow: 0px 1px 3px 1px rgba(0, 0, 0, 0.15);\n",
              "      filter: drop-shadow(0px 1px 2px rgba(0, 0, 0, 0.3));\n",
              "      fill: #FFFFFF;\n",
              "    }\n",
              "  </style>\n",
              "\n",
              "      <script>\n",
              "        const buttonEl =\n",
              "          document.querySelector('#df-e1c9a5ac-e680-4ccf-92d5-16ad827ae3ea button.colab-df-convert');\n",
              "        buttonEl.style.display =\n",
              "          google.colab.kernel.accessAllowed ? 'block' : 'none';\n",
              "\n",
              "        async function convertToInteractive(key) {\n",
              "          const element = document.querySelector('#df-e1c9a5ac-e680-4ccf-92d5-16ad827ae3ea');\n",
              "          const dataTable =\n",
              "            await google.colab.kernel.invokeFunction('convertToInteractive',\n",
              "                                                     [key], {});\n",
              "          if (!dataTable) return;\n",
              "\n",
              "          const docLinkHtml = 'Like what you see? Visit the ' +\n",
              "            '<a target=\"_blank\" href=https://colab.research.google.com/notebooks/data_table.ipynb>data table notebook</a>'\n",
              "            + ' to learn more about interactive tables.';\n",
              "          element.innerHTML = '';\n",
              "          dataTable['output_type'] = 'display_data';\n",
              "          await google.colab.output.renderOutput(dataTable, element);\n",
              "          const docLink = document.createElement('div');\n",
              "          docLink.innerHTML = docLinkHtml;\n",
              "          element.appendChild(docLink);\n",
              "        }\n",
              "      </script>\n",
              "    </div>\n",
              "  </div>\n",
              "  "
            ]
          },
          "metadata": {},
          "execution_count": 65
        }
      ],
      "source": [
        "pd.DataFrame(grid_search.cv_results_)"
      ]
    },
    {
      "cell_type": "code",
      "execution_count": null,
      "id": "c13ddef8-9fe5-48c3-892b-514cae0ff0cb",
      "metadata": {
        "colab": {
          "base_uri": "https://localhost:8080/"
        },
        "id": "c13ddef8-9fe5-48c3-892b-514cae0ff0cb",
        "outputId": "91cd6a6c-d511-45c0-ee01-9103c7ac092d"
      },
      "outputs": [
        {
          "output_type": "execute_result",
          "data": {
            "text/plain": [
              "Pipeline(steps=[('preproc',\n",
              "                 ColumnTransformer(remainder='passthrough',\n",
              "                                   transformers=[('cat_pipe',\n",
              "                                                  Pipeline(steps=[('cat_impute',\n",
              "                                                                   SimpleImputer(strategy='most_frequent')),\n",
              "                                                                  ('onehot_cat',\n",
              "                                                                   OneHotEncoder(drop='if_binary'))]),\n",
              "                                                  <sklearn.compose._column_transformer.make_column_selector object at 0x7fba5e9d3b50>),\n",
              "                                                 ('num_pipe',\n",
              "                                                  Pipeline(steps=[('impute_num',\n",
              "                                                                   SimpleImputer(strategy='median')),\n",
              "                                                                  ('scale_num',\n",
              "                                                                   StandardScaler())]),\n",
              "                                                  <sklearn.compose._column_transformer.make_column_selector object at 0x7fba5e9d33d0>)])),\n",
              "                ('mdl', RandomForestClassifier(max_depth=10))])"
            ]
          },
          "metadata": {},
          "execution_count": 66
        }
      ],
      "source": [
        "grid_search.best_estimator_"
      ]
    },
    {
      "cell_type": "code",
      "execution_count": null,
      "id": "686c502f-7bd9-4bb6-8477-b055767db77d",
      "metadata": {
        "colab": {
          "base_uri": "https://localhost:8080/"
        },
        "id": "686c502f-7bd9-4bb6-8477-b055767db77d",
        "outputId": "ddc007c7-877e-464b-c04d-c4dfb0c4094d"
      },
      "outputs": [
        {
          "output_type": "execute_result",
          "data": {
            "text/plain": [
              "array(['female', 'male'], dtype=object)"
            ]
          },
          "metadata": {},
          "execution_count": 67
        }
      ],
      "source": [
        "grid_search.classes_"
      ]
    },
    {
      "cell_type": "code",
      "execution_count": null,
      "id": "91d03e13-ce53-4396-953b-93b6ee991634",
      "metadata": {
        "colab": {
          "base_uri": "https://localhost:8080/"
        },
        "id": "91d03e13-ce53-4396-953b-93b6ee991634",
        "outputId": "b790ee69-a32c-4dad-fdf6-4549bd2a38fb"
      },
      "outputs": [
        {
          "output_type": "execute_result",
          "data": {
            "text/plain": [
              "array([0.03804581, 0.01083922, 0.01056443, 0.01361469, 0.01050412,\n",
              "       0.00476958, 0.20304621, 0.26958548, 0.09552196, 0.32016145,\n",
              "       0.02334706])"
            ]
          },
          "metadata": {},
          "execution_count": 68
        }
      ],
      "source": [
        "vip = grid_search.best_estimator_['mdl'].feature_importances_\n",
        "vip"
      ]
    },
    {
      "cell_type": "code",
      "execution_count": null,
      "id": "f467cf24-1f0a-4967-8552-929843bfa5d3",
      "metadata": {
        "colab": {
          "base_uri": "https://localhost:8080/",
          "height": 335
        },
        "id": "f467cf24-1f0a-4967-8552-929843bfa5d3",
        "outputId": "4ea5719e-a94b-4d75-e075-4b3f340dabe4"
      },
      "outputs": [
        {
          "output_type": "stream",
          "name": "stderr",
          "text": [
            "/usr/local/lib/python3.7/dist-packages/sklearn/utils/deprecation.py:87: FutureWarning: Function get_feature_names is deprecated; get_feature_names is deprecated in 1.0 and will be removed in 1.2. Please use get_feature_names_out instead.\n",
            "  warnings.warn(msg, category=FutureWarning)\n"
          ]
        },
        {
          "output_type": "display_data",
          "data": {
            "text/plain": [
              "<Figure size 432x288 with 1 Axes>"
            ],
            "image/png": "[encoded data removed]"
          },
          "metadata": {
            "needs_background": "light"
          }
        }
      ],
      "source": [
        "#get names in correct preproc order\n",
        "cat_names = grid_search.best_estimator_.named_steps['preproc'].transformers_[0][1].named_steps['onehot_cat'].get_feature_names()\n",
        "num_names = grid_search.best_estimator_.named_steps['preproc'].transformers_[1][2]\n",
        "\n",
        "#create df with vip info\n",
        "coef_info = pd.DataFrame({'feat_names':np.hstack([cat_names, num_names]), 'vip': vip})\n",
        "\n",
        "#get sign and magnitude information\n",
        "coef_info = coef_info.assign(coef_mag = abs(coef_info['vip']),\n",
        "                             coef_sign = np.sign(coef_info['vip']))\n",
        "\n",
        "#sort and plot\n",
        "coef_info = coef_info.set_index('feat_names').sort_values(by='coef_mag', ascending=False)\n",
        "sns.barplot(y=coef_info.index, x='coef_mag', hue='coef_sign', data=coef_info, orient='h', dodge=False);"
      ]
    },
    {
      "cell_type": "code",
      "source": [
        "# note that order matters for these values - align in the same DF and sort + plot\n",
        "display(np.hstack([cat_names, num_names]))\n",
        "display(vip)\n",
        "\n",
        "coef_info"
      ],
      "metadata": {
        "id": "OVSmZSPVS4Wa",
        "outputId": "31866d5a-8188-4acb-d070-7d48b5858ca4",
        "colab": {
          "base_uri": "https://localhost:8080/",
          "height": 530
        }
      },
      "id": "OVSmZSPVS4Wa",
      "execution_count": null,
      "outputs": [
        {
          "output_type": "display_data",
          "data": {
            "text/plain": [
              "array(['x0_Adelie', 'x0_Chinstrap', 'x0_Gentoo', 'x1_Biscoe', 'x1_Dream',\n",
              "       'x1_Torgersen', 'bill_length_mm', 'bill_depth_mm',\n",
              "       'flipper_length_mm', 'body_mass_g', 'year'], dtype=object)"
            ]
          },
          "metadata": {}
        },
        {
          "output_type": "display_data",
          "data": {
            "text/plain": [
              "array([0.03804581, 0.01083922, 0.01056443, 0.01361469, 0.01050412,\n",
              "       0.00476958, 0.20304621, 0.26958548, 0.09552196, 0.32016145,\n",
              "       0.02334706])"
            ]
          },
          "metadata": {}
        },
        {
          "output_type": "execute_result",
          "data": {
            "text/plain": [
              "                        vip  coef_mag  coef_sign\n",
              "feat_names                                      \n",
              "body_mass_g        0.320161  0.320161        1.0\n",
              "bill_depth_mm      0.269585  0.269585        1.0\n",
              "bill_length_mm     0.203046  0.203046        1.0\n",
              "flipper_length_mm  0.095522  0.095522        1.0\n",
              "x0_Adelie          0.038046  0.038046        1.0\n",
              "year               0.023347  0.023347        1.0\n",
              "x1_Biscoe          0.013615  0.013615        1.0\n",
              "x0_Chinstrap       0.010839  0.010839        1.0\n",
              "x0_Gentoo          0.010564  0.010564        1.0\n",
              "x1_Dream           0.010504  0.010504        1.0\n",
              "x1_Torgersen       0.004770  0.004770        1.0"
            ],
            "text/html": [
              "\n",
              "  <div id=\"df-4247c909-ee14-43cd-b25f-0e9b5a2fd0b6\">\n",
              "    <div class=\"colab-df-container\">\n",
              "      <div>\n",
              "<style scoped>\n",
              "    .dataframe tbody tr th:only-of-type {\n",
              "        vertical-align: middle;\n",
              "    }\n",
              "\n",
              "    .dataframe tbody tr th {\n",
              "        vertical-align: top;\n",
              "    }\n",
              "\n",
              "    .dataframe thead th {\n",
              "        text-align: right;\n",
              "    }\n",
              "</style>\n",
              "<table border=\"1\" class=\"dataframe\">\n",
              "  <thead>\n",
              "    <tr style=\"text-align: right;\">\n",
              "      <th></th>\n",
              "      <th>vip</th>\n",
              "      <th>coef_mag</th>\n",
              "      <th>coef_sign</th>\n",
              "    </tr>\n",
              "    <tr>\n",
              "      <th>feat_names</th>\n",
              "      <th></th>\n",
              "      <th></th>\n",
              "      <th></th>\n",
              "    </tr>\n",
              "  </thead>\n",
              "  <tbody>\n",
              "    <tr>\n",
              "      <th>body_mass_g</th>\n",
              "      <td>0.320161</td>\n",
              "      <td>0.320161</td>\n",
              "      <td>1.0</td>\n",
              "    </tr>\n",
              "    <tr>\n",
              "      <th>bill_depth_mm</th>\n",
              "      <td>0.269585</td>\n",
              "      <td>0.269585</td>\n",
              "      <td>1.0</td>\n",
              "    </tr>\n",
              "    <tr>\n",
              "      <th>bill_length_mm</th>\n",
              "      <td>0.203046</td>\n",
              "      <td>0.203046</td>\n",
              "      <td>1.0</td>\n",
              "    </tr>\n",
              "    <tr>\n",
              "      <th>flipper_length_mm</th>\n",
              "      <td>0.095522</td>\n",
              "      <td>0.095522</td>\n",
              "      <td>1.0</td>\n",
              "    </tr>\n",
              "    <tr>\n",
              "      <th>x0_Adelie</th>\n",
              "      <td>0.038046</td>\n",
              "      <td>0.038046</td>\n",
              "      <td>1.0</td>\n",
              "    </tr>\n",
              "    <tr>\n",
              "      <th>year</th>\n",
              "      <td>0.023347</td>\n",
              "      <td>0.023347</td>\n",
              "      <td>1.0</td>\n",
              "    </tr>\n",
              "    <tr>\n",
              "      <th>x1_Biscoe</th>\n",
              "      <td>0.013615</td>\n",
              "      <td>0.013615</td>\n",
              "      <td>1.0</td>\n",
              "    </tr>\n",
              "    <tr>\n",
              "      <th>x0_Chinstrap</th>\n",
              "      <td>0.010839</td>\n",
              "      <td>0.010839</td>\n",
              "      <td>1.0</td>\n",
              "    </tr>\n",
              "    <tr>\n",
              "      <th>x0_Gentoo</th>\n",
              "      <td>0.010564</td>\n",
              "      <td>0.010564</td>\n",
              "      <td>1.0</td>\n",
              "    </tr>\n",
              "    <tr>\n",
              "      <th>x1_Dream</th>\n",
              "      <td>0.010504</td>\n",
              "      <td>0.010504</td>\n",
              "      <td>1.0</td>\n",
              "    </tr>\n",
              "    <tr>\n",
              "      <th>x1_Torgersen</th>\n",
              "      <td>0.004770</td>\n",
              "      <td>0.004770</td>\n",
              "      <td>1.0</td>\n",
              "    </tr>\n",
              "  </tbody>\n",
              "</table>\n",
              "</div>\n",
              "      <button class=\"colab-df-convert\" onclick=\"convertToInteractive('df-4247c909-ee14-43cd-b25f-0e9b5a2fd0b6')\"\n",
              "              title=\"Convert this dataframe to an interactive table.\"\n",
              "              style=\"display:none;\">\n",
              "        \n",
              "  <svg xmlns=\"http://www.w3.org/2000/svg\" height=\"24px\"viewBox=\"0 0 24 24\"\n",
              "       width=\"24px\">\n",
              "    <path d=\"M0 0h24v24H0V0z\" fill=\"none\"/>\n",
              "    <path d=\"M18.56 5.44l.94 2.06.94-2.06 2.06-.94-2.06-.94-.94-2.06-.94 2.06-2.06.94zm-11 1L8.5 8.5l.94-2.06 2.06-.94-2.06-.94L8.5 2.5l-.94 2.06-2.06.94zm10 10l.94 2.06.94-2.06 2.06-.94-2.06-.94-.94-2.06-.94 2.06-2.06.94z\"/><path d=\"M17.41 7.96l-1.37-1.37c-.4-.4-.92-.59-1.43-.59-.52 0-1.04.2-1.43.59L10.3 9.45l-7.72 7.72c-.78.78-.78 2.05 0 2.83L4 21.41c.39.39.9.59 1.41.59.51 0 1.02-.2 1.41-.59l7.78-7.78 2.81-2.81c.8-.78.8-2.07 0-2.86zM5.41 20L4 18.59l7.72-7.72 1.47 1.35L5.41 20z\"/>\n",
              "  </svg>\n",
              "      </button>\n",
              "      \n",
              "  <style>\n",
              "    .colab-df-container {\n",
              "      display:flex;\n",
              "      flex-wrap:wrap;\n",
              "      gap: 12px;\n",
              "    }\n",
              "\n",
              "    .colab-df-convert {\n",
              "      background-color: #E8F0FE;\n",
              "      border: none;\n",
              "      border-radius: 50%;\n",
              "      cursor: pointer;\n",
              "      display: none;\n",
              "      fill: #1967D2;\n",
              "      height: 32px;\n",
              "      padding: 0 0 0 0;\n",
              "      width: 32px;\n",
              "    }\n",
              "\n",
              "    .colab-df-convert:hover {\n",
              "      background-color: #E2EBFA;\n",
              "      box-shadow: 0px 1px 2px rgba(60, 64, 67, 0.3), 0px 1px 3px 1px rgba(60, 64, 67, 0.15);\n",
              "      fill: #174EA6;\n",
              "    }\n",
              "\n",
              "    [theme=dark] .colab-df-convert {\n",
              "      background-color: #3B4455;\n",
              "      fill: #D2E3FC;\n",
              "    }\n",
              "\n",
              "    [theme=dark] .colab-df-convert:hover {\n",
              "      background-color: #434B5C;\n",
              "      box-shadow: 0px 1px 3px 1px rgba(0, 0, 0, 0.15);\n",
              "      filter: drop-shadow(0px 1px 2px rgba(0, 0, 0, 0.3));\n",
              "      fill: #FFFFFF;\n",
              "    }\n",
              "  </style>\n",
              "\n",
              "      <script>\n",
              "        const buttonEl =\n",
              "          document.querySelector('#df-4247c909-ee14-43cd-b25f-0e9b5a2fd0b6 button.colab-df-convert');\n",
              "        buttonEl.style.display =\n",
              "          google.colab.kernel.accessAllowed ? 'block' : 'none';\n",
              "\n",
              "        async function convertToInteractive(key) {\n",
              "          const element = document.querySelector('#df-4247c909-ee14-43cd-b25f-0e9b5a2fd0b6');\n",
              "          const dataTable =\n",
              "            await google.colab.kernel.invokeFunction('convertToInteractive',\n",
              "                                                     [key], {});\n",
              "          if (!dataTable) return;\n",
              "\n",
              "          const docLinkHtml = 'Like what you see? Visit the ' +\n",
              "            '<a target=\"_blank\" href=https://colab.research.google.com/notebooks/data_table.ipynb>data table notebook</a>'\n",
              "            + ' to learn more about interactive tables.';\n",
              "          element.innerHTML = '';\n",
              "          dataTable['output_type'] = 'display_data';\n",
              "          await google.colab.output.renderOutput(dataTable, element);\n",
              "          const docLink = document.createElement('div');\n",
              "          docLink.innerHTML = docLinkHtml;\n",
              "          element.appendChild(docLink);\n",
              "        }\n",
              "      </script>\n",
              "    </div>\n",
              "  </div>\n",
              "  "
            ]
          },
          "metadata": {},
          "execution_count": 128
        }
      ]
    },
    {
      "cell_type": "code",
      "execution_count": null,
      "id": "c8492e28-8801-49ac-90d8-d23aa654d98b",
      "metadata": {
        "colab": {
          "base_uri": "https://localhost:8080/"
        },
        "id": "c8492e28-8801-49ac-90d8-d23aa654d98b",
        "outputId": "fc391f86-a423-4567-86ae-887c8fc5bc4f"
      },
      "outputs": [
        {
          "output_type": "stream",
          "name": "stdout",
          "text": [
            "              precision    recall  f1-score   support\n",
            "\n",
            "      female       0.87      0.93      0.90        42\n",
            "        male       0.92      0.86      0.89        42\n",
            "\n",
            "    accuracy                           0.89        84\n",
            "   macro avg       0.89      0.89      0.89        84\n",
            "weighted avg       0.89      0.89      0.89        84\n",
            "\n"
          ]
        }
      ],
      "source": [
        "print(classification_report(y_test, grid_search.best_estimator_.predict(X_test)))"
      ]
    },
    {
      "cell_type": "code",
      "execution_count": null,
      "id": "9465fbec-8727-41f0-a242-ca804a752948",
      "metadata": {
        "colab": {
          "base_uri": "https://localhost:8080/",
          "height": 279
        },
        "id": "9465fbec-8727-41f0-a242-ca804a752948",
        "outputId": "627bad26-702d-44c9-a9cb-db43de2ec6b6"
      },
      "outputs": [
        {
          "output_type": "display_data",
          "data": {
            "text/plain": [
              "<Figure size 432x288 with 2 Axes>"
            ],
            "image/png": "[encoded data removed]"
          },
          "metadata": {
            "needs_background": "light"
          }
        }
      ],
      "source": [
        "cm = confusion_matrix(y_test, grid_search.best_estimator_.predict(X_test))\n",
        "\n",
        "disp = ConfusionMatrixDisplay(confusion_matrix=cm,\n",
        "                               display_labels=grid_search.classes_)\n",
        "disp.plot()\n",
        "plt.show()"
      ]
    },
    {
      "cell_type": "markdown",
      "source": [
        "# WK4 Homework \n",
        "\n",
        "(1) Choose one model and build an ROC curve with the best threshold value indicated in the graph (like we did in class this week). Now suppose that for each penguin whose sex is correctly identified, you'll be rewarded  50,𝑎𝑛𝑑𝑖𝑡𝑤𝑖𝑙𝑙𝑐𝑜𝑠𝑡𝑦𝑜𝑢 75 for each incorrectly identified penguin. What will be the new threshold in this case?\n",
        "\n",
        "*The threshold does not change in this case and remains at 1.  However we can see that the cost of false positives (FP) more quickly erodes values, negative values become possible as FPs increase.*\n",
        "\n",
        "(2) - Optional - Can you plot the precision_recall curve and identify the best general threshold (assuming there is no cost/benefit difference) for the classification task using the same model as above?\n",
        "\n",
        "*See plots below*\n",
        "\n",
        "(3) - Optional - Given the optimal threshold found in optional challenge task 1, produce a confusion matrix showing your new classification results using the same model as above, i.e., you can simply calculate the TP, FP, TN, and FN values\n",
        "\n",
        "*See plots below*\n"
      ],
      "metadata": {
        "id": "x4W-Oo8Eg0mb"
      },
      "id": "x4W-Oo8Eg0mb"
    },
    {
      "cell_type": "markdown",
      "source": [
        "Part 1 - using the confusion matrix from the random forest example"
      ],
      "metadata": {
        "id": "Ai2VQMk5hDsD"
      },
      "id": "Ai2VQMk5hDsD"
    },
    {
      "cell_type": "code",
      "source": [
        "from sklearn.metrics import roc_curve\n",
        "from matplotlib import pyplot\n",
        "\n",
        "# convert to binary values\n",
        "y_test_binary = y_test.replace(['female','male'], [0,1])\n",
        "y_pred_binary = pd.Series(grid_search.best_estimator_.predict(X_test)).replace(['female','male'], [0,1])\n",
        "\n",
        "fpr, tpr, thresholds = roc_curve(y_test_binary, y_pred_binary)\n",
        "\n",
        "cmdf = pd.DataFrame()\n",
        "cmdf['tpr'] = tpr\n",
        "cmdf['fpr'] = fpr\n",
        "cmdf['thresholds'] = thresholds\n",
        "cmdf['net_gain'] = cmdf['tpr'] - cmdf['fpr']\n",
        "\n",
        "# add weighted values\n",
        "cmdf['value'] = cmdf['tpr'] * 50 - cmdf['fpr'] * 75\n",
        "cmdf.sort_values('thresholds', ascending=False)\n",
        "\n",
        "best_gain = np.argmax(cmdf['net_gain'])\n",
        "best_value = np.argmax(cmdf['value'])\n",
        "\n",
        "cmdf"
      ],
      "metadata": {
        "colab": {
          "base_uri": "https://localhost:8080/",
          "height": 172
        },
        "id": "otATE9WHhrWF",
        "outputId": "9482c7ff-5f4d-4b4b-8371-567679182f13"
      },
      "id": "otATE9WHhrWF",
      "execution_count": null,
      "outputs": [
        {
          "output_type": "execute_result",
          "data": {
            "text/plain": [
              "        tpr       fpr  thresholds  net_gain  value\n",
              "0  0.000000  0.000000           2  0.000000    0.0\n",
              "1  0.857143  0.071429           1  0.785714   37.5\n",
              "2  1.000000  1.000000           0  0.000000  -25.0"
            ],
            "text/html": [
              "\n",
              "  <div id=\"df-b677f118-ffb2-4a35-ad40-d930f415961f\">\n",
              "    <div class=\"colab-df-container\">\n",
              "      <div>\n",
              "<style scoped>\n",
              "    .dataframe tbody tr th:only-of-type {\n",
              "        vertical-align: middle;\n",
              "    }\n",
              "\n",
              "    .dataframe tbody tr th {\n",
              "        vertical-align: top;\n",
              "    }\n",
              "\n",
              "    .dataframe thead th {\n",
              "        text-align: right;\n",
              "    }\n",
              "</style>\n",
              "<table border=\"1\" class=\"dataframe\">\n",
              "  <thead>\n",
              "    <tr style=\"text-align: right;\">\n",
              "      <th></th>\n",
              "      <th>tpr</th>\n",
              "      <th>fpr</th>\n",
              "      <th>thresholds</th>\n",
              "      <th>net_gain</th>\n",
              "      <th>value</th>\n",
              "    </tr>\n",
              "  </thead>\n",
              "  <tbody>\n",
              "    <tr>\n",
              "      <th>0</th>\n",
              "      <td>0.000000</td>\n",
              "      <td>0.000000</td>\n",
              "      <td>2</td>\n",
              "      <td>0.000000</td>\n",
              "      <td>0.0</td>\n",
              "    </tr>\n",
              "    <tr>\n",
              "      <th>1</th>\n",
              "      <td>0.857143</td>\n",
              "      <td>0.071429</td>\n",
              "      <td>1</td>\n",
              "      <td>0.785714</td>\n",
              "      <td>37.5</td>\n",
              "    </tr>\n",
              "    <tr>\n",
              "      <th>2</th>\n",
              "      <td>1.000000</td>\n",
              "      <td>1.000000</td>\n",
              "      <td>0</td>\n",
              "      <td>0.000000</td>\n",
              "      <td>-25.0</td>\n",
              "    </tr>\n",
              "  </tbody>\n",
              "</table>\n",
              "</div>\n",
              "      <button class=\"colab-df-convert\" onclick=\"convertToInteractive('df-b677f118-ffb2-4a35-ad40-d930f415961f')\"\n",
              "              title=\"Convert this dataframe to an interactive table.\"\n",
              "              style=\"display:none;\">\n",
              "        \n",
              "  <svg xmlns=\"http://www.w3.org/2000/svg\" height=\"24px\"viewBox=\"0 0 24 24\"\n",
              "       width=\"24px\">\n",
              "    <path d=\"M0 0h24v24H0V0z\" fill=\"none\"/>\n",
              "    <path d=\"M18.56 5.44l.94 2.06.94-2.06 2.06-.94-2.06-.94-.94-2.06-.94 2.06-2.06.94zm-11 1L8.5 8.5l.94-2.06 2.06-.94-2.06-.94L8.5 2.5l-.94 2.06-2.06.94zm10 10l.94 2.06.94-2.06 2.06-.94-2.06-.94-.94-2.06-.94 2.06-2.06.94z\"/><path d=\"M17.41 7.96l-1.37-1.37c-.4-.4-.92-.59-1.43-.59-.52 0-1.04.2-1.43.59L10.3 9.45l-7.72 7.72c-.78.78-.78 2.05 0 2.83L4 21.41c.39.39.9.59 1.41.59.51 0 1.02-.2 1.41-.59l7.78-7.78 2.81-2.81c.8-.78.8-2.07 0-2.86zM5.41 20L4 18.59l7.72-7.72 1.47 1.35L5.41 20z\"/>\n",
              "  </svg>\n",
              "      </button>\n",
              "      \n",
              "  <style>\n",
              "    .colab-df-container {\n",
              "      display:flex;\n",
              "      flex-wrap:wrap;\n",
              "      gap: 12px;\n",
              "    }\n",
              "\n",
              "    .colab-df-convert {\n",
              "      background-color: #E8F0FE;\n",
              "      border: none;\n",
              "      border-radius: 50%;\n",
              "      cursor: pointer;\n",
              "      display: none;\n",
              "      fill: #1967D2;\n",
              "      height: 32px;\n",
              "      padding: 0 0 0 0;\n",
              "      width: 32px;\n",
              "    }\n",
              "\n",
              "    .colab-df-convert:hover {\n",
              "      background-color: #E2EBFA;\n",
              "      box-shadow: 0px 1px 2px rgba(60, 64, 67, 0.3), 0px 1px 3px 1px rgba(60, 64, 67, 0.15);\n",
              "      fill: #174EA6;\n",
              "    }\n",
              "\n",
              "    [theme=dark] .colab-df-convert {\n",
              "      background-color: #3B4455;\n",
              "      fill: #D2E3FC;\n",
              "    }\n",
              "\n",
              "    [theme=dark] .colab-df-convert:hover {\n",
              "      background-color: #434B5C;\n",
              "      box-shadow: 0px 1px 3px 1px rgba(0, 0, 0, 0.15);\n",
              "      filter: drop-shadow(0px 1px 2px rgba(0, 0, 0, 0.3));\n",
              "      fill: #FFFFFF;\n",
              "    }\n",
              "  </style>\n",
              "\n",
              "      <script>\n",
              "        const buttonEl =\n",
              "          document.querySelector('#df-b677f118-ffb2-4a35-ad40-d930f415961f button.colab-df-convert');\n",
              "        buttonEl.style.display =\n",
              "          google.colab.kernel.accessAllowed ? 'block' : 'none';\n",
              "\n",
              "        async function convertToInteractive(key) {\n",
              "          const element = document.querySelector('#df-b677f118-ffb2-4a35-ad40-d930f415961f');\n",
              "          const dataTable =\n",
              "            await google.colab.kernel.invokeFunction('convertToInteractive',\n",
              "                                                     [key], {});\n",
              "          if (!dataTable) return;\n",
              "\n",
              "          const docLinkHtml = 'Like what you see? Visit the ' +\n",
              "            '<a target=\"_blank\" href=https://colab.research.google.com/notebooks/data_table.ipynb>data table notebook</a>'\n",
              "            + ' to learn more about interactive tables.';\n",
              "          element.innerHTML = '';\n",
              "          dataTable['output_type'] = 'display_data';\n",
              "          await google.colab.output.renderOutput(dataTable, element);\n",
              "          const docLink = document.createElement('div');\n",
              "          docLink.innerHTML = docLinkHtml;\n",
              "          element.appendChild(docLink);\n",
              "        }\n",
              "      </script>\n",
              "    </div>\n",
              "  </div>\n",
              "  "
            ]
          },
          "metadata": {},
          "execution_count": 120
        }
      ]
    },
    {
      "cell_type": "code",
      "source": [
        "# locate the index of the largest net_gain\n",
        "print('Net Gain Plot')\n",
        "print('Best Threshold=%f, Net Gain=%.3f' % (cmdf['thresholds'][best_gain], cmdf['thresholds'][best_gain]))\n",
        "\n",
        "# plot the roc curve for the model\n",
        "pyplot.plot([0,1], [0,1], linestyle='--', label='No Skill')\n",
        "\n",
        "pyplot.plot(cmdf['fpr'], \n",
        "            cmdf['tpr'], \n",
        "            marker='.', \n",
        "            label='Random Forest')\n",
        "\n",
        "pyplot.scatter(cmdf['fpr'][best_gain], \n",
        "               cmdf['tpr'][best_gain], \n",
        "               marker='o', \n",
        "               color='black', \n",
        "               label='Best threshold, unweighted')\n",
        "\n",
        "# axis labels\n",
        "pyplot.xlabel('FPR')\n",
        "pyplot.ylabel('TPR')\n",
        "pyplot.legend()\n",
        "pyplot.show()"
      ],
      "metadata": {
        "colab": {
          "base_uri": "https://localhost:8080/",
          "height": 314
        },
        "id": "TJ3NRRdNiuRS",
        "outputId": "a8e3b050-4a51-4333-b730-39e628cb6e97"
      },
      "id": "TJ3NRRdNiuRS",
      "execution_count": null,
      "outputs": [
        {
          "output_type": "stream",
          "name": "stdout",
          "text": [
            "Net Gain Plot\n",
            "Best Threshold=1.000000, Net Gain=1.000\n"
          ]
        },
        {
          "output_type": "display_data",
          "data": {
            "text/plain": [
              "<Figure size 432x288 with 1 Axes>"
            ],
            "image/png": "[encoded data removed]"
          },
          "metadata": {
            "needs_background": "light"
          }
        }
      ]
    },
    {
      "cell_type": "markdown",
      "source": [
        "Optional - Question 2"
      ],
      "metadata": {
        "id": "PJ0tsUDqPcIy"
      },
      "id": "PJ0tsUDqPcIy"
    },
    {
      "cell_type": "code",
      "source": [
        "# locate the index of the largest net_gain\n",
        "print('Value Plot')\n",
        "print('Best Threshold=%f, Net Gain=%.3f' % (cmdf['thresholds'][best_value], cmdf['thresholds'][best_value]))\n",
        "\n",
        "# plot the roc curve for the model\n",
        "pyplot.plot([0,2], [0,2], linestyle='--', label='No Skill')\n",
        "\n",
        "pyplot.plot(cmdf['thresholds'], \n",
        "            cmdf['value'], \n",
        "            marker='.', \n",
        "            label='Random Forest Value Prediction')\n",
        "\n",
        "pyplot.scatter(cmdf['thresholds'][best_value], \n",
        "               cmdf['value'][best_value], \n",
        "               marker='o', \n",
        "               color='black', \n",
        "               label='Best threshold')\n",
        "\n",
        "# axis labels\n",
        "pyplot.xlabel('Threshold')\n",
        "pyplot.ylabel('Value')\n",
        "pyplot.legend()\n",
        "\n",
        "pyplot.show()\n",
        "\n",
        "display(cmdf.iloc[best_value])"
      ],
      "metadata": {
        "colab": {
          "base_uri": "https://localhost:8080/",
          "height": 420
        },
        "id": "KIh8sICk_pz2",
        "outputId": "699845c6-c048-4e82-d2c0-342352ab8c4c"
      },
      "id": "KIh8sICk_pz2",
      "execution_count": null,
      "outputs": [
        {
          "output_type": "stream",
          "name": "stdout",
          "text": [
            "Value Plot\n",
            "Best Threshold=1.000000, Net Gain=1.000\n"
          ]
        },
        {
          "output_type": "display_data",
          "data": {
            "text/plain": [
              "<Figure size 432x288 with 1 Axes>"
            ],
            "image/png": "[encoded data removed]"
          },
          "metadata": {
            "needs_background": "light"
          }
        },
        {
          "output_type": "display_data",
          "data": {
            "text/plain": [
              "tpr            0.857143\n",
              "fpr            0.071429\n",
              "thresholds     1.000000\n",
              "net_gain       0.785714\n",
              "value         37.500000\n",
              "Name: 1, dtype: float64"
            ]
          },
          "metadata": {}
        }
      ]
    },
    {
      "cell_type": "markdown",
      "source": [
        "Optional - Question 3"
      ],
      "metadata": {
        "id": "gyxVlM2WPqnt"
      },
      "id": "gyxVlM2WPqnt"
    },
    {
      "cell_type": "code",
      "source": [
        "y_test\n",
        "y_pred = pd.Series(grid_search.best_estimator_.predict(X_test))"
      ],
      "metadata": {
        "id": "0-LdKOUIAz6d"
      },
      "id": "0-LdKOUIAz6d",
      "execution_count": null,
      "outputs": []
    },
    {
      "cell_type": "code",
      "source": [
        ""
      ],
      "metadata": {
        "id": "NzrshXAQVM8w"
      },
      "id": "NzrshXAQVM8w",
      "execution_count": null,
      "outputs": []
    }
  ],
  "metadata": {
    "kernelspec": {
      "display_name": "Python 3 (ipykernel)",
      "language": "python",
      "name": "python3"
    },
    "language_info": {
      "codemirror_mode": {
        "name": "ipython",
        "version": 3
      },
      "file_extension": ".py",
      "mimetype": "text/x-python",
      "name": "python",
      "nbconvert_exporter": "python",
      "pygments_lexer": "ipython3",
      "version": "3.8.8"
    },
    "colab": {
      "name": "week4_assignment_part1.ipynb",
      "provenance": [],
      "include_colab_link": true
    }
  },
  "nbformat": 4,
  "nbformat_minor": 5
}