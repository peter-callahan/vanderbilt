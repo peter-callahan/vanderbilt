{
  "nbformat": 4,
  "nbformat_minor": 0,
  "metadata": {
    "colab": {
      "name": "Week_8_Homework_Gradient_Descent.ipynb",
      "provenance": [],
      "authorship_tag": "ABX9TyPB/bpoywIwxOEKVW8gIaXM",
      "include_colab_link": true
    },
    "kernelspec": {
      "name": "python3",
      "display_name": "Python 3"
    },
    "language_info": {
      "name": "python"
    }
  },
  "cells": [
    {
      "cell_type": "markdown",
      "metadata": {
        "id": "view-in-github",
        "colab_type": "text"
      },
      "source": [
        "<a href=\"https://colab.research.google.com/github/peter-callahan/vanderbilt/blob/main/Week_8_Homework_Gradient_Descent.ipynb\" target=\"_parent\"><img src=\"https://colab.research.google.com/assets/colab-badge.svg\" alt=\"Open In Colab\"/></a>"
      ]
    },
    {
      "cell_type": "code",
      "execution_count": null,
      "metadata": {
        "id": "iKInBWBsj7CT"
      },
      "outputs": [],
      "source": [
        "# https://www.cs.toronto.edu/~frossard/post/linear_regression/\n"
      ]
    },
    {
      "cell_type": "code",
      "source": [
        "import pandas as pd\n",
        "import numpy as np\n",
        "import matplotlib.pyplot as plt"
      ],
      "metadata": {
        "id": "H6B1HvFQktEE"
      },
      "execution_count": 2,
      "outputs": []
    },
    {
      "cell_type": "code",
      "source": [
        "data_ft = pd.read_csv('https://raw.githubusercontent.com/peter-callahan/vanderbilt/main/food_truck_data.txt', header=None, names=['pop', 'profit'])\n",
        "data_hp = pd.read_csv('https://raw.githubusercontent.com/peter-callahan/vanderbilt/main/housing_price_data.txt', header=None, names=['size', 'bedrm', 'price'])"
      ],
      "metadata": {
        "id": "luqbjMw-kv9O"
      },
      "execution_count": 3,
      "outputs": []
    },
    {
      "cell_type": "code",
      "source": [
        "data_ft = data_ft.sort_values(by='pop')"
      ],
      "metadata": {
        "id": "nV1AG2rmlNs9"
      },
      "execution_count": 110,
      "outputs": []
    },
    {
      "cell_type": "markdown",
      "source": [
        "# Model and Functions"
      ],
      "metadata": {
        "id": "Af99GHdZntlb"
      }
    },
    {
      "cell_type": "code",
      "source": [
        "def gd_single_step(training_pair, thetas, x0=1):\n",
        "    \n",
        "    x1 = training_pair[0]\n",
        "    y = training_pair[1]\n",
        "\n",
        "    # do one forward pass with a single training example\n",
        "    # to calculate error and gradient\n",
        "    y_hat = thetas[0] + thetas[1] * x1\n",
        "    error = y_hat - y\n",
        "\n",
        "    # for each theta, we need the gradient for an update\n",
        "    gradients = np.array([error * x0, error * x1])\n",
        "\n",
        "    # gradients[0] is error term for x0\n",
        "    # gradients[1] is same for x1\n",
        "    return gradients\n",
        "\n",
        "\n",
        "def gradient_descent(training_data, thetas, alpha=5e-3):\n",
        "    total_error = 0\n",
        "    overall_gradients = np.zeros(2)\n",
        "\n",
        "    # compute the summation of gradients across all training examples\n",
        "    for ex in training_data:\n",
        "        gradients = gd_single_step(ex, thetas)\n",
        "\n",
        "        total_error = total_error + gradients[0]\n",
        "        overall_gradients = overall_gradients + gradients\n",
        "\n",
        "    # update thetas\n",
        "    theta_0, theta_1 = thetas\n",
        "    thetas[0] = theta_0 - alpha * overall_gradients[0]\n",
        "    thetas[1] = theta_1 - alpha * overall_gradients[1]\n",
        "\n",
        "    return thetas, total_error"
      ],
      "metadata": {
        "id": "2jpLc4Vmn5KB"
      },
      "execution_count": 106,
      "outputs": []
    },
    {
      "cell_type": "code",
      "source": [
        "thetas = [0.22, 0.86]\n",
        "\n",
        "ft_array = np.array(data_ft)\n",
        "\n",
        "grad = gd_single_step(ft_array[0], thetas, theta1)\n",
        "grad"
      ],
      "metadata": {
        "id": "Z8nL1bmcqAz5",
        "outputId": "b740caac-6507-4d15-d949-a5038580a261",
        "colab": {
          "base_uri": "https://localhost:8080/"
        }
      },
      "execution_count": 107,
      "outputs": [
        {
          "output_type": "execute_result",
          "data": {
            "text/plain": [
              "array([ 5.0566838 , 36.31349113])"
            ]
          },
          "metadata": {},
          "execution_count": 107
        }
      ]
    },
    {
      "cell_type": "code",
      "source": [
        "gradient_descent(ft_array, thetas)"
      ],
      "metadata": {
        "id": "0A3ZV8R1w_jZ",
        "outputId": "d1a29678-5896-438c-c5b3-4c4f16542b4e",
        "colab": {
          "base_uri": "https://localhost:8080/"
        }
      },
      "execution_count": 108,
      "outputs": [
        {
          "output_type": "execute_result",
          "data": {
            "text/plain": [
              "([0.17989732, 0.658194585944], 8.020535999999998)"
            ]
          },
          "metadata": {},
          "execution_count": 108
        }
      ]
    },
    {
      "cell_type": "markdown",
      "source": [
        "# Training"
      ],
      "metadata": {
        "id": "SjfFoDZOv4kr"
      }
    },
    {
      "cell_type": "markdown",
      "source": [
        ""
      ],
      "metadata": {
        "id": "Z_g0jtDJv00V"
      }
    },
    {
      "cell_type": "code",
      "source": [
        "ft_array_2 = np.array(data_ft)\n",
        "ft_array_2"
      ],
      "metadata": {
        "id": "3OxrQe_Xz_H4",
        "outputId": "77344ae6-d6f3-4cf2-c4a6-6b55cfeda750",
        "colab": {
          "base_uri": "https://localhost:8080/"
        }
      },
      "execution_count": 111,
      "outputs": [
        {
          "output_type": "execute_result",
          "data": {
            "text/plain": [
              "array([[ 5.0269, -2.6807],\n",
              "       [ 5.0365,  5.7014],\n",
              "       [ 5.0546,  3.8166],\n",
              "       [ 5.0594,  2.8214],\n",
              "       [ 5.0702,  5.1337]])"
            ]
          },
          "metadata": {},
          "execution_count": 111
        }
      ]
    },
    {
      "cell_type": "code",
      "source": [
        "# set initial parameters\n",
        "\n",
        "thetas = [50, 150]\n",
        "\n",
        "ft_array_2 = np.array(data_ft)\n",
        "\n",
        "# ft_array_2 = np.array([[1,6],\n",
        "#                            [2,5],\n",
        "#                            [3,7],\n",
        "#                            [4,10]])\n",
        "\n",
        "alpha = 5e-3\n",
        "\n",
        "# prepare training\n",
        "total_epochs = 100\n",
        "error_traj = [0] * total_epochs\n",
        "\n",
        "# perform training\n",
        "for epoch in range(total_epochs):\n",
        "    thetas, epoch_error = gradient_descent(ft_array_2, thetas, alpha)\n",
        "    # store a history of errors\n",
        "    error_traj[epoch] = epoch_error"
      ],
      "metadata": {
        "id": "pp9WnV1uuAFy"
      },
      "execution_count": 112,
      "outputs": []
    },
    {
      "cell_type": "code",
      "source": [
        "# Let's do an exploratory plot\n",
        "plt.plot(error_traj)\n",
        "plt.xlabel('Epoch')\n",
        "plt.ylabel('Error')\n",
        "plt.title('Training of Demo Regression model');"
      ],
      "metadata": {
        "id": "bSan21iQxsni",
        "outputId": "92d428f6-098a-42b5-e3c2-14515876e58b",
        "colab": {
          "base_uri": "https://localhost:8080/",
          "height": 295
        }
      },
      "execution_count": 113,
      "outputs": [
        {
          "output_type": "display_data",
          "data": {
            "text/plain": [
              "<Figure size 432x288 with 1 Axes>"
            ],
            "image/png": "[encoded data removed]"
          },
          "metadata": {
            "needs_background": "light"
          }
        }
      ]
    },
    {
      "cell_type": "code",
      "source": [
        ""
      ],
      "metadata": {
        "id": "TGnYoWhLx4Xr"
      },
      "execution_count": null,
      "outputs": []
    }
  ]
}