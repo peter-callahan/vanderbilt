{
  "nbformat": 4,
  "nbformat_minor": 0,
  "metadata": {
    "colab": {
      "name": "Week_8_Homework_Gradient_Descent.ipynb",
      "provenance": [],
      "toc_visible": true,
      "authorship_tag": "ABX9TyMZRygrjjHBFtOHYPIEaEdO",
      "include_colab_link": true
    },
    "kernelspec": {
      "name": "python3",
      "display_name": "Python 3"
    },
    "language_info": {
      "name": "python"
    }
  },
  "cells": [
    {
      "cell_type": "markdown",
      "metadata": {
        "id": "view-in-github",
        "colab_type": "text"
      },
      "source": [
        "<a href=\"https://colab.research.google.com/github/peter-callahan/vanderbilt/blob/main/Week_8_Homework_Gradient_Descent.ipynb\" target=\"_parent\"><img src=\"https://colab.research.google.com/assets/colab-badge.svg\" alt=\"Open In Colab\"/></a>"
      ]
    },
    {
      "cell_type": "code",
      "execution_count": 1,
      "metadata": {
        "id": "iKInBWBsj7CT"
      },
      "outputs": [],
      "source": [
        "# https://www.cs.toronto.edu/~frossard/post/linear_regression/\n"
      ]
    },
    {
      "cell_type": "markdown",
      "source": [
        "# Data + Imports"
      ],
      "metadata": {
        "id": "KqlXby-h4ZxA"
      }
    },
    {
      "cell_type": "code",
      "source": [
        "import pandas as pd\n",
        "import numpy as np\n",
        "import matplotlib.pyplot as plt"
      ],
      "metadata": {
        "id": "H6B1HvFQktEE"
      },
      "execution_count": 2,
      "outputs": []
    },
    {
      "cell_type": "code",
      "source": [
        "data_ft = pd.read_csv('https://raw.githubusercontent.com/peter-callahan/vanderbilt/main/food_truck_data.txt', header=None, names=['pop', 'profit'])\n",
        "data_hp = pd.read_csv('https://raw.githubusercontent.com/peter-callahan/vanderbilt/main/housing_price_data.txt', header=None, names=['size', 'bedrm', 'price'])"
      ],
      "metadata": {
        "id": "luqbjMw-kv9O"
      },
      "execution_count": 3,
      "outputs": []
    },
    {
      "cell_type": "markdown",
      "source": [
        "# Linear Regression with Single Variable\n",
        "\n",
        "The model uses a simple (single variable) least-square method to fit the line the data points. This solution heavily relys on the code from class, specifically the pattern of: sum error, update gradients, repeat.  I have plotted a traditional OLS alongside the Gradient Descent (few vs many iteration) to observe the change fit of the line. \n",
        "\n",
        "1. Dataset: food truck \n",
        "2. Input parameters: population\n",
        "3. Y Variable: profits\n",
        "\n",
        "Profit = Theta0 + Theta1 * population\n",
        "\n",
        "1. Theta1 = -14.559814388642172,\n",
        "2. Theta0 = 2.5"
      ],
      "metadata": {
        "id": "Af99GHdZntlb"
      }
    },
    {
      "cell_type": "code",
      "source": [
        "def simple_reg_single_step(training_pair, thetas, x0=1.0):\n",
        "    \n",
        "    x1 = training_pair[0]\n",
        "    y = training_pair[1]\n",
        "\n",
        "    # do one forward pass with a single training example\n",
        "    # to calculate error and gradient\n",
        "    y_hat = thetas[0] + thetas[1] * x1\n",
        "    error = y_hat - y\n",
        "\n",
        "    # cost = 0.5 * (error ** 2)\n",
        "\n",
        "    # for each theta, we need the gradient for an update\n",
        "    gradients = np.array([error * x0, error * x1])\n",
        "\n",
        "    # gradients[0] is error term for x0\n",
        "    # gradients[1] is same for x1\n",
        "    return gradients\n",
        "\n",
        "\n",
        "def gradient_descent(training_data, thetas, alpha=5e-3, model=simple_reg_single_step):\n",
        "    total_error = 0\n",
        "    overall_gradients = np.zeros(training_data.shape[1])\n",
        "\n",
        "    # compute the summation of gradients across all training examples\n",
        "    for ex in training_data:\n",
        "        gradients = model(ex, thetas)\n",
        "\n",
        "        total_error = total_error + gradients[0]\n",
        "        overall_gradients = overall_gradients + gradients\n",
        "\n",
        "    # update thetas\n",
        "    # theta_0, theta_1 = thetas\n",
        "    # thetas[0] = theta_0 - alpha * overall_gradients[0]\n",
        "    # thetas[1] = theta_1 - alpha * overall_gradients[1]\n",
        "\n",
        "    for n in range(0, len(thetas)):\n",
        "        thetas[n] = thetas[n] - alpha * overall_gradients[n]\n",
        "\n",
        "    return thetas, total_error\n",
        "\n",
        "def ols(data):\n",
        "    # initializing our inputs and outputs\n",
        "    X = data.iloc[0].values\n",
        "    Y = data.iloc[1].values\n",
        "\n",
        "    # mean of our inputs and outputs\n",
        "    x_mean = np.mean(X)\n",
        "    y_mean = np.mean(Y)\n",
        "\n",
        "    #total number of values\n",
        "    n = len(X)\n",
        "\n",
        "    # using the formula to calculate the b1 and b0\n",
        "    numerator = 0\n",
        "    denominator = 0\n",
        "\n",
        "    for i in range(n):\n",
        "        numerator = numerator + (X[i] - x_mean) * (Y[i] - y_mean)\n",
        "        denominator = denominator + (X[i] - x_mean) ** 2\n",
        "        \n",
        "    b1 = numerator / denominator\n",
        "    b0 = y_mean - (b1 * x_mean)\n",
        "\n",
        "    return [b0, b1]"
      ],
      "metadata": {
        "id": "2jpLc4Vmn5KB"
      },
      "execution_count": 4,
      "outputs": []
    },
    {
      "cell_type": "markdown",
      "source": [
        "## Training"
      ],
      "metadata": {
        "id": "SjfFoDZOv4kr"
      }
    },
    {
      "cell_type": "code",
      "source": [
        "thetas = [0.3, 2.5]\n",
        "\n",
        "ft_array = np.array(data_ft)\n",
        "\n",
        "total_epochs = 100\n",
        "error_traj = [0] * total_epochs\n",
        "\n",
        "for epoch in range(total_epochs):\n",
        "    thetas, epoch_error = gradient_descent(ft_array, \n",
        "                                           thetas, \n",
        "                                           alpha=0.00005, \n",
        "                                           model=simple_reg_single_step)\n",
        "\n",
        "    # store a history of errors\n",
        "    error_traj[epoch] = epoch_error\n",
        "\n",
        "plt.plot(error_traj)\n",
        "plt.xlabel('Epoch')\n",
        "plt.ylabel('Error')\n",
        "plt.title('Training of Demo Regression model');"
      ],
      "metadata": {
        "colab": {
          "base_uri": "https://localhost:8080/",
          "height": 295
        },
        "id": "pp9WnV1uuAFy",
        "outputId": "f38ecc35-7a56-4b25-c163-33d3cf9cdee2"
      },
      "execution_count": 5,
      "outputs": [
        {
          "output_type": "display_data",
          "data": {
            "text/plain": [
              "<Figure size 432x288 with 1 Axes>"
            ],
            "image/png": "[encoded data removed]"
          },
          "metadata": {
            "needs_background": "light"
          }
        }
      ]
    },
    {
      "cell_type": "code",
      "source": [
        "thetas_2 = [0.3, 2.5]\n",
        "\n",
        "ft_array = np.array(data_ft)\n",
        "\n",
        "total_epochs = 5\n",
        "error_traj = [0] * total_epochs\n",
        "\n",
        "for epoch in range(total_epochs):\n",
        "    thetas_2, epoch_error = gradient_descent(ft_array,  \n",
        "                                             thetas_2, \n",
        "                                             alpha=0.00005, \n",
        "                                             model=simple_reg_single_step)\n",
        "\n",
        "    error_traj[epoch] = epoch_error\n",
        "\n",
        "plt.plot(error_traj)\n",
        "plt.xlabel('Epoch')\n",
        "plt.ylabel('Error')\n",
        "plt.title('Training of Demo Regression model');"
      ],
      "metadata": {
        "colab": {
          "base_uri": "https://localhost:8080/",
          "height": 295
        },
        "id": "LSw7H03b8EvZ",
        "outputId": "eee9445e-772f-43f0-b215-c0aae851269f"
      },
      "execution_count": 6,
      "outputs": [
        {
          "output_type": "display_data",
          "data": {
            "text/plain": [
              "<Figure size 432x288 with 1 Axes>"
            ],
            "image/png": "[encoded data removed]"
          },
          "metadata": {
            "needs_background": "light"
          }
        }
      ]
    },
    {
      "cell_type": "code",
      "source": [
        "lin_pts = np.linspace(ft_array[:,1].min(), \n",
        "                      ft_array[:,1].max(), \n",
        "                      25) # for making the line\n",
        "\n",
        "# lin_pts = ft_array[:,1]\n",
        "\n",
        "# set initial parameters\n",
        "old_thetas = ols(data_ft)\n",
        "\n",
        "orig_mdl_pts = old_thetas[0] + lin_pts * old_thetas[1]\n",
        "plt.plot(lin_pts, orig_mdl_pts, ':', linewidth=4, label='OLS model fit')\n",
        "plt.legend()\n",
        "\n",
        "mdl_pts_2 = thetas_2[0] + lin_pts * thetas_2[1]\n",
        "plt.plot(lin_pts, mdl_pts_2, '--', linewidth=4, label='Short Training')\n",
        "plt.legend()\n",
        "\n",
        "mdl_pts = thetas[0] + lin_pts * thetas[1]\n",
        "plt.plot(lin_pts, mdl_pts, linewidth=4, label='Final model /w GD')\n",
        "plt.legend()\n",
        "\n",
        "plt.plot(ft_array[:,0], ft_array[:,1], 'ro', label='Data points') # 'ro' for red, circle\n",
        "plt.legend()\n",
        "plt.xlabel('Demo x label')\n",
        "plt.ylabel('Demo y label')\n",
        "plt.title('Comparison of pre- vs post-model training');"
      ],
      "metadata": {
        "colab": {
          "base_uri": "https://localhost:8080/",
          "height": 295
        },
        "id": "Oo-slb3bdlxf",
        "outputId": "f1d9fea3-35f9-4d6a-b792-77b7e43cb248"
      },
      "execution_count": 7,
      "outputs": [
        {
          "output_type": "display_data",
          "data": {
            "text/plain": [
              "<Figure size 432x288 with 1 Axes>"
            ],
            "image/png": "[encoded data removed]"
          },
          "metadata": {
            "needs_background": "light"
          }
        }
      ]
    },
    {
      "cell_type": "code",
      "source": [
        "thetas"
      ],
      "metadata": {
        "id": "l6jqHcIia--Q",
        "outputId": "c3063f02-a7c7-482c-aefa-3093021935f3",
        "colab": {
          "base_uri": "https://localhost:8080/"
        }
      },
      "execution_count": 8,
      "outputs": [
        {
          "output_type": "execute_result",
          "data": {
            "text/plain": [
              "[-0.208901663618831, 0.8226466361640565]"
            ]
          },
          "metadata": {},
          "execution_count": 8
        }
      ]
    },
    {
      "cell_type": "markdown",
      "source": [
        "# Linear Regression with Multiple Variable\n",
        "\n",
        "The model uses a multi variable regression to predict the price of a house using variables like bedooms and size. This solution is based off a simple linear regression but designed to handle mutliple variables and thetas. I have plotted the cost curve for scaled and unscaled data, both show convergence but notabily the alpha used for the scaled data was much smaller.  I interpret this to mean that with scaled data the gradient descent is able to converge more quickly with larger steps, without encountering gradient descent divergence.   \n",
        "\n",
        "1. Dataset: Housing Prices\n",
        "2. Input parameters: size (of house) and bedrm (number of bedrooms)\n",
        "3. Y Variable: price (of house)\n",
        "\n",
        "Price = Theta0 + Theta1 * size + Theta2 * bedrooms\n",
        "\n",
        "1. Theta1 = -1.6686245507990487, \n",
        "2. Theta2 = 1.6046409176607257, \n",
        "3. Theta0 = 3.0\n",
        "  "
      ],
      "metadata": {
        "id": "pmENXX5E4Ot7"
      }
    },
    {
      "cell_type": "code",
      "source": [
        "data_hp.head()"
      ],
      "metadata": {
        "colab": {
          "base_uri": "https://localhost:8080/",
          "height": 206
        },
        "id": "UeFdea3w4e16",
        "outputId": "c23e6404-0be6-406d-92bb-d2e080a5af76"
      },
      "execution_count": 9,
      "outputs": [
        {
          "output_type": "execute_result",
          "data": {
            "text/plain": [
              "   size  bedrm   price\n",
              "0  2104      3  399900\n",
              "1  1600      3  329900\n",
              "2  2400      3  369000\n",
              "3  1416      2  232000\n",
              "4  3000      4  539900"
            ],
            "text/html": [
              "\n",
              "  <div id=\"df-680b18e4-403a-42a0-8daf-c9c4b5aea5f9\">\n",
              "    <div class=\"colab-df-container\">\n",
              "      <div>\n",
              "<style scoped>\n",
              "    .dataframe tbody tr th:only-of-type {\n",
              "        vertical-align: middle;\n",
              "    }\n",
              "\n",
              "    .dataframe tbody tr th {\n",
              "        vertical-align: top;\n",
              "    }\n",
              "\n",
              "    .dataframe thead th {\n",
              "        text-align: right;\n",
              "    }\n",
              "</style>\n",
              "<table border=\"1\" class=\"dataframe\">\n",
              "  <thead>\n",
              "    <tr style=\"text-align: right;\">\n",
              "      <th></th>\n",
              "      <th>size</th>\n",
              "      <th>bedrm</th>\n",
              "      <th>price</th>\n",
              "    </tr>\n",
              "  </thead>\n",
              "  <tbody>\n",
              "    <tr>\n",
              "      <th>0</th>\n",
              "      <td>2104</td>\n",
              "      <td>3</td>\n",
              "      <td>399900</td>\n",
              "    </tr>\n",
              "    <tr>\n",
              "      <th>1</th>\n",
              "      <td>1600</td>\n",
              "      <td>3</td>\n",
              "      <td>329900</td>\n",
              "    </tr>\n",
              "    <tr>\n",
              "      <th>2</th>\n",
              "      <td>2400</td>\n",
              "      <td>3</td>\n",
              "      <td>369000</td>\n",
              "    </tr>\n",
              "    <tr>\n",
              "      <th>3</th>\n",
              "      <td>1416</td>\n",
              "      <td>2</td>\n",
              "      <td>232000</td>\n",
              "    </tr>\n",
              "    <tr>\n",
              "      <th>4</th>\n",
              "      <td>3000</td>\n",
              "      <td>4</td>\n",
              "      <td>539900</td>\n",
              "    </tr>\n",
              "  </tbody>\n",
              "</table>\n",
              "</div>\n",
              "      <button class=\"colab-df-convert\" onclick=\"convertToInteractive('df-680b18e4-403a-42a0-8daf-c9c4b5aea5f9')\"\n",
              "              title=\"Convert this dataframe to an interactive table.\"\n",
              "              style=\"display:none;\">\n",
              "        \n",
              "  <svg xmlns=\"http://www.w3.org/2000/svg\" height=\"24px\"viewBox=\"0 0 24 24\"\n",
              "       width=\"24px\">\n",
              "    <path d=\"M0 0h24v24H0V0z\" fill=\"none\"/>\n",
              "    <path d=\"M18.56 5.44l.94 2.06.94-2.06 2.06-.94-2.06-.94-.94-2.06-.94 2.06-2.06.94zm-11 1L8.5 8.5l.94-2.06 2.06-.94-2.06-.94L8.5 2.5l-.94 2.06-2.06.94zm10 10l.94 2.06.94-2.06 2.06-.94-2.06-.94-.94-2.06-.94 2.06-2.06.94z\"/><path d=\"M17.41 7.96l-1.37-1.37c-.4-.4-.92-.59-1.43-.59-.52 0-1.04.2-1.43.59L10.3 9.45l-7.72 7.72c-.78.78-.78 2.05 0 2.83L4 21.41c.39.39.9.59 1.41.59.51 0 1.02-.2 1.41-.59l7.78-7.78 2.81-2.81c.8-.78.8-2.07 0-2.86zM5.41 20L4 18.59l7.72-7.72 1.47 1.35L5.41 20z\"/>\n",
              "  </svg>\n",
              "      </button>\n",
              "      \n",
              "  <style>\n",
              "    .colab-df-container {\n",
              "      display:flex;\n",
              "      flex-wrap:wrap;\n",
              "      gap: 12px;\n",
              "    }\n",
              "\n",
              "    .colab-df-convert {\n",
              "      background-color: #E8F0FE;\n",
              "      border: none;\n",
              "      border-radius: 50%;\n",
              "      cursor: pointer;\n",
              "      display: none;\n",
              "      fill: #1967D2;\n",
              "      height: 32px;\n",
              "      padding: 0 0 0 0;\n",
              "      width: 32px;\n",
              "    }\n",
              "\n",
              "    .colab-df-convert:hover {\n",
              "      background-color: #E2EBFA;\n",
              "      box-shadow: 0px 1px 2px rgba(60, 64, 67, 0.3), 0px 1px 3px 1px rgba(60, 64, 67, 0.15);\n",
              "      fill: #174EA6;\n",
              "    }\n",
              "\n",
              "    [theme=dark] .colab-df-convert {\n",
              "      background-color: #3B4455;\n",
              "      fill: #D2E3FC;\n",
              "    }\n",
              "\n",
              "    [theme=dark] .colab-df-convert:hover {\n",
              "      background-color: #434B5C;\n",
              "      box-shadow: 0px 1px 3px 1px rgba(0, 0, 0, 0.15);\n",
              "      filter: drop-shadow(0px 1px 2px rgba(0, 0, 0, 0.3));\n",
              "      fill: #FFFFFF;\n",
              "    }\n",
              "  </style>\n",
              "\n",
              "      <script>\n",
              "        const buttonEl =\n",
              "          document.querySelector('#df-680b18e4-403a-42a0-8daf-c9c4b5aea5f9 button.colab-df-convert');\n",
              "        buttonEl.style.display =\n",
              "          google.colab.kernel.accessAllowed ? 'block' : 'none';\n",
              "\n",
              "        async function convertToInteractive(key) {\n",
              "          const element = document.querySelector('#df-680b18e4-403a-42a0-8daf-c9c4b5aea5f9');\n",
              "          const dataTable =\n",
              "            await google.colab.kernel.invokeFunction('convertToInteractive',\n",
              "                                                     [key], {});\n",
              "          if (!dataTable) return;\n",
              "\n",
              "          const docLinkHtml = 'Like what you see? Visit the ' +\n",
              "            '<a target=\"_blank\" href=https://colab.research.google.com/notebooks/data_table.ipynb>data table notebook</a>'\n",
              "            + ' to learn more about interactive tables.';\n",
              "          element.innerHTML = '';\n",
              "          dataTable['output_type'] = 'display_data';\n",
              "          await google.colab.output.renderOutput(dataTable, element);\n",
              "          const docLink = document.createElement('div');\n",
              "          docLink.innerHTML = docLinkHtml;\n",
              "          element.appendChild(docLink);\n",
              "        }\n",
              "      </script>\n",
              "    </div>\n",
              "  </div>\n",
              "  "
            ]
          },
          "metadata": {},
          "execution_count": 9
        }
      ]
    },
    {
      "cell_type": "code",
      "source": [
        "def multi_reg_single_step(training_pair, thetas, x0=1.0):\n",
        "\n",
        "    x1 = training_pair[0]\n",
        "    x2 = training_pair[1]\n",
        "    y = training_pair[2]\n",
        "\n",
        "    # do one forward pass with a single training example\n",
        "    # to calculate error and gradient\n",
        "\n",
        "    y_hat = thetas[0] + thetas[1] * x1 + thetas[2] * x2\n",
        "    error = y_hat - y\n",
        "\n",
        "    cost = 0.5 * (error ** 2)\n",
        "\n",
        "    # for each theta, we need the gradient for an update\n",
        "    gradients = np.array([error * x0, error * x1, error * x2])\n",
        "\n",
        "    # gradients[0] is error term for x0\n",
        "    # gradients[1] is same for x1\n",
        "    return gradients"
      ],
      "metadata": {
        "id": "31Cl2wh-4e4B"
      },
      "execution_count": 10,
      "outputs": []
    },
    {
      "cell_type": "code",
      "source": [
        "thetas = [0.3, 2.5, 3.0]\n",
        "\n",
        "data_array = np.array(data_hp)\n",
        "\n",
        "total_epochs = 100\n",
        "error_traj1 = [0] * total_epochs\n",
        "\n",
        "for epoch in range(total_epochs):\n",
        "    thetas, epoch_error = gradient_descent(data_array, \n",
        "                                           thetas, \n",
        "                                           alpha = 0.000000001, \n",
        "                                           model=multi_reg_single_step)\n",
        "\n",
        "    # store a history of errors\n",
        "    error_traj1[epoch] = epoch_error\n",
        "\n",
        "plt.plot(error_traj1)\n",
        "plt.xlabel('Epoch')\n",
        "plt.ylabel('Error')\n",
        "plt.title('Training of Mutli-Regression model (No Scaling)');"
      ],
      "metadata": {
        "colab": {
          "base_uri": "https://localhost:8080/",
          "height": 295
        },
        "id": "Q6tcmewm5aR6",
        "outputId": "a1fb8dfd-682d-46db-b2cf-4869c7e55685"
      },
      "execution_count": 11,
      "outputs": [
        {
          "output_type": "display_data",
          "data": {
            "text/plain": [
              "<Figure size 432x288 with 1 Axes>"
            ],
            "image/png": "[encoded data removed]"
          },
          "metadata": {
            "needs_background": "light"
          }
        }
      ]
    },
    {
      "cell_type": "markdown",
      "source": [
        "## Perform Scaling and Retrain"
      ],
      "metadata": {
        "id": "-e4DAneFAly-"
      }
    },
    {
      "cell_type": "code",
      "source": [
        "from sklearn.preprocessing import MinMaxScaler\n",
        "scaler = MinMaxScaler()\n",
        "\n",
        "# data_hp[['size', 'bedrm']] = scaler.fit_transform(data_hp[['size', 'bedrm']])"
      ],
      "metadata": {
        "id": "P_OdyrYhC5ec"
      },
      "execution_count": 12,
      "outputs": []
    },
    {
      "cell_type": "code",
      "source": [
        "data_hp_scaled = pd.DataFrame(scaler.fit_transform(data_hp), \n",
        "                                      columns=['size', 'bedrm', 'price'])\n",
        "                            "
      ],
      "metadata": {
        "id": "ThCd9ZqnIIu5"
      },
      "execution_count": 13,
      "outputs": []
    },
    {
      "cell_type": "code",
      "source": [
        "data_hp_scaled.head(3)"
      ],
      "metadata": {
        "colab": {
          "base_uri": "https://localhost:8080/",
          "height": 143
        },
        "id": "M4nNoYapDyTw",
        "outputId": "037552eb-1e24-48f6-e9c5-0977ad792380"
      },
      "execution_count": 14,
      "outputs": [
        {
          "output_type": "execute_result",
          "data": {
            "text/plain": [
              "       size  bedrm     price\n",
              "0  0.345284    0.5  0.433962\n",
              "1  0.206288    0.5  0.301887\n",
              "2  0.426917    0.5  0.375660"
            ],
            "text/html": [
              "\n",
              "  <div id=\"df-d1c5c536-453f-4439-a2c6-8a12d7b8e4ea\">\n",
              "    <div class=\"colab-df-container\">\n",
              "      <div>\n",
              "<style scoped>\n",
              "    .dataframe tbody tr th:only-of-type {\n",
              "        vertical-align: middle;\n",
              "    }\n",
              "\n",
              "    .dataframe tbody tr th {\n",
              "        vertical-align: top;\n",
              "    }\n",
              "\n",
              "    .dataframe thead th {\n",
              "        text-align: right;\n",
              "    }\n",
              "</style>\n",
              "<table border=\"1\" class=\"dataframe\">\n",
              "  <thead>\n",
              "    <tr style=\"text-align: right;\">\n",
              "      <th></th>\n",
              "      <th>size</th>\n",
              "      <th>bedrm</th>\n",
              "      <th>price</th>\n",
              "    </tr>\n",
              "  </thead>\n",
              "  <tbody>\n",
              "    <tr>\n",
              "      <th>0</th>\n",
              "      <td>0.345284</td>\n",
              "      <td>0.5</td>\n",
              "      <td>0.433962</td>\n",
              "    </tr>\n",
              "    <tr>\n",
              "      <th>1</th>\n",
              "      <td>0.206288</td>\n",
              "      <td>0.5</td>\n",
              "      <td>0.301887</td>\n",
              "    </tr>\n",
              "    <tr>\n",
              "      <th>2</th>\n",
              "      <td>0.426917</td>\n",
              "      <td>0.5</td>\n",
              "      <td>0.375660</td>\n",
              "    </tr>\n",
              "  </tbody>\n",
              "</table>\n",
              "</div>\n",
              "      <button class=\"colab-df-convert\" onclick=\"convertToInteractive('df-d1c5c536-453f-4439-a2c6-8a12d7b8e4ea')\"\n",
              "              title=\"Convert this dataframe to an interactive table.\"\n",
              "              style=\"display:none;\">\n",
              "        \n",
              "  <svg xmlns=\"http://www.w3.org/2000/svg\" height=\"24px\"viewBox=\"0 0 24 24\"\n",
              "       width=\"24px\">\n",
              "    <path d=\"M0 0h24v24H0V0z\" fill=\"none\"/>\n",
              "    <path d=\"M18.56 5.44l.94 2.06.94-2.06 2.06-.94-2.06-.94-.94-2.06-.94 2.06-2.06.94zm-11 1L8.5 8.5l.94-2.06 2.06-.94-2.06-.94L8.5 2.5l-.94 2.06-2.06.94zm10 10l.94 2.06.94-2.06 2.06-.94-2.06-.94-.94-2.06-.94 2.06-2.06.94z\"/><path d=\"M17.41 7.96l-1.37-1.37c-.4-.4-.92-.59-1.43-.59-.52 0-1.04.2-1.43.59L10.3 9.45l-7.72 7.72c-.78.78-.78 2.05 0 2.83L4 21.41c.39.39.9.59 1.41.59.51 0 1.02-.2 1.41-.59l7.78-7.78 2.81-2.81c.8-.78.8-2.07 0-2.86zM5.41 20L4 18.59l7.72-7.72 1.47 1.35L5.41 20z\"/>\n",
              "  </svg>\n",
              "      </button>\n",
              "      \n",
              "  <style>\n",
              "    .colab-df-container {\n",
              "      display:flex;\n",
              "      flex-wrap:wrap;\n",
              "      gap: 12px;\n",
              "    }\n",
              "\n",
              "    .colab-df-convert {\n",
              "      background-color: #E8F0FE;\n",
              "      border: none;\n",
              "      border-radius: 50%;\n",
              "      cursor: pointer;\n",
              "      display: none;\n",
              "      fill: #1967D2;\n",
              "      height: 32px;\n",
              "      padding: 0 0 0 0;\n",
              "      width: 32px;\n",
              "    }\n",
              "\n",
              "    .colab-df-convert:hover {\n",
              "      background-color: #E2EBFA;\n",
              "      box-shadow: 0px 1px 2px rgba(60, 64, 67, 0.3), 0px 1px 3px 1px rgba(60, 64, 67, 0.15);\n",
              "      fill: #174EA6;\n",
              "    }\n",
              "\n",
              "    [theme=dark] .colab-df-convert {\n",
              "      background-color: #3B4455;\n",
              "      fill: #D2E3FC;\n",
              "    }\n",
              "\n",
              "    [theme=dark] .colab-df-convert:hover {\n",
              "      background-color: #434B5C;\n",
              "      box-shadow: 0px 1px 3px 1px rgba(0, 0, 0, 0.15);\n",
              "      filter: drop-shadow(0px 1px 2px rgba(0, 0, 0, 0.3));\n",
              "      fill: #FFFFFF;\n",
              "    }\n",
              "  </style>\n",
              "\n",
              "      <script>\n",
              "        const buttonEl =\n",
              "          document.querySelector('#df-d1c5c536-453f-4439-a2c6-8a12d7b8e4ea button.colab-df-convert');\n",
              "        buttonEl.style.display =\n",
              "          google.colab.kernel.accessAllowed ? 'block' : 'none';\n",
              "\n",
              "        async function convertToInteractive(key) {\n",
              "          const element = document.querySelector('#df-d1c5c536-453f-4439-a2c6-8a12d7b8e4ea');\n",
              "          const dataTable =\n",
              "            await google.colab.kernel.invokeFunction('convertToInteractive',\n",
              "                                                     [key], {});\n",
              "          if (!dataTable) return;\n",
              "\n",
              "          const docLinkHtml = 'Like what you see? Visit the ' +\n",
              "            '<a target=\"_blank\" href=https://colab.research.google.com/notebooks/data_table.ipynb>data table notebook</a>'\n",
              "            + ' to learn more about interactive tables.';\n",
              "          element.innerHTML = '';\n",
              "          dataTable['output_type'] = 'display_data';\n",
              "          await google.colab.output.renderOutput(dataTable, element);\n",
              "          const docLink = document.createElement('div');\n",
              "          docLink.innerHTML = docLinkHtml;\n",
              "          element.appendChild(docLink);\n",
              "        }\n",
              "      </script>\n",
              "    </div>\n",
              "  </div>\n",
              "  "
            ]
          },
          "metadata": {},
          "execution_count": 14
        }
      ]
    },
    {
      "cell_type": "code",
      "source": [
        "thetas = [0.3, 2.5, 3.0]\n",
        "\n",
        "data_array = np.array(data_hp_scaled)\n",
        "\n",
        "total_epochs = 100\n",
        "error_traj2 = [0] * total_epochs\n",
        "\n",
        "for epoch in range(total_epochs):\n",
        "    thetas, epoch_error = gradient_descent(data_array, \n",
        "                                           thetas, \n",
        "                                           alpha=0.001, \n",
        "                                           model=multi_reg_single_step)\n",
        "\n",
        "    # store a history of errors\n",
        "    error_traj2[epoch] = epoch_error\n",
        "\n",
        "plt.plot(error_traj2)\n",
        "plt.xlabel('Epoch')\n",
        "plt.ylabel('Error')\n",
        "plt.title('Training of Mutli-Regression model (Scaled)');"
      ],
      "metadata": {
        "colab": {
          "base_uri": "https://localhost:8080/",
          "height": 295
        },
        "id": "ddUE-dJWC5g6",
        "outputId": "548c8a8e-fa08-44a9-a8fb-e6f6775c76b7"
      },
      "execution_count": 15,
      "outputs": [
        {
          "output_type": "display_data",
          "data": {
            "text/plain": [
              "<Figure size 432x288 with 1 Axes>"
            ],
            "image/png": "[encoded data removed]"
          },
          "metadata": {
            "needs_background": "light"
          }
        }
      ]
    },
    {
      "cell_type": "code",
      "source": [
        "# plt.plot(error_traj)\n",
        "plt.plot(error_traj1)\n",
        "plt.xlabel('Epoch')\n",
        "plt.ylabel('Error')\n",
        "plt.show();"
      ],
      "metadata": {
        "colab": {
          "base_uri": "https://localhost:8080/",
          "height": 290
        },
        "id": "0UEfg5MhDPSg",
        "outputId": "fb7eab03-9c0b-44ff-946d-b7e67b335b12"
      },
      "execution_count": 16,
      "outputs": [
        {
          "output_type": "display_data",
          "data": {
            "text/plain": [
              "<Figure size 432x288 with 1 Axes>"
            ],
            "image/png": "[encoded data removed]"
          },
          "metadata": {
            "needs_background": "light"
          }
        }
      ]
    },
    {
      "cell_type": "code",
      "source": [
        "thetas"
      ],
      "metadata": {
        "id": "CBwyVcp_bB8t",
        "outputId": "ec24e466-badd-4a8b-982c-171d37292144",
        "colab": {
          "base_uri": "https://localhost:8080/"
        }
      },
      "execution_count": 17,
      "outputs": [
        {
          "output_type": "execute_result",
          "data": {
            "text/plain": [
              "[-1.1836265692581043, 1.6080108493852967, 1.75040648792775]"
            ]
          },
          "metadata": {},
          "execution_count": 17
        }
      ]
    }
  ]
}